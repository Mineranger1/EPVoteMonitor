{
 "cells": [
  {
   "cell_type": "code",
   "id": "initial_id",
   "metadata": {
    "collapsed": true,
    "ExecuteTime": {
     "end_time": "2024-07-26T21:00:40.155849Z",
     "start_time": "2024-07-26T21:00:40.051229Z"
    }
   },
   "source": [
    "import pandas as pd\n",
    "import os\n",
    "from concurrent.futures import ThreadPoolExecutor, as_completed\n",
    "import requests\n",
    "import numpy as np"
   ],
   "outputs": [],
   "execution_count": null
  },
  {
   "metadata": {
    "ExecuteTime": {
     "start_time": "2024-07-26T21:00:40.053233Z"
    }
   },
   "cell_type": "code",
   "source": [
    "votes6 = os.path.join(\"Cleaned_data\", \"EP6_clean_data\",\"votes_EP_6.csv\")\n",
    "votes7 = os.path.join(\"Cleaned_data\", \"EP7_clean_data\",\"votes_EP_7.csv\")\n",
    "votes8= os.path.join(\"Cleaned_data\", \"EP8_clean_data\",\"votes_EP_8.csv\")\n",
    "votes9 =os.path.join(\"Cleaned_data\", \"EP9_clean_data\",\"votes_EP_9.csv\")\n",
    "votations6 = os.path.join(\"Cleaned_data\", \"EP6_clean_data\",\"votations_EP_6.csv\")\n",
    "votations7 = os.path.join(\"Cleaned_data\", \"EP7_clean_data\",\"votations_EP_7.csv\")\n",
    "votations8 = os.path.join(\"Cleaned_data\", \"EP8_clean_data\",\"votations_EP_8.csv\")\n",
    "votations9 = os.path.join(\"Cleaned_data\", \"EP9_clean_data\",\"votations_EP_9.csv\")\n",
    "mepinfo6 = os.path.join(\"Cleaned_data\", \"EP6_clean_data\",\"mep_info_EP_6.csv\")\n",
    "mepinfo7 = os.path.join(\"Cleaned_data\", \"EP7_clean_data\",\"mep_info_EP_7.csv\")\n",
    "mepinfo8 = os.path.join(\"Cleaned_data\", \"EP8_clean_data\",\"mep_info_EP_8.csv\")\n",
    "mepinfo9 = os.path.join(\"Cleaned_data\", \"EP9_clean_data\",\"mep_info_EP_9.csv\")"
   ],
   "id": "c9b1bbd620c536ce",
   "outputs": [],
   "execution_count": null
  },
  {
   "metadata": {
    "ExecuteTime": {
     "start_time": "2024-07-26T21:00:40.054227Z"
    }
   },
   "cell_type": "code",
   "source": [
    "ep_votes6 = pd.read_csv(votes6)\n",
    "ep_votes7 = pd.read_csv(votes7)\n",
    "ep_votes8 = pd.read_csv(votes8)\n",
    "ep_votes9 = pd.read_csv(votes9)\n",
    "ep_mepinfo6 = pd.read_csv(mepinfo6)\n",
    "ep_mepinfo7 = pd.read_csv(mepinfo7)\n",
    "ep_mepinfo8 = pd.read_csv(mepinfo8)\n",
    "ep_mepinfo9 = pd.read_csv(mepinfo9)\n",
    "ep_votations6 = pd.read_csv(votations6)\n",
    "ep_votations7 = pd.read_csv(votations7)\n",
    "ep_votations8 = pd.read_csv(votations8)\n",
    "ep_votations9 = pd.read_csv(votations9)"
   ],
   "id": "2f2ea24581712255",
   "outputs": [],
   "execution_count": null
  },
  {
   "metadata": {
    "ExecuteTime": {
     "start_time": "2024-07-26T21:00:40.055231Z"
    }
   },
   "cell_type": "code",
   "source": "votations_combined = votations_combined.astype({'FinalVote': 'Int64', 'Vote': 'Int64',\"No\":\"Int64\",\"Abs\":\"Int64\",})\n",
   "id": "f61bf60e4949f863",
   "outputs": [],
   "execution_count": null
  },
  {
   "metadata": {
    "ExecuteTime": {
     "start_time": "2024-07-26T21:00:40.058226Z"
    }
   },
   "cell_type": "code",
   "source": "",
   "id": "8d009753bf760f78",
   "outputs": [],
   "execution_count": null
  },
  {
   "metadata": {
    "ExecuteTime": {
     "start_time": "2024-07-26T21:00:40.059224Z"
    }
   },
   "cell_type": "code",
   "source": [
    "ep_votations6 = ep_votations6.astype({'FinalVote': 'Int64', 'Vote': 'Int64',\"No\":\"Int64\",\"Abs\":\"Int64\",})\n",
    "ep_votations7 = ep_votations7.astype({'FinalVote': 'Int64', 'Vote': 'Int64',\"No\":\"Int64\",\"Abs\":\"Int64\",})\n",
    "ep_votations8 = ep_votations8.astype({'FinalVote': 'Int64', 'Vote': 'Int64',\"No\":\"Int64\",\"Abs\":\"Int64\",})\n",
    "ep_votations9 = ep_votations9.astype({'FinalVote': 'Int64', 'Vote': 'Int64',\"No\":\"Int64\",\"Abs\":\"Int64\",})"
   ],
   "id": "4981e1ce95790c61",
   "outputs": [],
   "execution_count": null
  },
  {
   "metadata": {
    "ExecuteTime": {
     "start_time": "2024-07-26T21:00:40.060222Z"
    }
   },
   "cell_type": "code",
   "source": [
    "ep_votations6.Date = pd.to_datetime(ep_votations6.Date)\n",
    "ep_votations7.Date = pd.to_datetime(ep_votations7.Date)\n",
    "ep_votations8.Date = pd.to_datetime(ep_votations8.Date)\n",
    "ep_votations9.Date = pd.to_datetime(ep_votations9.Date)"
   ],
   "id": "4996127438a82a87",
   "outputs": [],
   "execution_count": null
  },
  {
   "metadata": {
    "ExecuteTime": {
     "start_time": "2024-07-26T21:00:40.061223Z"
    }
   },
   "cell_type": "code",
   "source": "votations_combined.Date = pd.to_datetime(votations_combined.Date)",
   "id": "2c062665ca212da7",
   "outputs": [],
   "execution_count": null
  },
  {
   "metadata": {
    "ExecuteTime": {
     "start_time": "2024-07-26T21:00:40.062222Z"
    }
   },
   "cell_type": "code",
   "source": "votations_combined.dtypes",
   "id": "8c0dc9ef37a1b8ff",
   "outputs": [],
   "execution_count": null
  },
  {
   "metadata": {
    "ExecuteTime": {
     "start_time": "2024-07-26T21:00:40.063222Z"
    }
   },
   "cell_type": "code",
   "source": "mepinfo_combined = pd.concat([ep_mepinfo6,ep_mepinfo7,ep_mepinfo8,ep_mepinfo9])",
   "id": "c0c720376dd492e6",
   "outputs": [],
   "execution_count": null
  },
  {
   "metadata": {
    "ExecuteTime": {
     "start_time": "2024-07-26T21:00:40.064225Z"
    }
   },
   "cell_type": "code",
   "source": [
    "ep_mepinfo6.Start =pd.to_datetime(ep_mepinfo6.Start)\n",
    "ep_mepinfo7.Start = pd.to_datetime(ep_mepinfo7.Start)\n",
    "ep_mepinfo8.Start = pd.to_datetime(ep_mepinfo8.Start)\n",
    "ep_mepinfo9.Start = pd.to_datetime(ep_mepinfo9.Start)"
   ],
   "id": "7345e48e945529ce",
   "outputs": [],
   "execution_count": null
  },
  {
   "metadata": {
    "ExecuteTime": {
     "start_time": "2024-07-26T21:00:40.066225Z"
    }
   },
   "cell_type": "code",
   "source": "mepinfo_combined.Start = pd.to_datetime(mepinfo_combined.Start)",
   "id": "76c6f18e2d758887",
   "outputs": [],
   "execution_count": null
  },
  {
   "metadata": {
    "ExecuteTime": {
     "start_time": "2024-07-26T21:00:40.067439Z"
    }
   },
   "cell_type": "code",
   "source": [
    "ep_mepinfo6.End = pd.to_datetime(ep_mepinfo6.End)\n",
    "ep_mepinfo7.End = pd.to_datetime(ep_mepinfo7.End)\n",
    "ep_mepinfo8.End = pd.to_datetime(ep_mepinfo8.End)\n",
    "ep_mepinfo9.End = pd.to_datetime(ep_mepinfo9.End)"
   ],
   "id": "1496598802ff323",
   "outputs": [],
   "execution_count": null
  },
  {
   "metadata": {
    "ExecuteTime": {
     "start_time": "2024-07-26T21:00:40.068225Z"
    }
   },
   "cell_type": "code",
   "source": [
    "ep_votes6 = ep_votes6[['MepId',\"VoteId\",\"Vote\"]]\n",
    "ep_votes7 = ep_votes7[['MepId',\"VoteId\",\"Vote\"]]\n",
    "ep_votes8 = ep_votes8[['MepId',\"VoteId\",\"Vote\"]]\n",
    "ep_votes9 = ep_votes9[['MepId',\"VoteId\",\"Vote\"]]"
   ],
   "id": "57f30dabe0870df7",
   "outputs": [],
   "execution_count": null
  },
  {
   "metadata": {
    "ExecuteTime": {
     "start_time": "2024-07-26T21:00:40.070228Z"
    }
   },
   "cell_type": "code",
   "source": "ep_votes6\n",
   "id": "46bc1fb54834e819",
   "outputs": [],
   "execution_count": null
  },
  {
   "metadata": {
    "ExecuteTime": {
     "start_time": "2024-07-26T21:00:40.071226Z"
    }
   },
   "cell_type": "code",
   "source": "ep_mepinfo7",
   "id": "3870e8e69d7f8e94",
   "outputs": [],
   "execution_count": null
  },
  {
   "metadata": {},
   "cell_type": "markdown",
   "source": "",
   "id": "1fce312eb77960d1"
  },
  {
   "metadata": {
    "ExecuteTime": {
     "start_time": "2024-07-26T21:00:40.073226Z"
    }
   },
   "cell_type": "code",
   "source": "mepinfo_combined.End = pd.to_datetime(mepinfo_combined.End)",
   "id": "3a9b4f4c56d1534c",
   "outputs": [],
   "execution_count": null
  },
  {
   "metadata": {
    "ExecuteTime": {
     "start_time": "2024-07-26T21:00:40.074229Z"
    }
   },
   "cell_type": "code",
   "source": "votes_combined = pd.concat([ep_votes6,ep_votes7,ep_votes8,ep_votes9])",
   "id": "65cf2f4d8fbf0875",
   "outputs": [],
   "execution_count": null
  },
  {
   "metadata": {
    "ExecuteTime": {
     "start_time": "2024-07-26T21:00:40.075228Z"
    }
   },
   "cell_type": "code",
   "source": "votes_combined.EP_ID.value_counts()",
   "id": "d704b588b4a19b75",
   "outputs": [],
   "execution_count": null
  },
  {
   "metadata": {
    "ExecuteTime": {
     "start_time": "2024-07-26T21:00:40.076229Z"
    }
   },
   "cell_type": "code",
   "source": [
    "base_directory = os.path.join(\"Cleaned_data\",\"Merged_dataset\")\n",
    "os.makedirs(base_directory, exist_ok=True)"
   ],
   "id": "42594042473daf2a",
   "outputs": [],
   "execution_count": null
  },
  {
   "metadata": {
    "ExecuteTime": {
     "start_time": "2024-07-26T21:00:40.078770Z"
    }
   },
   "cell_type": "code",
   "source": [
    "mepinfo_combined.to_csv(os.path.join(base_directory, \"mep_info.csv\"), index=False)\n",
    "votes_combined.to_csv(os.path.join(base_directory, \"votes.csv\"), index=False)\n",
    "votations_combined.to_csv(os.path.join(base_directory, \"votations.csv\"), index=False)"
   ],
   "id": "4dc208acd7dfd297",
   "outputs": [],
   "execution_count": null
  },
  {
   "metadata": {
    "ExecuteTime": {
     "end_time": "2024-07-26T21:00:40.185849Z",
     "start_time": "2024-07-26T21:00:40.079768Z"
    }
   },
   "cell_type": "code",
   "source": [
    "def get_memberships_database(memberships_df):\n",
    "    temp_df = memberships_df.copy()\n",
    "    memberships_database = pd.DataFrame()\n",
    "    memberships_database['MepId'] = temp_df['identifier']\n",
    "    memberships_database['OrgId'] = temp_df['org_id']\n",
    "    memberships_database['Classification'] = temp_df['membershipClassification']\n",
    "    memberships_database['Start'] = temp_df['memberDuring.startDate']\n",
    "    memberships_database['End'] = temp_df['memberDuring.endDate']\n",
    "    memberships_database['Label'] = temp_df['org_label']\n",
    "    return memberships_database"
   ],
   "id": "e37e21f1d9de70aa",
   "outputs": [],
   "execution_count": null
  },
  {
   "metadata": {
    "ExecuteTime": {
     "start_time": "2024-07-26T21:00:40.081764Z"
    }
   },
   "cell_type": "code",
   "source": [
    "def get_memberships_df(mep_df, org_df):\n",
    "    with ThreadPoolExecutor() as executor:\n",
    "        futures = [executor.submit(get_membership, identifier) for identifier in mep_df['MepId']]\n",
    "        results = [future.result() for future in as_completed(futures)]\n",
    "\n",
    "    memberships_df = pd.concat(results, ignore_index=True)\n",
    "    memberships_df.rename(columns={'organization': 'org_id'}, inplace=True)\n",
    "    memberships_df = pd.merge(memberships_df, org_df, on='org_id', how='left')\n",
    "    return memberships_df"
   ],
   "id": "70f1445e98f67b7",
   "outputs": [],
   "execution_count": null
  },
  {
   "metadata": {
    "ExecuteTime": {
     "start_time": "2024-07-26T21:00:40.082764Z"
    }
   },
   "cell_type": "code",
   "source": [
    "def get_membership(identifier):\n",
    "    url = f\"https://data.europarl.europa.eu/api/v2/meps/{identifier}?format=application%2Fld%2Bjson\"\n",
    "    try:\n",
    "        response = requests.get(url)\n",
    "        if response.status_code == 200:\n",
    "            data = response.json()\n",
    "        response.raise_for_status()\n",
    "    except requests.exceptions.RequestException as e:\n",
    "        print(f\"Error fetching data from URL: {url} - {e}\")\n",
    "        return pd.DataFrame()\n",
    "    try:\n",
    "        df = pd.json_normalize(data['data'], record_path=['hasMembership'],meta=['citizenship','bday','hasGender'])\n",
    "    except ValueError as e:\n",
    "        print(f\"Error parsing JSON data: {e}\")\n",
    "        return pd.DataFrame()  # Return an empty DataFrame on JSON parsing error\n",
    "    df1 = df[(df['membershipClassification'].isnull()) & (df['role']==\"def/ep-roles/MEMBER_PARLIAMENT\")]\n",
    "    df2 = df[df['membershipClassification'].isin([\"def/ep-entities/EU_POLITICAL_GROUP\",\"def/ep-entities/NATIONAL_CHAMBER\"])]\n",
    "    df = pd.concat([df1,df2])\n",
    "    try:\n",
    "        df = df[['organization','membershipClassification','memberDuring.startDate','memberDuring.endDate','citizenship','bday','hasGender']].copy()\n",
    "    except KeyError as e:\n",
    "        df = df[['organization','membershipClassification','memberDuring.startDate','citizenship','bday','hasGender']].copy()\n",
    "        df.loc[:, 'memberDuring.endDate'] = np.NaN\n",
    "    df.loc[:,'identifier'] = identifier\n",
    "    return df"
   ],
   "id": "9e585aad2fec3a3e",
   "outputs": [],
   "execution_count": null
  },
  {
   "metadata": {
    "ExecuteTime": {
     "start_time": "2024-07-26T21:00:40.084770Z"
    }
   },
   "cell_type": "code",
   "source": [
    "def get_epgs():\n",
    "    url = 'https://data.europarl.europa.eu/api/v2/corporate-bodies?body-classification=EU_POLITICAL_GROUP&format=application%2Fld%2Bjson&offset=0'\n",
    "    try:\n",
    "        response = requests.get(url)\n",
    "        if response.status_code == 200:\n",
    "            data = response.json()\n",
    "        response.raise_for_status()\n",
    "    except requests.exceptions.RequestException as e:\n",
    "        print(f\"Error fetching data from URL: {url} - {e}\")\n",
    "        return pd.DataFrame()\n",
    "    try:\n",
    "        df = pd.json_normalize(data['data'])\n",
    "    except ValueError as e:\n",
    "        print(f\"Error parsing JSON data: {e}\")\n",
    "        return pd.DataFrame()  # Return an empty DataFrame on JSON parsing error\n",
    "    df=df[['id','label']]\n",
    "    epg_df = df.rename(columns={'id':'org_id',\"label\":\"org_label\"})\n",
    "    return epg_df\n",
    "def get_parties():\n",
    "    url = 'https://data.europarl.europa.eu/api/v2/corporate-bodies?body-classification=NATIONAL_CHAMBER&format=application%2Fld%2Bjson&offset=0'\n",
    "    try:\n",
    "        response = requests.get(url)\n",
    "        if response.status_code == 200:\n",
    "            data = response.json()\n",
    "        response.raise_for_status()\n",
    "    except requests.exceptions.RequestException as e:\n",
    "        print(f\"Error fetching data from URL: {url} - {e}\")\n",
    "        return pd.DataFrame()\n",
    "    try:\n",
    "        df = pd.json_normalize(data['data'])\n",
    "    except ValueError as e:\n",
    "        print(f\"Error parsing JSON data: {e}\")\n",
    "        return pd.DataFrame()  # Return an empty DataFrame on JSON parsing error\n",
    "    df=df[['id','label']]\n",
    "    party_df = df.rename(columns={'id':'org_id',\"label\":\"org_label\"})\n",
    "    return party_df\n",
    "def generate_ep_df(ep_number):\n",
    "    # Create a list of org_ids and org_labels based on the ep_number\n",
    "    org_ids = [f'org/ep-{i}' for i in range(0, ep_number + 1)]\n",
    "    org_labels = [f'EP{i}' for i in range(0, ep_number + 1)]\n",
    "\n",
    "    # Create a DataFrame from the generated lists\n",
    "    ep_df = pd.DataFrame({'org_id': org_ids, 'org_label': org_labels})\n",
    "    return ep_df"
   ],
   "id": "12c8028b9c48f897",
   "outputs": [],
   "execution_count": null
  },
  {
   "metadata": {
    "ExecuteTime": {
     "start_time": "2024-07-26T21:00:40.085782Z"
    }
   },
   "cell_type": "code",
   "source": [
    "def get_memberships_database(memberships_df):\n",
    "    temp_df = memberships_df.copy()\n",
    "    memberships_database = pd.DataFrame()\n",
    "    memberships_database['MepId'] = temp_df['identifier']\n",
    "    memberships_database['OrgId'] = temp_df['org_id']\n",
    "    memberships_database['Classification'] = temp_df['membershipClassification']\n",
    "    memberships_database['Start'] = temp_df['memberDuring.startDate']\n",
    "    memberships_database['End'] = temp_df['memberDuring.endDate']\n",
    "    memberships_database['Label'] = temp_df['org_label']\n",
    "    return memberships_database"
   ],
   "id": "c1a04cad3b1ef461",
   "outputs": [],
   "execution_count": null
  },
  {
   "metadata": {
    "ExecuteTime": {
     "start_time": "2024-07-26T21:00:40.086787Z"
    }
   },
   "cell_type": "code",
   "source": [
    "epg_df = get_epgs()\n",
    "party_df = get_parties()\n",
    "ep_df = generate_ep_df(9)\n",
    "org_df = pd.concat([epg_df, party_df,ep_df], ignore_index=True)"
   ],
   "id": "f246447296e306e9",
   "outputs": [],
   "execution_count": null
  },
  {
   "metadata": {
    "ExecuteTime": {
     "start_time": "2024-07-26T21:00:40.088781Z"
    }
   },
   "cell_type": "code",
   "source": "ep_mepinfo7",
   "id": "18082ea5c91842a9",
   "outputs": [],
   "execution_count": null
  },
  {
   "metadata": {
    "ExecuteTime": {
     "start_time": "2024-07-26T21:00:40.089782Z"
    }
   },
   "cell_type": "code",
   "source": [
    "membership6_df = get_memberships_df(ep_mepinfo6,org_df)\n",
    "membership7_df = get_memberships_df(ep_mepinfo7,org_df)\n",
    "membership8_df = get_memberships_df(ep_mepinfo8,org_df)\n",
    "membership9_df = get_memberships_df(ep_mepinfo9,org_df)"
   ],
   "id": "a52f4dd9a83e9603",
   "outputs": [],
   "execution_count": null
  },
  {
   "metadata": {
    "ExecuteTime": {
     "start_time": "2024-07-26T21:00:40.091786Z"
    }
   },
   "cell_type": "code",
   "source": "membership6_df = get_memberships_df(ep_mepinfo6,org_df)",
   "id": "65f68aa9064ff6b8",
   "outputs": [],
   "execution_count": null
  },
  {
   "metadata": {
    "ExecuteTime": {
     "start_time": "2024-07-26T21:00:40.092788Z"
    }
   },
   "cell_type": "code",
   "source": "membership6_df",
   "id": "1ac514ddc5920328",
   "outputs": [],
   "execution_count": null
  },
  {
   "metadata": {
    "ExecuteTime": {
     "start_time": "2024-07-26T21:00:40.093787Z"
    }
   },
   "cell_type": "code",
   "source": "membership8_df = get_memberships_df(ep_mepinfo8,org_df)\n",
   "id": "20c17797516beed4",
   "outputs": [],
   "execution_count": null
  },
  {
   "metadata": {
    "ExecuteTime": {
     "end_time": "2024-07-26T21:00:40.200379Z",
     "start_time": "2024-07-26T21:00:40.095788Z"
    }
   },
   "cell_type": "code",
   "source": "membership8_df",
   "id": "6cf2b8234c5cdd0e",
   "outputs": [],
   "execution_count": null
  },
  {
   "metadata": {
    "ExecuteTime": {
     "start_time": "2024-07-26T21:00:40.096787Z"
    }
   },
   "cell_type": "code",
   "source": "membership7_df = get_memberships_df(ep_mepinfo7,org_df)",
   "id": "4dfe86cefde0004b",
   "outputs": [],
   "execution_count": null
  },
  {
   "metadata": {
    "ExecuteTime": {
     "start_time": "2024-07-26T21:00:40.097785Z"
    }
   },
   "cell_type": "code",
   "source": "membership9_df = get_memberships_df(ep_mepinfo9,org_df)",
   "id": "902019ae4b516cf9",
   "outputs": [],
   "execution_count": null
  },
  {
   "metadata": {
    "ExecuteTime": {
     "start_time": "2024-07-26T21:00:40.098789Z"
    }
   },
   "cell_type": "code",
   "source": "membership9_df",
   "id": "970879d1259fa7f6",
   "outputs": [],
   "execution_count": null
  },
  {
   "metadata": {
    "ExecuteTime": {
     "start_time": "2024-07-26T21:00:40.100305Z"
    }
   },
   "cell_type": "code",
   "source": [
    "mem9db = get_memberships_database(membership9_df)\n",
    "mem6db = get_memberships_database(membership6_df)\n",
    "mem7db = get_memberships_database(membership7_df)\n",
    "mem8db = get_memberships_database(membership8_df)"
   ],
   "id": "16a1c3fd76601ab4",
   "outputs": [],
   "execution_count": null
  },
  {
   "metadata": {
    "ExecuteTime": {
     "end_time": "2024-07-26T21:00:40.207911Z",
     "start_time": "2024-07-26T21:00:40.102315Z"
    }
   },
   "cell_type": "code",
   "source": "",
   "id": "aa311e309f1927c",
   "outputs": [],
   "execution_count": null
  }
 ],
 "metadata": {
  "kernelspec": {
   "display_name": "Python 3",
   "language": "python",
   "name": "python3"
  },
  "language_info": {
   "codemirror_mode": {
    "name": "ipython",
    "version": 2
   },
   "file_extension": ".py",
   "mimetype": "text/x-python",
   "name": "python",
   "nbconvert_exporter": "python",
   "pygments_lexer": "ipython2",
   "version": "2.7.6"
  }
 },
 "nbformat": 4,
 "nbformat_minor": 5
}
