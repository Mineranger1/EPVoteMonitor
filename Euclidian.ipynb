{
 "cells": [
  {
   "cell_type": "code",
   "id": "initial_id",
   "metadata": {
    "collapsed": true,
    "ExecuteTime": {
     "end_time": "2024-07-28T09:42:04.425478Z",
     "start_time": "2024-07-28T09:42:04.419359Z"
    }
   },
   "source": [
    "import os.path\n",
    "\n",
    "import pandas as pd\n",
    "import numpy as np\n",
    "from scipy.spatial.distance import pdist, squareform\n"
   ],
   "outputs": [],
   "execution_count": 21
  },
  {
   "metadata": {
    "ExecuteTime": {
     "end_time": "2024-07-28T09:42:05.673690Z",
     "start_time": "2024-07-28T09:42:04.912910Z"
    }
   },
   "cell_type": "code",
   "source": [
    "votes = pd.read_csv(os.path.join(\"Cleaned_data\",\"EP6_clean_data\",\"wnominate_ep6_votes.csv\"))\n",
    "mep_info = pd.read_csv(os.path.join(\"Cleaned_data\",\"EP6_clean_data\",\"mep_info_EP_6.csv\")) "
   ],
   "id": "236b64f55122a374",
   "outputs": [],
   "execution_count": 22
  },
  {
   "metadata": {},
   "cell_type": "markdown",
   "source": "",
   "id": "32f5cd482ea178e6"
  },
  {
   "metadata": {
    "ExecuteTime": {
     "end_time": "2024-07-28T09:42:06.891929Z",
     "start_time": "2024-07-28T09:42:06.874547Z"
    }
   },
   "cell_type": "code",
   "source": "mep_info",
   "id": "80d0c60ea240538d",
   "outputs": [
    {
     "data": {
      "text/plain": [
       "     MepId        Fname      Lname              FullName Activ  \\\n",
       "0    28469       Adamos     Adamou         Adamos ADAMOU   yes   \n",
       "1    28302        Filip     Adwent          Filip ADWENT    no   \n",
       "2    28975     Vittorio  AGNOLETTO    Vittorio AGNOLETTO   yes   \n",
       "3    28367     Gabriele  Albertini    Gabriele ALBERTINI   yes   \n",
       "4    28512          Jim   Allister          Jim ALLISTER   yes   \n",
       "..     ...          ...        ...                   ...   ...   \n",
       "935  95280  Alin Lucian    Antochi   Alin Lucian ANTOCHI   yes   \n",
       "936  95281      Viorica    Dăncilă       Viorica DĂNCILĂ   yes   \n",
       "937  95704  Ioan Lucian   Hămbășan  Ioan Lucian HĂMBĂȘAN   yes   \n",
       "938  96101       Daniel   Bautista       Daniel BAUTISTA   yes   \n",
       "939  23852        Liene    Liepiņa         Liene LIEPIŅA   yes   \n",
       "\n",
       "            Country  \\\n",
       "0            Cyprus   \n",
       "1            Poland   \n",
       "2             Italy   \n",
       "3             Italy   \n",
       "4    United Kingdom   \n",
       "..              ...   \n",
       "935         Romania   \n",
       "936         Romania   \n",
       "937         Romania   \n",
       "938           Spain   \n",
       "939          Latvia   \n",
       "\n",
       "                                                             Party      EPG  \\\n",
       "0    Anorthotiko Komma Ergazomenou Laou - Aristera - Nees Dynameis  GUE–NGL   \n",
       "1                                             Liga Polskich Rodzin  IND/DEM   \n",
       "2          Partito della Rifondazione Comunista - Sinistra Europea  GUE–NGL   \n",
       "3                                                     Forza Italia   EPP-ED   \n",
       "4                                             Traditional Unionist       NI   \n",
       "..                                                             ...      ...   \n",
       "935                                       Partidul Social Democrat      PES   \n",
       "936                                       Partidul Social Democrat      PES   \n",
       "937                                      Partidul Democrat-Liberal   EPP-ED   \n",
       "938                                                Partido Popular   EPP-ED   \n",
       "939                                                  Jaunais laiks   EPP-ED   \n",
       "\n",
       "          Start         End    Birthday  Gender  \n",
       "0    2004-07-20  2009-12-31  1950-10-30    MALE  \n",
       "1    2004-07-20  2005-06-26  1955-08-31    MALE  \n",
       "2    2004-07-20  2009-12-31  1958-03-06    MALE  \n",
       "3    2004-07-20  2009-12-31  1950-07-06    MALE  \n",
       "4    2004-07-20  2009-12-31  1953-04-02    MALE  \n",
       "..          ...         ...         ...     ...  \n",
       "935  2009-01-21  2009-12-31  1972-12-10    MALE  \n",
       "936  2009-01-21  2009-12-31  1963-12-16  FEMALE  \n",
       "937  2009-03-01  2009-12-31  1976-01-11    MALE  \n",
       "938  2009-03-26  2009-12-31  1974-03-03    MALE  \n",
       "939  2009-03-19  2009-12-31  1957-07-26  FEMALE  \n",
       "\n",
       "[940 rows x 12 columns]"
      ],
      "text/html": [
       "<div>\n",
       "<style scoped>\n",
       "    .dataframe tbody tr th:only-of-type {\n",
       "        vertical-align: middle;\n",
       "    }\n",
       "\n",
       "    .dataframe tbody tr th {\n",
       "        vertical-align: top;\n",
       "    }\n",
       "\n",
       "    .dataframe thead th {\n",
       "        text-align: right;\n",
       "    }\n",
       "</style>\n",
       "<table border=\"1\" class=\"dataframe\">\n",
       "  <thead>\n",
       "    <tr style=\"text-align: right;\">\n",
       "      <th></th>\n",
       "      <th>MepId</th>\n",
       "      <th>Fname</th>\n",
       "      <th>Lname</th>\n",
       "      <th>FullName</th>\n",
       "      <th>Activ</th>\n",
       "      <th>Country</th>\n",
       "      <th>Party</th>\n",
       "      <th>EPG</th>\n",
       "      <th>Start</th>\n",
       "      <th>End</th>\n",
       "      <th>Birthday</th>\n",
       "      <th>Gender</th>\n",
       "    </tr>\n",
       "  </thead>\n",
       "  <tbody>\n",
       "    <tr>\n",
       "      <th>0</th>\n",
       "      <td>28469</td>\n",
       "      <td>Adamos</td>\n",
       "      <td>Adamou</td>\n",
       "      <td>Adamos ADAMOU</td>\n",
       "      <td>yes</td>\n",
       "      <td>Cyprus</td>\n",
       "      <td>Anorthotiko Komma Ergazomenou Laou - Aristera - Nees Dynameis</td>\n",
       "      <td>GUE–NGL</td>\n",
       "      <td>2004-07-20</td>\n",
       "      <td>2009-12-31</td>\n",
       "      <td>1950-10-30</td>\n",
       "      <td>MALE</td>\n",
       "    </tr>\n",
       "    <tr>\n",
       "      <th>1</th>\n",
       "      <td>28302</td>\n",
       "      <td>Filip</td>\n",
       "      <td>Adwent</td>\n",
       "      <td>Filip ADWENT</td>\n",
       "      <td>no</td>\n",
       "      <td>Poland</td>\n",
       "      <td>Liga Polskich Rodzin</td>\n",
       "      <td>IND/DEM</td>\n",
       "      <td>2004-07-20</td>\n",
       "      <td>2005-06-26</td>\n",
       "      <td>1955-08-31</td>\n",
       "      <td>MALE</td>\n",
       "    </tr>\n",
       "    <tr>\n",
       "      <th>2</th>\n",
       "      <td>28975</td>\n",
       "      <td>Vittorio</td>\n",
       "      <td>AGNOLETTO</td>\n",
       "      <td>Vittorio AGNOLETTO</td>\n",
       "      <td>yes</td>\n",
       "      <td>Italy</td>\n",
       "      <td>Partito della Rifondazione Comunista - Sinistra Europea</td>\n",
       "      <td>GUE–NGL</td>\n",
       "      <td>2004-07-20</td>\n",
       "      <td>2009-12-31</td>\n",
       "      <td>1958-03-06</td>\n",
       "      <td>MALE</td>\n",
       "    </tr>\n",
       "    <tr>\n",
       "      <th>3</th>\n",
       "      <td>28367</td>\n",
       "      <td>Gabriele</td>\n",
       "      <td>Albertini</td>\n",
       "      <td>Gabriele ALBERTINI</td>\n",
       "      <td>yes</td>\n",
       "      <td>Italy</td>\n",
       "      <td>Forza Italia</td>\n",
       "      <td>EPP-ED</td>\n",
       "      <td>2004-07-20</td>\n",
       "      <td>2009-12-31</td>\n",
       "      <td>1950-07-06</td>\n",
       "      <td>MALE</td>\n",
       "    </tr>\n",
       "    <tr>\n",
       "      <th>4</th>\n",
       "      <td>28512</td>\n",
       "      <td>Jim</td>\n",
       "      <td>Allister</td>\n",
       "      <td>Jim ALLISTER</td>\n",
       "      <td>yes</td>\n",
       "      <td>United Kingdom</td>\n",
       "      <td>Traditional Unionist</td>\n",
       "      <td>NI</td>\n",
       "      <td>2004-07-20</td>\n",
       "      <td>2009-12-31</td>\n",
       "      <td>1953-04-02</td>\n",
       "      <td>MALE</td>\n",
       "    </tr>\n",
       "    <tr>\n",
       "      <th>...</th>\n",
       "      <td>...</td>\n",
       "      <td>...</td>\n",
       "      <td>...</td>\n",
       "      <td>...</td>\n",
       "      <td>...</td>\n",
       "      <td>...</td>\n",
       "      <td>...</td>\n",
       "      <td>...</td>\n",
       "      <td>...</td>\n",
       "      <td>...</td>\n",
       "      <td>...</td>\n",
       "      <td>...</td>\n",
       "    </tr>\n",
       "    <tr>\n",
       "      <th>935</th>\n",
       "      <td>95280</td>\n",
       "      <td>Alin Lucian</td>\n",
       "      <td>Antochi</td>\n",
       "      <td>Alin Lucian ANTOCHI</td>\n",
       "      <td>yes</td>\n",
       "      <td>Romania</td>\n",
       "      <td>Partidul Social Democrat</td>\n",
       "      <td>PES</td>\n",
       "      <td>2009-01-21</td>\n",
       "      <td>2009-12-31</td>\n",
       "      <td>1972-12-10</td>\n",
       "      <td>MALE</td>\n",
       "    </tr>\n",
       "    <tr>\n",
       "      <th>936</th>\n",
       "      <td>95281</td>\n",
       "      <td>Viorica</td>\n",
       "      <td>Dăncilă</td>\n",
       "      <td>Viorica DĂNCILĂ</td>\n",
       "      <td>yes</td>\n",
       "      <td>Romania</td>\n",
       "      <td>Partidul Social Democrat</td>\n",
       "      <td>PES</td>\n",
       "      <td>2009-01-21</td>\n",
       "      <td>2009-12-31</td>\n",
       "      <td>1963-12-16</td>\n",
       "      <td>FEMALE</td>\n",
       "    </tr>\n",
       "    <tr>\n",
       "      <th>937</th>\n",
       "      <td>95704</td>\n",
       "      <td>Ioan Lucian</td>\n",
       "      <td>Hămbășan</td>\n",
       "      <td>Ioan Lucian HĂMBĂȘAN</td>\n",
       "      <td>yes</td>\n",
       "      <td>Romania</td>\n",
       "      <td>Partidul Democrat-Liberal</td>\n",
       "      <td>EPP-ED</td>\n",
       "      <td>2009-03-01</td>\n",
       "      <td>2009-12-31</td>\n",
       "      <td>1976-01-11</td>\n",
       "      <td>MALE</td>\n",
       "    </tr>\n",
       "    <tr>\n",
       "      <th>938</th>\n",
       "      <td>96101</td>\n",
       "      <td>Daniel</td>\n",
       "      <td>Bautista</td>\n",
       "      <td>Daniel BAUTISTA</td>\n",
       "      <td>yes</td>\n",
       "      <td>Spain</td>\n",
       "      <td>Partido Popular</td>\n",
       "      <td>EPP-ED</td>\n",
       "      <td>2009-03-26</td>\n",
       "      <td>2009-12-31</td>\n",
       "      <td>1974-03-03</td>\n",
       "      <td>MALE</td>\n",
       "    </tr>\n",
       "    <tr>\n",
       "      <th>939</th>\n",
       "      <td>23852</td>\n",
       "      <td>Liene</td>\n",
       "      <td>Liepiņa</td>\n",
       "      <td>Liene LIEPIŅA</td>\n",
       "      <td>yes</td>\n",
       "      <td>Latvia</td>\n",
       "      <td>Jaunais laiks</td>\n",
       "      <td>EPP-ED</td>\n",
       "      <td>2009-03-19</td>\n",
       "      <td>2009-12-31</td>\n",
       "      <td>1957-07-26</td>\n",
       "      <td>FEMALE</td>\n",
       "    </tr>\n",
       "  </tbody>\n",
       "</table>\n",
       "<p>940 rows × 12 columns</p>\n",
       "</div>"
      ]
     },
     "execution_count": 23,
     "metadata": {},
     "output_type": "execute_result"
    }
   ],
   "execution_count": 23
  },
  {
   "metadata": {
    "ExecuteTime": {
     "end_time": "2024-07-28T09:42:07.855839Z",
     "start_time": "2024-07-28T09:42:07.850582Z"
    }
   },
   "cell_type": "code",
   "source": [
    "def recode(vote):\n",
    "    if vote == 1:\n",
    "        return 1\n",
    "    if vote == 2:\n",
    "        return 6\n",
    "    else:\n",
    "        return 9"
   ],
   "id": "d475cf370c06f2ff",
   "outputs": [],
   "execution_count": 24
  },
  {
   "metadata": {
    "ExecuteTime": {
     "end_time": "2024-07-28T09:42:10.976315Z",
     "start_time": "2024-07-28T09:42:08.590360Z"
    }
   },
   "cell_type": "code",
   "source": "votes = votes.map(recode)",
   "id": "7eec0ddd02bfba8b",
   "outputs": [],
   "execution_count": 25
  },
  {
   "metadata": {
    "ExecuteTime": {
     "end_time": "2024-07-28T09:42:11.760253Z",
     "start_time": "2024-07-28T09:42:11.753949Z"
    }
   },
   "cell_type": "code",
   "source": "votes.columns",
   "id": "c51c387ff1338723",
   "outputs": [
    {
     "data": {
      "text/plain": [
       "Index(['1', '2', '3', '4', '5', '6', '7', '8', '9', '10',\n",
       "       ...\n",
       "       '6191', '6192', '6193', '6194', '6195', '6196', '6197', '6198', '6199',\n",
       "       '6200'],\n",
       "      dtype='object', length=6199)"
      ]
     },
     "execution_count": 26,
     "metadata": {},
     "output_type": "execute_result"
    }
   ],
   "execution_count": 26
  },
  {
   "metadata": {
    "ExecuteTime": {
     "end_time": "2024-07-28T09:42:21.160782Z",
     "start_time": "2024-07-28T09:42:12.464076Z"
    }
   },
   "cell_type": "code",
   "source": "squared_euclidean_distances = squareform(pdist(votes, metric='sqeuclidean'))\n",
   "id": "60e47fd89c9f8cfc",
   "outputs": [],
   "execution_count": 27
  },
  {
   "metadata": {
    "ExecuteTime": {
     "end_time": "2024-07-28T09:42:21.682046Z",
     "start_time": "2024-07-28T09:42:21.676555Z"
    }
   },
   "cell_type": "code",
   "source": "squared_euclidean_distances",
   "id": "84ef52896215bcc6",
   "outputs": [
    {
     "data": {
      "text/plain": [
       "array([[     0., 173980.,  99802., ..., 175296., 179985., 180925.],\n",
       "       [173980.,      0., 217966., ...,  47756.,  30009.,  30679.],\n",
       "       [ 99802., 217966.,      0., ..., 212096., 220121., 218155.],\n",
       "       ...,\n",
       "       [175296.,  47756., 212096., ...,      0.,  23319.,  24689.],\n",
       "       [179985.,  30009., 220121., ...,  23319.,      0.,   9750.],\n",
       "       [180925.,  30679., 218155., ...,  24689.,   9750.,      0.]])"
      ]
     },
     "execution_count": 28,
     "metadata": {},
     "output_type": "execute_result"
    }
   ],
   "execution_count": 28
  },
  {
   "metadata": {
    "ExecuteTime": {
     "end_time": "2024-07-28T09:42:36.948214Z",
     "start_time": "2024-07-28T09:42:36.944256Z"
    }
   },
   "cell_type": "code",
   "source": "distance_matrix = pd.DataFrame(squared_euclidean_distances, index=mep_info['MepId'], columns=mep_info['MepId'])\n",
   "id": "233042d5465a3dfe",
   "outputs": [],
   "execution_count": 29
  },
  {
   "metadata": {
    "ExecuteTime": {
     "end_time": "2024-07-28T09:42:37.593974Z",
     "start_time": "2024-07-28T09:42:37.585016Z"
    }
   },
   "cell_type": "code",
   "source": [
    "metadata = mep_info[['MepId', 'EPG', 'Country']]\n",
    "metadata.set_index('MepId', inplace=True)\n",
    "result = metadata.join(distance_matrix)\n",
    "\n"
   ],
   "id": "b1ac5d18f3daa37b",
   "outputs": [],
   "execution_count": 30
  },
  {
   "metadata": {
    "ExecuteTime": {
     "end_time": "2024-07-28T09:43:58.362360Z",
     "start_time": "2024-07-28T09:43:57.651409Z"
    }
   },
   "cell_type": "code",
   "source": "result.to_csv(os.path.join(\"Results\",\"EP6\",\"EP6_squared_euclidean_distances.csv\"))\n",
   "id": "217da9ef10a29231",
   "outputs": [],
   "execution_count": 32
  },
  {
   "metadata": {},
   "cell_type": "code",
   "outputs": [],
   "execution_count": null,
   "source": "",
   "id": "40ebfc9ae050f4fd"
  }
 ],
 "metadata": {
  "kernelspec": {
   "display_name": "Python 3",
   "language": "python",
   "name": "python3"
  },
  "language_info": {
   "codemirror_mode": {
    "name": "ipython",
    "version": 2
   },
   "file_extension": ".py",
   "mimetype": "text/x-python",
   "name": "python",
   "nbconvert_exporter": "python",
   "pygments_lexer": "ipython2",
   "version": "2.7.6"
  }
 },
 "nbformat": 4,
 "nbformat_minor": 5
}
