{
 "cells": [
  {
   "metadata": {
    "collapsed": true,
    "ExecuteTime": {
     "end_time": "2024-11-05T16:24:47.853423Z",
     "start_time": "2024-11-05T16:24:47.545274Z"
    }
   },
   "cell_type": "code",
   "source": [
    "import pandas as pd\n",
    "import numpy as np\n",
    "import requests\n",
    "import glob\n",
    "import openpyxl\n",
    "import os\n",
    "import helperfunctions as hf"
   ],
   "id": "initial_id",
   "outputs": [],
   "execution_count": 1
  },
  {
   "metadata": {},
   "cell_type": "markdown",
   "source": "Creating relative paths\n",
   "id": "659aa6659db15bff"
  },
  {
   "metadata": {
    "ExecuteTime": {
     "end_time": "2024-11-05T16:24:50.300116Z",
     "start_time": "2024-11-05T16:24:50.297182Z"
    }
   },
   "cell_type": "code",
   "source": [
    "votes = os.path.join(\"VoteWatch-EP-voting-data_2004-2022\", \"EP8_RCVs_2019_06_25.xlsx\")\n",
    "votations = os.path.join(\"VoteWatch-EP-voting-data_2004-2022\",\"EP8_Voted docs.xlsx\")"
   ],
   "id": "c794c4fafdf1aff",
   "outputs": [],
   "execution_count": 2
  },
  {
   "metadata": {},
   "cell_type": "markdown",
   "source": "Importing data from EU API (for correct names)\n",
   "id": "c9f5ffe84e9072c6"
  },
  {
   "metadata": {
    "ExecuteTime": {
     "end_time": "2024-11-05T16:24:53.297571Z",
     "start_time": "2024-11-05T16:24:51.235911Z"
    }
   },
   "cell_type": "code",
   "source": [
    "url = 'https://data.europarl.europa.eu/api/v2/meps?parliamentary-term=8&format=application%2Fld%2Bjson&offset=0'\n",
    "response = requests.get(url)\n",
    "meps_data = response.json()"
   ],
   "id": "20a23dbcf699b7ab",
   "outputs": [],
   "execution_count": 3
  },
  {
   "metadata": {},
   "cell_type": "markdown",
   "source": "Creating DataFrames (runtime is quite long, .xlsx files)",
   "id": "36c52cd5fb976fe7"
  },
  {
   "metadata": {
    "ExecuteTime": {
     "end_time": "2024-11-05T16:25:55.977117Z",
     "start_time": "2024-11-05T16:24:53.300574Z"
    }
   },
   "cell_type": "code",
   "source": [
    "meps_df_8 = pd.json_normalize(meps_data['data'])\n",
    "EP_8_votes = pd.read_excel(votes)\n",
    "EP_8_votations = pd.read_excel(votations)"
   ],
   "id": "4398b1b6656026d6",
   "outputs": [],
   "execution_count": 4
  },
  {
   "metadata": {},
   "cell_type": "markdown",
   "source": "Dropping irrelevant columns (to discuss)\n",
   "id": "c51d5f3c1f100763"
  },
  {
   "metadata": {
    "ExecuteTime": {
     "end_time": "2024-11-05T16:25:55.998933Z",
     "start_time": "2024-11-05T16:25:55.995641Z"
    }
   },
   "cell_type": "code",
   "source": [
    "\n",
    "\n",
    "\n",
    "meps_df_8.drop(columns=['id','type','sortLabel','officialFamilyName','officialGivenName'],inplace=True)"
   ],
   "id": "a24a084482b99c2c",
   "outputs": [],
   "execution_count": 5
  },
  {
   "metadata": {},
   "cell_type": "markdown",
   "source": "Renaming variables for pd.merge and correcting datatype\n",
   "id": "158dc6d07b046750"
  },
  {
   "metadata": {
    "ExecuteTime": {
     "end_time": "2024-11-05T16:25:56.018707Z",
     "start_time": "2024-11-05T16:25:56.014578Z"
    }
   },
   "cell_type": "code",
   "source": [
    "meps_df_8.rename(columns={'identifier': 'MepId'},inplace=True)\n",
    "EP_8_votes.rename(columns={'WebisteEpID': 'MepId'},inplace=True)"
   ],
   "id": "ed5a240474eca193",
   "outputs": [],
   "execution_count": 6
  },
  {
   "metadata": {
    "ExecuteTime": {
     "end_time": "2024-11-05T16:25:56.035357Z",
     "start_time": "2024-11-05T16:25:56.032705Z"
    }
   },
   "cell_type": "code",
   "source": "meps_df_8.MepId = meps_df_8.MepId.astype(int)\n",
   "id": "1e3c7056bfed71bc",
   "outputs": [],
   "execution_count": 7
  },
  {
   "metadata": {},
   "cell_type": "markdown",
   "source": [
    "\n",
    "Merging"
   ],
   "id": "4cf891f5e1660a33"
  },
  {
   "metadata": {
    "ExecuteTime": {
     "end_time": "2024-11-05T16:25:56.061909Z",
     "start_time": "2024-11-05T16:25:56.049358Z"
    }
   },
   "cell_type": "code",
   "source": "EP_8_votes_fixed_names = pd.merge(EP_8_votes,meps_df_8 , on='MepId', how='left')",
   "id": "e632a803189b37f2",
   "outputs": [],
   "execution_count": 8
  },
  {
   "metadata": {},
   "cell_type": "markdown",
   "source": [
    "\n",
    "Updating names of MPs\n"
   ],
   "id": "323edbc0cfb83f2d"
  },
  {
   "metadata": {
    "ExecuteTime": {
     "end_time": "2024-11-05T16:25:56.083637Z",
     "start_time": "2024-11-05T16:25:56.079125Z"
    }
   },
   "cell_type": "code",
   "source": "EP_8_votes_fixed_names[['Fname','Lname','FullName']] = EP_8_votes_fixed_names[['givenName','familyName','label']]\n",
   "id": "5b17cbe27c2acc73",
   "outputs": [],
   "execution_count": 9
  },
  {
   "metadata": {
    "ExecuteTime": {
     "end_time": "2024-11-05T16:25:56.118157Z",
     "start_time": "2024-11-05T16:25:56.102898Z"
    }
   },
   "cell_type": "code",
   "source": [
    "\n",
    "\n",
    "\n",
    "EP_8_votes_fixed_names.drop(columns=['label','familyName','givenName'],inplace=True)\n"
   ],
   "id": "c3e9d8ece979ee3b",
   "outputs": [],
   "execution_count": 10
  },
  {
   "metadata": {},
   "cell_type": "markdown",
   "source": "Encoding missing party names\n",
   "id": "7ade8140becd27ed"
  },
  {
   "metadata": {
    "ExecuteTime": {
     "end_time": "2024-11-05T16:25:56.143008Z",
     "start_time": "2024-11-05T16:25:56.135679Z"
    }
   },
   "cell_type": "code",
   "source": [
    "filtered_df = EP_8_votes_fixed_names[EP_8_votes_fixed_names.Party.astype(str).apply(lambda x: len(x) < 3)]\n",
    "filtered_df.Party.value_counts()    "
   ],
   "id": "295c1818d0494c7e",
   "outputs": [
    {
     "data": {
      "text/plain": [
       "Party\n",
       "-    13\n",
       "Name: count, dtype: int64"
      ]
     },
     "execution_count": 11,
     "metadata": {},
     "output_type": "execute_result"
    }
   ],
   "execution_count": 11
  },
  {
   "metadata": {
    "ExecuteTime": {
     "end_time": "2024-11-05T16:25:56.186815Z",
     "start_time": "2024-11-05T16:25:56.183004Z"
    }
   },
   "cell_type": "code",
   "source": [
    "\n",
    "EP_8_votes_fixed_names.Party = EP_8_votes_fixed_names.Party.replace(\"-\",np.nan)"
   ],
   "id": "853e90238f16f06",
   "outputs": [],
   "execution_count": 12
  },
  {
   "metadata": {},
   "cell_type": "markdown",
   "source": "Votations dataset inspection\n",
   "id": "d19db870859e911d"
  },
  {
   "metadata": {
    "ExecuteTime": {
     "end_time": "2024-11-05T16:25:56.218700Z",
     "start_time": "2024-11-05T16:25:56.214700Z"
    }
   },
   "cell_type": "code",
   "source": [
    "\n",
    "EP_8_votes_fixed_names.columns"
   ],
   "id": "d0259c0f4dd1e648",
   "outputs": [
    {
     "data": {
      "text/plain": [
       "Index([   'MepId',    'Fname',    'Lname',    'Activ',  'Country',    'Party',\n",
       "            'EPG',    'Start',      'End',          1,\n",
       "       ...\n",
       "            10268,      10269,      10270,      10271,      10272,      10273,\n",
       "            10274,      10275,      10276, 'FullName'],\n",
       "      dtype='object', length=10262)"
      ]
     },
     "execution_count": 13,
     "metadata": {},
     "output_type": "execute_result"
    }
   ],
   "execution_count": 13
  },
  {
   "metadata": {},
   "cell_type": "markdown",
   "source": "Rearranging ",
   "id": "99c4f0fc1a0316df"
  },
  {
   "metadata": {
    "ExecuteTime": {
     "end_time": "2024-11-05T16:25:56.266491Z",
     "start_time": "2024-11-05T16:25:56.261996Z"
    }
   },
   "cell_type": "code",
   "source": [
    "mepid_index = EP_8_votes_fixed_names.columns.get_loc('Lname')\n",
    "Full_name_col = EP_8_votes_fixed_names.pop('FullName')\n",
    "EP_8_votes_fixed_names.insert(loc=mepid_index + 1, column='FullName', value= Full_name_col)"
   ],
   "id": "375392bc59e138d4",
   "outputs": [],
   "execution_count": 14
  },
  {
   "metadata": {
    "ExecuteTime": {
     "end_time": "2024-11-05T16:25:56.301531Z",
     "start_time": "2024-11-05T16:25:56.297531Z"
    }
   },
   "cell_type": "code",
   "source": "EP_8_votes_fixed_names.columns",
   "id": "c0935e2a13c9ba03",
   "outputs": [
    {
     "data": {
      "text/plain": [
       "Index([   'MepId',    'Fname',    'Lname', 'FullName',    'Activ',  'Country',\n",
       "          'Party',      'EPG',    'Start',      'End',\n",
       "       ...\n",
       "            10267,      10268,      10269,      10270,      10271,      10272,\n",
       "            10273,      10274,      10275,      10276],\n",
       "      dtype='object', length=10262)"
      ]
     },
     "execution_count": 15,
     "metadata": {},
     "output_type": "execute_result"
    }
   ],
   "execution_count": 15
  },
  {
   "metadata": {},
   "cell_type": "markdown",
   "source": "Dropping irrelevant columns and renaming relevant (also to be discussed)\n",
   "id": "fb8f0a03b4fe478f"
  },
  {
   "metadata": {
    "ExecuteTime": {
     "end_time": "2024-11-05T16:25:56.346059Z",
     "start_time": "2024-11-05T16:25:56.342240Z"
    }
   },
   "cell_type": "code",
   "source": [
    "\n",
    "\n",
    "EP_8_votations.columns.tolist()"
   ],
   "id": "2ff1e622d87df21d",
   "outputs": [
    {
     "data": {
      "text/plain": [
       "['Vote ID',\n",
       " 'File',\n",
       " 'Order of vote',\n",
       " 'Date',\n",
       " \"O'clock\",\n",
       " 'Title',\n",
       " 'Title_Ro',\n",
       " 'Title_Fr',\n",
       " 'Title_German',\n",
       " 'Title_Polski',\n",
       " 'Procedure',\n",
       " 'Leg/Non-Leg/Bud',\n",
       " 'Type of Vote',\n",
       " 'Voting Rule',\n",
       " 'Rapporteur',\n",
       " 'Code',\n",
       " 'interinstitutional file number',\n",
       " 'Link',\n",
       " 'Committee responsabile',\n",
       " 'De/Policy area',\n",
       " 'Subject',\n",
       " 'Subject_ro',\n",
       " 'Subject_fr',\n",
       " 'Subject_ger',\n",
       " 'Subject_pl',\n",
       " 'Final \\nvote?',\n",
       " 'Am No.',\n",
       " 'Author',\n",
       " 'RCV',\n",
       " 'Vote',\n",
       " 'Yeas',\n",
       " 'No',\n",
       " 'Abs']"
      ]
     },
     "execution_count": 16,
     "metadata": {},
     "output_type": "execute_result"
    }
   ],
   "execution_count": 16
  },
  {
   "metadata": {
    "ExecuteTime": {
     "end_time": "2024-11-05T16:25:56.360561Z",
     "start_time": "2024-11-05T16:25:56.354568Z"
    }
   },
   "cell_type": "code",
   "source": [
    "renaming_dict = {\n",
    "    'Vote ID': 'VoteId',\n",
    "    'Date': 'Date',\n",
    "    'Title': 'Title',\n",
    "    'Procedure': 'Procedure',\n",
    "    'Leg/Non-Leg/Bud': 'Leg/Non-Leg/Bud',\n",
    "    'Type of Vote': 'TypeOfVote',\n",
    "    'Voting Rule': 'VotingRule',\n",
    "    'Rapporteur': 'Rapporteur',\n",
    "    'Link': 'Link',\n",
    "    'Committee responsabile': 'CommitteeResponsabile',\n",
    "    'De/Policy area': 'PolicyArea',\n",
    "    'Subject': 'Subject',\n",
    "    'Final \\nvote?': 'FinalVote',\n",
    "    'Am No.': 'AmNo',\n",
    "    'Author': 'Author',\n",
    "    'Vote': 'Vote',\n",
    "    'Yeas': 'Yes',\n",
    "    'No': 'No',\n",
    "    'Abs': 'Abs'\n",
    "}\n",
    "\n",
    "# Select and rename necessary columns\n",
    "EP_8_votations = EP_8_votations[list(renaming_dict.keys())]  # Select only the columns we need\n",
    "EP_8_votations.rename(columns=renaming_dict, inplace=True)  # Rename the columns"
   ],
   "id": "7e6432f4c548f6a4",
   "outputs": [],
   "execution_count": 17
  },
  {
   "metadata": {
    "ExecuteTime": {
     "end_time": "2024-11-05T16:25:56.417736Z",
     "start_time": "2024-11-05T16:25:56.413732Z"
    }
   },
   "cell_type": "code",
   "source": "EP_8_votations.columns",
   "id": "787ac6fa98b8533e",
   "outputs": [
    {
     "data": {
      "text/plain": [
       "Index(['VoteId', 'Date', 'Title', 'Procedure', 'Leg/Non-Leg/Bud', 'TypeOfVote',\n",
       "       'VotingRule', 'Rapporteur', 'Link', 'CommitteeResponsabile',\n",
       "       'PolicyArea', 'Subject', 'FinalVote', 'AmNo', 'Author', 'Vote', 'Yes',\n",
       "       'No', 'Abs'],\n",
       "      dtype='object')"
      ]
     },
     "execution_count": 18,
     "metadata": {},
     "output_type": "execute_result"
    }
   ],
   "execution_count": 18
  },
  {
   "metadata": {},
   "cell_type": "markdown",
   "source": "",
   "id": "6d08644d0c8702c6"
  },
  {
   "metadata": {},
   "cell_type": "markdown",
   "source": "Fixing dtype",
   "id": "6af99dffe22bd1e1"
  },
  {
   "metadata": {
    "ExecuteTime": {
     "end_time": "2024-11-05T16:25:56.429966Z",
     "start_time": "2024-11-05T16:25:56.425470Z"
    }
   },
   "cell_type": "code",
   "source": "EP_8_votations['Date'] = pd.to_datetime(EP_8_votations['Date'],format='mixed') ",
   "id": "6abad48cd0dbef9a",
   "outputs": [],
   "execution_count": 19
  },
  {
   "metadata": {
    "ExecuteTime": {
     "end_time": "2024-11-05T16:25:56.455914Z",
     "start_time": "2024-11-05T16:25:56.451489Z"
    }
   },
   "cell_type": "code",
   "source": "EP_8_votations.Date.tail()",
   "id": "742b3c1c1105b767",
   "outputs": [
    {
     "data": {
      "text/plain": [
       "10247   2019-04-18\n",
       "10248   2019-04-18\n",
       "10249   2019-04-18\n",
       "10250   2019-04-18\n",
       "10251   2019-04-18\n",
       "Name: Date, dtype: datetime64[ns]"
      ]
     },
     "execution_count": 20,
     "metadata": {},
     "output_type": "execute_result"
    }
   ],
   "execution_count": 20
  },
  {
   "metadata": {},
   "cell_type": "markdown",
   "source": [
    "\n",
    "\n",
    "Recoding missing data\n"
   ],
   "id": "973b067c84cf48c6"
  },
  {
   "metadata": {
    "ExecuteTime": {
     "end_time": "2024-11-05T16:25:56.491178Z",
     "start_time": "2024-11-05T16:25:56.487150Z"
    }
   },
   "cell_type": "code",
   "source": [
    "def recode_votations(df):\n",
    "    df['TypeOfVote'] = df['TypeOfVote'].replace(0,np.nan)\n",
    "    df['VotingRule'] = df['VotingRule'].replace(0,np.nan)\n",
    "    df['Rapporteur'] = df['Rapporteur'].replace(0,np.nan)\n",
    "    df['CommitteeResponsabile'] = df['CommitteeResponsabile'].replace(0,np.nan)\n",
    "    df['Author'] = df['Author'].replace(0,np.nan)\n",
    "    df['Subject'] = df['Subject'].replace(0,np.nan)\n",
    "    df['AmNo'] = df['AmNo'].replace(0,np.nan)\n",
    "    df['Vote'] = df['Vote'].replace({'+': 1, '-': 0,\"_\":0})"
   ],
   "id": "25974cdd9c371369",
   "outputs": [],
   "execution_count": 21
  },
  {
   "metadata": {
    "ExecuteTime": {
     "end_time": "2024-11-05T16:25:56.527883Z",
     "start_time": "2024-11-05T16:25:56.517227Z"
    }
   },
   "cell_type": "code",
   "source": "recode_votations(EP_8_votations)",
   "id": "d48d91b9d14a112b",
   "outputs": [
    {
     "name": "stderr",
     "output_type": "stream",
     "text": [
      "C:\\Users\\User\\AppData\\Local\\Temp\\ipykernel_40764\\373280930.py:9: FutureWarning: Downcasting behavior in `replace` is deprecated and will be removed in a future version. To retain the old behavior, explicitly call `result.infer_objects(copy=False)`. To opt-in to the future behavior, set `pd.set_option('future.no_silent_downcasting', True)`\n",
      "  df['Vote'] = df['Vote'].replace({'+': 1, '-': 0,\"_\":0})\n"
     ]
    }
   ],
   "execution_count": 22
  },
  {
   "metadata": {
    "ExecuteTime": {
     "end_time": "2024-11-05T16:25:56.564066Z",
     "start_time": "2024-11-05T16:25:56.555068Z"
    }
   },
   "cell_type": "code",
   "source": "EP_8_votations.head()\n",
   "id": "d230fda0004f7df",
   "outputs": [
    {
     "data": {
      "text/plain": [
       "   VoteId       Date                                              Title  \\\n",
       "0       1 2014-07-16  Appointment of 4 members of the European Commi...   \n",
       "1       2 2014-07-16  Adoption by Lithuania of the euro on 1 January...   \n",
       "2       3 2014-07-16  Adoption by Lithuania of the euro on 1 January...   \n",
       "3       4 2014-07-16  Adoption by Lithuania of the euro on 1 January...   \n",
       "4       5 2014-07-16  Adoption by Lithuania of the euro on 1 January...   \n",
       "\n",
       "  Procedure Leg/Non-Leg/Bud                    TypeOfVote VotingRule  \\\n",
       "0       NaN             Non  Appointment of commissioners          s   \n",
       "1         *             Leg  Draft legislative resolution          s   \n",
       "2         *             Leg  Draft legislative resolution          s   \n",
       "3         *             Leg  Draft legislative resolution          s   \n",
       "4         *             Leg  Draft legislative resolution          s   \n",
       "\n",
       "  Rapporteur                                               Link  \\\n",
       "0        NaN  http://www.europarl.europa.eu/sides/getDoc.do?...   \n",
       "1     Langen  http://www.europarl.europa.eu/sides/getDoc.do?...   \n",
       "2     Langen  http://www.europarl.europa.eu/sides/getDoc.do?...   \n",
       "3     Langen  http://www.europarl.europa.eu/sides/getDoc.do?...   \n",
       "4     Langen  http://www.europarl.europa.eu/sides/getDoc.do?...   \n",
       "\n",
       "                        CommitteeResponsabile  \\\n",
       "0                                         NaN   \n",
       "1  Committee on Economic and Monetary Affairs   \n",
       "2  Committee on Economic and Monetary Affairs   \n",
       "3  Committee on Economic and Monetary Affairs   \n",
       "4  Committee on Economic and Monetary Affairs   \n",
       "\n",
       "                                          PolicyArea  \\\n",
       "0  \\n\\nConstitutional and inter-institutional aff...   \n",
       "1                        Economic & monetary affairs   \n",
       "2                        Economic & monetary affairs   \n",
       "3                        Economic & monetary affairs   \n",
       "4                        Economic & monetary affairs   \n",
       "\n",
       "                        Subject  FinalVote AmNo       Author  Vote  Yes   No  \\\n",
       "0                           NaN        1.0  NaN          NaN     1  421  170   \n",
       "1                   Paragraph 2        0.0    4      GUE/NGL     0  148  514   \n",
       "2             After paragraph 7        0.0    1  Greens/ EFA     0  137  525   \n",
       "3             After paragraph 7        0.0    3  Greens/ EFA     0   93  550   \n",
       "4  vote: legislative resolution        1.0  NaN          NaN     1  545  116   \n",
       "\n",
       "   Abs  \n",
       "0   32  \n",
       "1   10  \n",
       "2   19  \n",
       "3   40  \n",
       "4   34  "
      ],
      "text/html": [
       "<div>\n",
       "<style scoped>\n",
       "    .dataframe tbody tr th:only-of-type {\n",
       "        vertical-align: middle;\n",
       "    }\n",
       "\n",
       "    .dataframe tbody tr th {\n",
       "        vertical-align: top;\n",
       "    }\n",
       "\n",
       "    .dataframe thead th {\n",
       "        text-align: right;\n",
       "    }\n",
       "</style>\n",
       "<table border=\"1\" class=\"dataframe\">\n",
       "  <thead>\n",
       "    <tr style=\"text-align: right;\">\n",
       "      <th></th>\n",
       "      <th>VoteId</th>\n",
       "      <th>Date</th>\n",
       "      <th>Title</th>\n",
       "      <th>Procedure</th>\n",
       "      <th>Leg/Non-Leg/Bud</th>\n",
       "      <th>TypeOfVote</th>\n",
       "      <th>VotingRule</th>\n",
       "      <th>Rapporteur</th>\n",
       "      <th>Link</th>\n",
       "      <th>CommitteeResponsabile</th>\n",
       "      <th>PolicyArea</th>\n",
       "      <th>Subject</th>\n",
       "      <th>FinalVote</th>\n",
       "      <th>AmNo</th>\n",
       "      <th>Author</th>\n",
       "      <th>Vote</th>\n",
       "      <th>Yes</th>\n",
       "      <th>No</th>\n",
       "      <th>Abs</th>\n",
       "    </tr>\n",
       "  </thead>\n",
       "  <tbody>\n",
       "    <tr>\n",
       "      <th>0</th>\n",
       "      <td>1</td>\n",
       "      <td>2014-07-16</td>\n",
       "      <td>Appointment of 4 members of the European Commi...</td>\n",
       "      <td>NaN</td>\n",
       "      <td>Non</td>\n",
       "      <td>Appointment of commissioners</td>\n",
       "      <td>s</td>\n",
       "      <td>NaN</td>\n",
       "      <td>http://www.europarl.europa.eu/sides/getDoc.do?...</td>\n",
       "      <td>NaN</td>\n",
       "      <td>\\n\\nConstitutional and inter-institutional aff...</td>\n",
       "      <td>NaN</td>\n",
       "      <td>1.0</td>\n",
       "      <td>NaN</td>\n",
       "      <td>NaN</td>\n",
       "      <td>1</td>\n",
       "      <td>421</td>\n",
       "      <td>170</td>\n",
       "      <td>32</td>\n",
       "    </tr>\n",
       "    <tr>\n",
       "      <th>1</th>\n",
       "      <td>2</td>\n",
       "      <td>2014-07-16</td>\n",
       "      <td>Adoption by Lithuania of the euro on 1 January...</td>\n",
       "      <td>*</td>\n",
       "      <td>Leg</td>\n",
       "      <td>Draft legislative resolution</td>\n",
       "      <td>s</td>\n",
       "      <td>Langen</td>\n",
       "      <td>http://www.europarl.europa.eu/sides/getDoc.do?...</td>\n",
       "      <td>Committee on Economic and Monetary Affairs</td>\n",
       "      <td>Economic &amp; monetary affairs</td>\n",
       "      <td>Paragraph 2</td>\n",
       "      <td>0.0</td>\n",
       "      <td>4</td>\n",
       "      <td>GUE/NGL</td>\n",
       "      <td>0</td>\n",
       "      <td>148</td>\n",
       "      <td>514</td>\n",
       "      <td>10</td>\n",
       "    </tr>\n",
       "    <tr>\n",
       "      <th>2</th>\n",
       "      <td>3</td>\n",
       "      <td>2014-07-16</td>\n",
       "      <td>Adoption by Lithuania of the euro on 1 January...</td>\n",
       "      <td>*</td>\n",
       "      <td>Leg</td>\n",
       "      <td>Draft legislative resolution</td>\n",
       "      <td>s</td>\n",
       "      <td>Langen</td>\n",
       "      <td>http://www.europarl.europa.eu/sides/getDoc.do?...</td>\n",
       "      <td>Committee on Economic and Monetary Affairs</td>\n",
       "      <td>Economic &amp; monetary affairs</td>\n",
       "      <td>After paragraph 7</td>\n",
       "      <td>0.0</td>\n",
       "      <td>1</td>\n",
       "      <td>Greens/ EFA</td>\n",
       "      <td>0</td>\n",
       "      <td>137</td>\n",
       "      <td>525</td>\n",
       "      <td>19</td>\n",
       "    </tr>\n",
       "    <tr>\n",
       "      <th>3</th>\n",
       "      <td>4</td>\n",
       "      <td>2014-07-16</td>\n",
       "      <td>Adoption by Lithuania of the euro on 1 January...</td>\n",
       "      <td>*</td>\n",
       "      <td>Leg</td>\n",
       "      <td>Draft legislative resolution</td>\n",
       "      <td>s</td>\n",
       "      <td>Langen</td>\n",
       "      <td>http://www.europarl.europa.eu/sides/getDoc.do?...</td>\n",
       "      <td>Committee on Economic and Monetary Affairs</td>\n",
       "      <td>Economic &amp; monetary affairs</td>\n",
       "      <td>After paragraph 7</td>\n",
       "      <td>0.0</td>\n",
       "      <td>3</td>\n",
       "      <td>Greens/ EFA</td>\n",
       "      <td>0</td>\n",
       "      <td>93</td>\n",
       "      <td>550</td>\n",
       "      <td>40</td>\n",
       "    </tr>\n",
       "    <tr>\n",
       "      <th>4</th>\n",
       "      <td>5</td>\n",
       "      <td>2014-07-16</td>\n",
       "      <td>Adoption by Lithuania of the euro on 1 January...</td>\n",
       "      <td>*</td>\n",
       "      <td>Leg</td>\n",
       "      <td>Draft legislative resolution</td>\n",
       "      <td>s</td>\n",
       "      <td>Langen</td>\n",
       "      <td>http://www.europarl.europa.eu/sides/getDoc.do?...</td>\n",
       "      <td>Committee on Economic and Monetary Affairs</td>\n",
       "      <td>Economic &amp; monetary affairs</td>\n",
       "      <td>vote: legislative resolution</td>\n",
       "      <td>1.0</td>\n",
       "      <td>NaN</td>\n",
       "      <td>NaN</td>\n",
       "      <td>1</td>\n",
       "      <td>545</td>\n",
       "      <td>116</td>\n",
       "      <td>34</td>\n",
       "    </tr>\n",
       "  </tbody>\n",
       "</table>\n",
       "</div>"
      ]
     },
     "execution_count": 23,
     "metadata": {},
     "output_type": "execute_result"
    }
   ],
   "execution_count": 23
  },
  {
   "metadata": {},
   "cell_type": "markdown",
   "source": "Checking and fixing the datatypes\n",
   "id": "b1dac66b0d9549cf"
  },
  {
   "metadata": {
    "ExecuteTime": {
     "end_time": "2024-11-05T16:25:56.610131Z",
     "start_time": "2024-11-05T16:25:56.605303Z"
    }
   },
   "cell_type": "code",
   "source": "EP_8_votations.dtypes\n",
   "id": "391bba4cf2e43903",
   "outputs": [
    {
     "data": {
      "text/plain": [
       "VoteId                            int64\n",
       "Date                     datetime64[ns]\n",
       "Title                            object\n",
       "Procedure                        object\n",
       "Leg/Non-Leg/Bud                  object\n",
       "TypeOfVote                       object\n",
       "VotingRule                       object\n",
       "Rapporteur                       object\n",
       "Link                             object\n",
       "CommitteeResponsabile            object\n",
       "PolicyArea                       object\n",
       "Subject                          object\n",
       "FinalVote                       float64\n",
       "AmNo                             object\n",
       "Author                           object\n",
       "Vote                              int64\n",
       "Yes                               int64\n",
       "No                                int64\n",
       "Abs                               int64\n",
       "dtype: object"
      ]
     },
     "execution_count": 24,
     "metadata": {},
     "output_type": "execute_result"
    }
   ],
   "execution_count": 24
  },
  {
   "metadata": {
    "ExecuteTime": {
     "end_time": "2024-11-05T16:25:56.686132Z",
     "start_time": "2024-11-05T16:25:56.682066Z"
    }
   },
   "cell_type": "code",
   "source": "EP_8_votations.FinalVote = EP_8_votations['FinalVote'].astype('Int64')",
   "id": "395d703a22933f1f",
   "outputs": [],
   "execution_count": 25
  },
  {
   "metadata": {
    "ExecuteTime": {
     "end_time": "2024-11-05T16:25:56.724660Z",
     "start_time": "2024-11-05T16:25:56.721153Z"
    }
   },
   "cell_type": "code",
   "source": "EP_8_votations.Vote = EP_8_votations['Vote'].astype('Int64')",
   "id": "1d658cc1f4a57e46",
   "outputs": [],
   "execution_count": 26
  },
  {
   "metadata": {},
   "cell_type": "markdown",
   "source": "Renaming EPG groups to fit the API convention\n",
   "id": "40d7647941aa1add"
  },
  {
   "metadata": {
    "ExecuteTime": {
     "end_time": "2024-11-05T16:25:56.746939Z",
     "start_time": "2024-11-05T16:25:56.741274Z"
    }
   },
   "cell_type": "code",
   "source": "EP_8_votes_fixed_names.EPG.value_counts()",
   "id": "665be290d0bdcf4e",
   "outputs": [
    {
     "data": {
      "text/plain": [
       "EPG\n",
       "Group of the European People's Party (Christian Democrats)                                  219\n",
       "Group of the Progressive Alliance of Socialists and Democrats in the European Parliament    188\n",
       "European Conservatives and Reformists Group                                                  73\n",
       "Group of the Alliance of Liberals and Democrats for Europe                                   68\n",
       "Group of the Greens/European Free Alliance                                                   52\n",
       "Confederal Group of the European United Left - Nordic Green Left                             51\n",
       "Europe of Freedom and Direct Democracy Group                                                 42\n",
       "Europe of Nations and Freedom Group                                                          35\n",
       "Non-attached Members                                                                         23\n",
       "Name: count, dtype: int64"
      ]
     },
     "execution_count": 27,
     "metadata": {},
     "output_type": "execute_result"
    }
   ],
   "execution_count": 27
  },
  {
   "metadata": {
    "ExecuteTime": {
     "end_time": "2024-11-05T16:25:56.813920Z",
     "start_time": "2024-11-05T16:25:56.810922Z"
    }
   },
   "cell_type": "code",
   "source": [
    "EPG_rename_dict = {\n",
    "    \"Group of the European People's Party (Christian Democrats)\":\"EPP\",\n",
    "    \"Group of the Progressive Alliance of Socialists and Democrats in the European Parliament\":\"S&D\",\n",
    "    \"Group of the Alliance of Liberals and Democrats for Europe\":\"ALDE\",\n",
    "    \"European Conservatives and Reformists Group\":\"ECR\",\n",
    "    \"Confederal Group of the European United Left - Nordic Green Left\":\"GUE–NGL\",\n",
    "    \"Group of the Greens/European Free Alliance\":\"Greens–EFA\",\n",
    "    \"Non-attached Members\":\"NI\",  \n",
    "    \"Europe of Freedom and Direct Democracy Group\":\"EFDD\",\n",
    "    \"Europe of Nations and Freedom Group\":\"ENFF\"\n",
    "}"
   ],
   "id": "8dddf70b12890858",
   "outputs": [],
   "execution_count": 28
  },
  {
   "metadata": {},
   "cell_type": "markdown",
   "source": "",
   "id": "3e92d9bd4897d756"
  },
  {
   "metadata": {
    "ExecuteTime": {
     "end_time": "2024-11-05T16:25:56.852988Z",
     "start_time": "2024-11-05T16:25:56.849534Z"
    }
   },
   "cell_type": "code",
   "source": "EP_8_votes_fixed_names.EPG = EP_8_votes_fixed_names.EPG.replace(EPG_rename_dict,regex=False)",
   "id": "fba5d5758e1e94b5",
   "outputs": [],
   "execution_count": 29
  },
  {
   "metadata": {
    "ExecuteTime": {
     "end_time": "2024-11-05T16:25:56.904574Z",
     "start_time": "2024-11-05T16:25:56.899553Z"
    }
   },
   "cell_type": "code",
   "source": "EP_8_votes_fixed_names.EPG.value_counts()",
   "id": "e1bdaae100c3e058",
   "outputs": [
    {
     "data": {
      "text/plain": [
       "EPG\n",
       "EPP           219\n",
       "S&D           188\n",
       "ECR            73\n",
       "ALDE           68\n",
       "Greens–EFA     52\n",
       "GUE–NGL        51\n",
       "EFDD           42\n",
       "ENFF           35\n",
       "NI             23\n",
       "Name: count, dtype: int64"
      ]
     },
     "execution_count": 30,
     "metadata": {},
     "output_type": "execute_result"
    }
   ],
   "execution_count": 30
  },
  {
   "metadata": {},
   "cell_type": "markdown",
   "source": "Creating a list to filter the non,observation columns from Votes\n",
   "id": "a1b108d1a21c72fb"
  },
  {
   "metadata": {
    "ExecuteTime": {
     "end_time": "2024-11-05T16:25:56.970093Z",
     "start_time": "2024-11-05T16:25:56.966947Z"
    }
   },
   "cell_type": "code",
   "source": [
    "filtered_list = ['MepId',\n",
    " 'Fname',\n",
    " 'Lname',\n",
    " 'FullName',\n",
    " 'Activ',\n",
    " 'Country',\n",
    " 'Party',\n",
    " 'EPG',\n",
    " 'Start',\n",
    " 'End']"
   ],
   "id": "d89bc4401816510a",
   "outputs": [],
   "execution_count": 31
  },
  {
   "metadata": {},
   "cell_type": "markdown",
   "source": "Melting votes into long format\n",
   "id": "404479173ab9ef7b"
  },
  {
   "metadata": {
    "ExecuteTime": {
     "end_time": "2024-11-05T16:25:57.519859Z",
     "start_time": "2024-11-05T16:25:56.994636Z"
    }
   },
   "cell_type": "code",
   "source": [
    "mep_info = EP_8_votes_fixed_names[filtered_list]\n",
    "vote_columns = [col for col in EP_8_votes_fixed_names.columns if col not in filtered_list]\n",
    "melted_votes = pd.melt(EP_8_votes_fixed_names, id_vars='MepId', value_vars=vote_columns, var_name='VoteId', value_name='Vote')\n"
   ],
   "id": "ca534abfe7b76b5",
   "outputs": [],
   "execution_count": 32
  },
  {
   "metadata": {
    "ExecuteTime": {
     "end_time": "2024-11-05T16:26:02.604224Z",
     "start_time": "2024-11-05T16:25:57.536974Z"
    }
   },
   "cell_type": "code",
   "source": [
    "epg_df = hf.get_epgs()\n",
    "party_df = hf.get_parties()\n",
    "ep_df = hf.generate_ep_df(9)\n",
    "org_df = pd.concat([epg_df, party_df, ep_df], ignore_index=True)"
   ],
   "id": "869d5766f2d8ce06",
   "outputs": [],
   "execution_count": 33
  },
  {
   "metadata": {},
   "cell_type": "markdown",
   "source": "",
   "id": "4378dfd6b0e646ba"
  },
  {
   "metadata": {
    "ExecuteTime": {
     "end_time": "2024-11-05T16:26:02.627726Z",
     "start_time": "2024-11-05T16:26:02.620137Z"
    }
   },
   "cell_type": "code",
   "source": "mep_info",
   "id": "208d2a53f94404c7",
   "outputs": [
    {
     "data": {
      "text/plain": [
       "      MepId        Fname       Lname            FullName Activ  \\\n",
       "0    124990         Lars  Adaktusson     Lars ADAKTUSSON    no   \n",
       "1    124831     Isabella    Adinolfi   Isabella ADINOLFI   yes   \n",
       "2    124797        Marco    Affronte      Marco AFFRONTE   yes   \n",
       "3    124811        Laura        Agea          Laura AGEA   yes   \n",
       "4     96897  John Stuart       Agnew   John Stuart AGNEW   yes   \n",
       "..      ...          ...         ...                 ...   ...   \n",
       "853  196042     Aleksejs   Loskutovs  Aleksejs LOSKUTOVS   yes   \n",
       "854  195454        Ralph      Packet        Ralph PACKET   yes   \n",
       "855  111033       Kārlis   Šadurskis    Kārlis ŠADURSKIS   yes   \n",
       "856   28299     Bogusław       Sonik      Bogusław SONIK   yes   \n",
       "857  195912      Babette      Winter      Babette WINTER   yes   \n",
       "\n",
       "            Country                              Party         EPG      Start  \\\n",
       "0            Sweden                  Kristdemokraterna         NaN 2014-07-01   \n",
       "1             Italy                 Movimento 5 Stelle        EFDD 2014-07-01   \n",
       "2             Italy                        Independent  Greens–EFA 2014-07-01   \n",
       "3             Italy                 Movimento 5 Stelle        EFDD 2014-07-01   \n",
       "4    United Kingdom  United Kingdom Independence Party        EFDD 2014-07-01   \n",
       "..              ...                                ...         ...        ...   \n",
       "853          Latvia                                NaN         NaN 2019-01-24   \n",
       "854         Belgium                                NaN         NaN 2018-11-22   \n",
       "855          Latvia                                NaN         NaN 2018-11-28   \n",
       "856          Poland                                NaN         NaN 2018-11-20   \n",
       "857         Germany                                NaN         NaN 2019-01-10   \n",
       "\n",
       "           End  \n",
       "0   2018-09-23  \n",
       "1   2019-12-31  \n",
       "2   2019-12-31  \n",
       "3   2019-12-31  \n",
       "4   2019-12-31  \n",
       "..         ...  \n",
       "853 2019-12-31  \n",
       "854 2019-12-31  \n",
       "855 2019-12-31  \n",
       "856 2019-12-31  \n",
       "857 2019-12-31  \n",
       "\n",
       "[858 rows x 10 columns]"
      ],
      "text/html": [
       "<div>\n",
       "<style scoped>\n",
       "    .dataframe tbody tr th:only-of-type {\n",
       "        vertical-align: middle;\n",
       "    }\n",
       "\n",
       "    .dataframe tbody tr th {\n",
       "        vertical-align: top;\n",
       "    }\n",
       "\n",
       "    .dataframe thead th {\n",
       "        text-align: right;\n",
       "    }\n",
       "</style>\n",
       "<table border=\"1\" class=\"dataframe\">\n",
       "  <thead>\n",
       "    <tr style=\"text-align: right;\">\n",
       "      <th></th>\n",
       "      <th>MepId</th>\n",
       "      <th>Fname</th>\n",
       "      <th>Lname</th>\n",
       "      <th>FullName</th>\n",
       "      <th>Activ</th>\n",
       "      <th>Country</th>\n",
       "      <th>Party</th>\n",
       "      <th>EPG</th>\n",
       "      <th>Start</th>\n",
       "      <th>End</th>\n",
       "    </tr>\n",
       "  </thead>\n",
       "  <tbody>\n",
       "    <tr>\n",
       "      <th>0</th>\n",
       "      <td>124990</td>\n",
       "      <td>Lars</td>\n",
       "      <td>Adaktusson</td>\n",
       "      <td>Lars ADAKTUSSON</td>\n",
       "      <td>no</td>\n",
       "      <td>Sweden</td>\n",
       "      <td>Kristdemokraterna</td>\n",
       "      <td>NaN</td>\n",
       "      <td>2014-07-01</td>\n",
       "      <td>2018-09-23</td>\n",
       "    </tr>\n",
       "    <tr>\n",
       "      <th>1</th>\n",
       "      <td>124831</td>\n",
       "      <td>Isabella</td>\n",
       "      <td>Adinolfi</td>\n",
       "      <td>Isabella ADINOLFI</td>\n",
       "      <td>yes</td>\n",
       "      <td>Italy</td>\n",
       "      <td>Movimento 5 Stelle</td>\n",
       "      <td>EFDD</td>\n",
       "      <td>2014-07-01</td>\n",
       "      <td>2019-12-31</td>\n",
       "    </tr>\n",
       "    <tr>\n",
       "      <th>2</th>\n",
       "      <td>124797</td>\n",
       "      <td>Marco</td>\n",
       "      <td>Affronte</td>\n",
       "      <td>Marco AFFRONTE</td>\n",
       "      <td>yes</td>\n",
       "      <td>Italy</td>\n",
       "      <td>Independent</td>\n",
       "      <td>Greens–EFA</td>\n",
       "      <td>2014-07-01</td>\n",
       "      <td>2019-12-31</td>\n",
       "    </tr>\n",
       "    <tr>\n",
       "      <th>3</th>\n",
       "      <td>124811</td>\n",
       "      <td>Laura</td>\n",
       "      <td>Agea</td>\n",
       "      <td>Laura AGEA</td>\n",
       "      <td>yes</td>\n",
       "      <td>Italy</td>\n",
       "      <td>Movimento 5 Stelle</td>\n",
       "      <td>EFDD</td>\n",
       "      <td>2014-07-01</td>\n",
       "      <td>2019-12-31</td>\n",
       "    </tr>\n",
       "    <tr>\n",
       "      <th>4</th>\n",
       "      <td>96897</td>\n",
       "      <td>John Stuart</td>\n",
       "      <td>Agnew</td>\n",
       "      <td>John Stuart AGNEW</td>\n",
       "      <td>yes</td>\n",
       "      <td>United Kingdom</td>\n",
       "      <td>United Kingdom Independence Party</td>\n",
       "      <td>EFDD</td>\n",
       "      <td>2014-07-01</td>\n",
       "      <td>2019-12-31</td>\n",
       "    </tr>\n",
       "    <tr>\n",
       "      <th>...</th>\n",
       "      <td>...</td>\n",
       "      <td>...</td>\n",
       "      <td>...</td>\n",
       "      <td>...</td>\n",
       "      <td>...</td>\n",
       "      <td>...</td>\n",
       "      <td>...</td>\n",
       "      <td>...</td>\n",
       "      <td>...</td>\n",
       "      <td>...</td>\n",
       "    </tr>\n",
       "    <tr>\n",
       "      <th>853</th>\n",
       "      <td>196042</td>\n",
       "      <td>Aleksejs</td>\n",
       "      <td>Loskutovs</td>\n",
       "      <td>Aleksejs LOSKUTOVS</td>\n",
       "      <td>yes</td>\n",
       "      <td>Latvia</td>\n",
       "      <td>NaN</td>\n",
       "      <td>NaN</td>\n",
       "      <td>2019-01-24</td>\n",
       "      <td>2019-12-31</td>\n",
       "    </tr>\n",
       "    <tr>\n",
       "      <th>854</th>\n",
       "      <td>195454</td>\n",
       "      <td>Ralph</td>\n",
       "      <td>Packet</td>\n",
       "      <td>Ralph PACKET</td>\n",
       "      <td>yes</td>\n",
       "      <td>Belgium</td>\n",
       "      <td>NaN</td>\n",
       "      <td>NaN</td>\n",
       "      <td>2018-11-22</td>\n",
       "      <td>2019-12-31</td>\n",
       "    </tr>\n",
       "    <tr>\n",
       "      <th>855</th>\n",
       "      <td>111033</td>\n",
       "      <td>Kārlis</td>\n",
       "      <td>Šadurskis</td>\n",
       "      <td>Kārlis ŠADURSKIS</td>\n",
       "      <td>yes</td>\n",
       "      <td>Latvia</td>\n",
       "      <td>NaN</td>\n",
       "      <td>NaN</td>\n",
       "      <td>2018-11-28</td>\n",
       "      <td>2019-12-31</td>\n",
       "    </tr>\n",
       "    <tr>\n",
       "      <th>856</th>\n",
       "      <td>28299</td>\n",
       "      <td>Bogusław</td>\n",
       "      <td>Sonik</td>\n",
       "      <td>Bogusław SONIK</td>\n",
       "      <td>yes</td>\n",
       "      <td>Poland</td>\n",
       "      <td>NaN</td>\n",
       "      <td>NaN</td>\n",
       "      <td>2018-11-20</td>\n",
       "      <td>2019-12-31</td>\n",
       "    </tr>\n",
       "    <tr>\n",
       "      <th>857</th>\n",
       "      <td>195912</td>\n",
       "      <td>Babette</td>\n",
       "      <td>Winter</td>\n",
       "      <td>Babette WINTER</td>\n",
       "      <td>yes</td>\n",
       "      <td>Germany</td>\n",
       "      <td>NaN</td>\n",
       "      <td>NaN</td>\n",
       "      <td>2019-01-10</td>\n",
       "      <td>2019-12-31</td>\n",
       "    </tr>\n",
       "  </tbody>\n",
       "</table>\n",
       "<p>858 rows × 10 columns</p>\n",
       "</div>"
      ]
     },
     "execution_count": 34,
     "metadata": {},
     "output_type": "execute_result"
    }
   ],
   "execution_count": 34
  },
  {
   "metadata": {},
   "cell_type": "code",
   "source": "",
   "id": "f3bb5feefe33adc8",
   "outputs": [],
   "execution_count": null
  },
  {
   "metadata": {},
   "cell_type": "code",
   "source": [
    "mep_info_for_wnominate = mep_info[['FullName','EPG']]\n",
    "matrix_ep_votes = EP_8_votes_fixed_names[vote_columns]"
   ],
   "id": "4fbb83da54df7d1d",
   "outputs": [],
   "execution_count": null
  },
  {
   "metadata": {},
   "cell_type": "code",
   "source": "memberships_df = hf.get_memberships_df(mep_info,org_df)\n",
   "id": "91a1cd12d6663e2e",
   "outputs": [],
   "execution_count": null
  },
  {
   "metadata": {
    "ExecuteTime": {
     "end_time": "2024-11-05T16:26:02.666285Z",
     "start_time": "2024-11-05T16:26:02.650460Z"
    }
   },
   "cell_type": "code",
   "source": "memebershipsEP8 = pd.read_csv(os.path.join('Cleaned_data','EP8_clean_data','memberships_EP_8.csv'))\n",
   "id": "99ab2b608b325b3e",
   "outputs": [],
   "execution_count": 35
  },
  {
   "metadata": {
    "ExecuteTime": {
     "end_time": "2024-11-05T16:40:31.375072Z",
     "start_time": "2024-11-05T16:40:31.368709Z"
    }
   },
   "cell_type": "code",
   "source": "memebershipsEP8",
   "id": "99c39d3ec8512b8f",
   "outputs": [
    {
     "data": {
      "text/plain": [
       "        org_id            membershipClassification memberDuring.startDate  \\\n",
       "0     org/ep-8                                 NaN             2014-07-01   \n",
       "1     org/5073    def/ep-entities/NATIONAL_CHAMBER             2019-02-12   \n",
       "2     org/4919    def/ep-entities/NATIONAL_CHAMBER             2018-12-06   \n",
       "3     org/4280  def/ep-entities/EU_POLITICAL_GROUP             2014-07-01   \n",
       "4     org/4880  def/ep-entities/EU_POLITICAL_GROUP             2014-10-20   \n",
       "...        ...                                 ...                    ...   \n",
       "7373  org/1533  def/ep-entities/EU_POLITICAL_GROUP             2004-07-20   \n",
       "7374  org/4273  def/ep-entities/EU_POLITICAL_GROUP             2018-11-20   \n",
       "7375  org/1418    def/ep-entities/NATIONAL_CHAMBER             2004-07-20   \n",
       "7376  org/2816    def/ep-entities/NATIONAL_CHAMBER             2009-07-14   \n",
       "7377  org/2952  def/ep-entities/EU_POLITICAL_GROUP             2009-07-14   \n",
       "\n",
       "     memberDuring.endDate                                        citizenship  \\\n",
       "0              2019-07-01  http://publications.europa.eu/resource/authori...   \n",
       "1              2019-07-01  http://publications.europa.eu/resource/authori...   \n",
       "2              2019-02-11  http://publications.europa.eu/resource/authori...   \n",
       "3              2014-10-15  http://publications.europa.eu/resource/authori...   \n",
       "4              2019-07-01  http://publications.europa.eu/resource/authori...   \n",
       "...                   ...                                                ...   \n",
       "7373           2009-07-13  http://publications.europa.eu/resource/authori...   \n",
       "7374           2019-07-01  http://publications.europa.eu/resource/authori...   \n",
       "7375           2009-07-13  http://publications.europa.eu/resource/authori...   \n",
       "7376           2014-06-30  http://publications.europa.eu/resource/authori...   \n",
       "7377           2014-06-30  http://publications.europa.eu/resource/authori...   \n",
       "\n",
       "            bday                                          hasGender  \\\n",
       "0     1985-05-23  http://publications.europa.eu/resource/authori...   \n",
       "1     1985-05-23  http://publications.europa.eu/resource/authori...   \n",
       "2     1985-05-23  http://publications.europa.eu/resource/authori...   \n",
       "3     1985-05-23  http://publications.europa.eu/resource/authori...   \n",
       "4     1985-05-23  http://publications.europa.eu/resource/authori...   \n",
       "...          ...                                                ...   \n",
       "7373  1953-12-03  http://publications.europa.eu/resource/authori...   \n",
       "7374  1953-12-03  http://publications.europa.eu/resource/authori...   \n",
       "7375  1953-12-03  http://publications.europa.eu/resource/authori...   \n",
       "7376  1953-12-03  http://publications.europa.eu/resource/authori...   \n",
       "7377  1953-12-03  http://publications.europa.eu/resource/authori...   \n",
       "\n",
       "      identifier org_label  \n",
       "0          99650       EP8  \n",
       "1          99650      BREX  \n",
       "2          99650        TI  \n",
       "3          99650      EFDD  \n",
       "4          99650      EFDD  \n",
       "...          ...       ...  \n",
       "7373       28299    PPE-DE  \n",
       "7374       28299       PPE  \n",
       "7375       28299        PO  \n",
       "7376       28299        PO  \n",
       "7377       28299       PPE  \n",
       "\n",
       "[7378 rows x 9 columns]"
      ],
      "text/html": [
       "<div>\n",
       "<style scoped>\n",
       "    .dataframe tbody tr th:only-of-type {\n",
       "        vertical-align: middle;\n",
       "    }\n",
       "\n",
       "    .dataframe tbody tr th {\n",
       "        vertical-align: top;\n",
       "    }\n",
       "\n",
       "    .dataframe thead th {\n",
       "        text-align: right;\n",
       "    }\n",
       "</style>\n",
       "<table border=\"1\" class=\"dataframe\">\n",
       "  <thead>\n",
       "    <tr style=\"text-align: right;\">\n",
       "      <th></th>\n",
       "      <th>org_id</th>\n",
       "      <th>membershipClassification</th>\n",
       "      <th>memberDuring.startDate</th>\n",
       "      <th>memberDuring.endDate</th>\n",
       "      <th>citizenship</th>\n",
       "      <th>bday</th>\n",
       "      <th>hasGender</th>\n",
       "      <th>identifier</th>\n",
       "      <th>org_label</th>\n",
       "    </tr>\n",
       "  </thead>\n",
       "  <tbody>\n",
       "    <tr>\n",
       "      <th>0</th>\n",
       "      <td>org/ep-8</td>\n",
       "      <td>NaN</td>\n",
       "      <td>2014-07-01</td>\n",
       "      <td>2019-07-01</td>\n",
       "      <td>http://publications.europa.eu/resource/authori...</td>\n",
       "      <td>1985-05-23</td>\n",
       "      <td>http://publications.europa.eu/resource/authori...</td>\n",
       "      <td>99650</td>\n",
       "      <td>EP8</td>\n",
       "    </tr>\n",
       "    <tr>\n",
       "      <th>1</th>\n",
       "      <td>org/5073</td>\n",
       "      <td>def/ep-entities/NATIONAL_CHAMBER</td>\n",
       "      <td>2019-02-12</td>\n",
       "      <td>2019-07-01</td>\n",
       "      <td>http://publications.europa.eu/resource/authori...</td>\n",
       "      <td>1985-05-23</td>\n",
       "      <td>http://publications.europa.eu/resource/authori...</td>\n",
       "      <td>99650</td>\n",
       "      <td>BREX</td>\n",
       "    </tr>\n",
       "    <tr>\n",
       "      <th>2</th>\n",
       "      <td>org/4919</td>\n",
       "      <td>def/ep-entities/NATIONAL_CHAMBER</td>\n",
       "      <td>2018-12-06</td>\n",
       "      <td>2019-02-11</td>\n",
       "      <td>http://publications.europa.eu/resource/authori...</td>\n",
       "      <td>1985-05-23</td>\n",
       "      <td>http://publications.europa.eu/resource/authori...</td>\n",
       "      <td>99650</td>\n",
       "      <td>TI</td>\n",
       "    </tr>\n",
       "    <tr>\n",
       "      <th>3</th>\n",
       "      <td>org/4280</td>\n",
       "      <td>def/ep-entities/EU_POLITICAL_GROUP</td>\n",
       "      <td>2014-07-01</td>\n",
       "      <td>2014-10-15</td>\n",
       "      <td>http://publications.europa.eu/resource/authori...</td>\n",
       "      <td>1985-05-23</td>\n",
       "      <td>http://publications.europa.eu/resource/authori...</td>\n",
       "      <td>99650</td>\n",
       "      <td>EFDD</td>\n",
       "    </tr>\n",
       "    <tr>\n",
       "      <th>4</th>\n",
       "      <td>org/4880</td>\n",
       "      <td>def/ep-entities/EU_POLITICAL_GROUP</td>\n",
       "      <td>2014-10-20</td>\n",
       "      <td>2019-07-01</td>\n",
       "      <td>http://publications.europa.eu/resource/authori...</td>\n",
       "      <td>1985-05-23</td>\n",
       "      <td>http://publications.europa.eu/resource/authori...</td>\n",
       "      <td>99650</td>\n",
       "      <td>EFDD</td>\n",
       "    </tr>\n",
       "    <tr>\n",
       "      <th>...</th>\n",
       "      <td>...</td>\n",
       "      <td>...</td>\n",
       "      <td>...</td>\n",
       "      <td>...</td>\n",
       "      <td>...</td>\n",
       "      <td>...</td>\n",
       "      <td>...</td>\n",
       "      <td>...</td>\n",
       "      <td>...</td>\n",
       "    </tr>\n",
       "    <tr>\n",
       "      <th>7373</th>\n",
       "      <td>org/1533</td>\n",
       "      <td>def/ep-entities/EU_POLITICAL_GROUP</td>\n",
       "      <td>2004-07-20</td>\n",
       "      <td>2009-07-13</td>\n",
       "      <td>http://publications.europa.eu/resource/authori...</td>\n",
       "      <td>1953-12-03</td>\n",
       "      <td>http://publications.europa.eu/resource/authori...</td>\n",
       "      <td>28299</td>\n",
       "      <td>PPE-DE</td>\n",
       "    </tr>\n",
       "    <tr>\n",
       "      <th>7374</th>\n",
       "      <td>org/4273</td>\n",
       "      <td>def/ep-entities/EU_POLITICAL_GROUP</td>\n",
       "      <td>2018-11-20</td>\n",
       "      <td>2019-07-01</td>\n",
       "      <td>http://publications.europa.eu/resource/authori...</td>\n",
       "      <td>1953-12-03</td>\n",
       "      <td>http://publications.europa.eu/resource/authori...</td>\n",
       "      <td>28299</td>\n",
       "      <td>PPE</td>\n",
       "    </tr>\n",
       "    <tr>\n",
       "      <th>7375</th>\n",
       "      <td>org/1418</td>\n",
       "      <td>def/ep-entities/NATIONAL_CHAMBER</td>\n",
       "      <td>2004-07-20</td>\n",
       "      <td>2009-07-13</td>\n",
       "      <td>http://publications.europa.eu/resource/authori...</td>\n",
       "      <td>1953-12-03</td>\n",
       "      <td>http://publications.europa.eu/resource/authori...</td>\n",
       "      <td>28299</td>\n",
       "      <td>PO</td>\n",
       "    </tr>\n",
       "    <tr>\n",
       "      <th>7376</th>\n",
       "      <td>org/2816</td>\n",
       "      <td>def/ep-entities/NATIONAL_CHAMBER</td>\n",
       "      <td>2009-07-14</td>\n",
       "      <td>2014-06-30</td>\n",
       "      <td>http://publications.europa.eu/resource/authori...</td>\n",
       "      <td>1953-12-03</td>\n",
       "      <td>http://publications.europa.eu/resource/authori...</td>\n",
       "      <td>28299</td>\n",
       "      <td>PO</td>\n",
       "    </tr>\n",
       "    <tr>\n",
       "      <th>7377</th>\n",
       "      <td>org/2952</td>\n",
       "      <td>def/ep-entities/EU_POLITICAL_GROUP</td>\n",
       "      <td>2009-07-14</td>\n",
       "      <td>2014-06-30</td>\n",
       "      <td>http://publications.europa.eu/resource/authori...</td>\n",
       "      <td>1953-12-03</td>\n",
       "      <td>http://publications.europa.eu/resource/authori...</td>\n",
       "      <td>28299</td>\n",
       "      <td>PPE</td>\n",
       "    </tr>\n",
       "  </tbody>\n",
       "</table>\n",
       "<p>7378 rows × 9 columns</p>\n",
       "</div>"
      ]
     },
     "execution_count": 61,
     "metadata": {},
     "output_type": "execute_result"
    }
   ],
   "execution_count": 61
  },
  {
   "metadata": {
    "ExecuteTime": {
     "end_time": "2024-11-05T16:36:29.804890Z",
     "start_time": "2024-11-05T16:36:29.798891Z"
    }
   },
   "cell_type": "code",
   "source": [
    "memebershipsEP8['memberDuring.startDate'] = pd.to_datetime(memebershipsEP8['memberDuring.startDate'])\n",
    "memebershipsEP8['memberDuring.endDate'] = pd.to_datetime(memebershipsEP8['memberDuring.endDate'])"
   ],
   "id": "d9dfdd3d1a42a9c8",
   "outputs": [],
   "execution_count": 43
  },
  {
   "metadata": {
    "ExecuteTime": {
     "end_time": "2024-11-05T16:36:31.232085Z",
     "start_time": "2024-11-05T16:36:31.229771Z"
    }
   },
   "cell_type": "code",
   "source": "import pycountry",
   "id": "96eeee13acb8386d",
   "outputs": [],
   "execution_count": 44
  },
  {
   "metadata": {
    "ExecuteTime": {
     "end_time": "2024-11-05T16:53:23.073279Z",
     "start_time": "2024-11-05T16:53:23.067774Z"
    }
   },
   "cell_type": "code",
   "source": [
    "def get_epg_rowwise(row, df):\n",
    "    mep_id = row['MepId']\n",
    "    start_date = pd.to_datetime(row['Start']) + pd.Timedelta(days=20)\n",
    "    end_date = pd.to_datetime(row['End'])\n",
    "\n",
    "    epg_info = df[\n",
    "        (df['identifier'].astype(str) == str(mep_id)) &\n",
    "        (df['membershipClassification'] == \"def/ep-entities/EU_POLITICAL_GROUP\") &\n",
    "        (df['memberDuring.startDate'] <= start_date) &\n",
    "        (df['memberDuring.endDate'] >= start_date) &\n",
    "        ((df['memberDuring.endDate'].isna()) | (df['memberDuring.endDate'] <= end_date))\n",
    "        ]\n",
    "    return epg_info['org_label'].iloc[0] if not epg_info.empty else np.nan\n",
    "\n",
    "def extract_birthday(identifier, df):\n",
    "    df = df[df['identifier'].astype(str) == str(identifier)]\n",
    "    bday = df.iloc[0][\"bday\"]\n",
    "    return bday\n",
    "\n",
    "\n",
    "def extract_gender(identifier, df):\n",
    "    df = df[df['identifier'].astype(str) == str(identifier)]\n",
    "    hasGender = df.iloc[0]['hasGender']\n",
    "    parts = hasGender.rsplit('/', 1)\n",
    "    return parts[-1] if len(parts) > 1 else hasGender\n",
    "\n",
    "def get_country(mep_id, df):\n",
    "    country_url = df.loc[df['identifier'].astype(str) == str(mep_id), 'citizenship'].iloc[0]\n",
    "    country_code = country_url.split('/')[-1]\n",
    "    return pycountry.countries.get(alpha_3=country_code).name if country_code else np.nan\n",
    "\n",
    "def get_mep_database2(mep_df, memberships_df):\n",
    "    temp_df = mep_df.copy()\n",
    "    mep_df = mep_df.copy()\n",
    "    mep_df['MepId'] = temp_df['MepId'].astype(\"Int64\")\n",
    "    mep_df['Fname'] = temp_df['Fname'].astype(\"str\")\n",
    "    mep_df['Lname'] = temp_df['Lname'].astype(\"str\")\n",
    "    mep_df['EPG2'] = temp_df.apply(get_epg_rowwise, df=memberships_df, axis=1)\n",
    "    mep_df['FullName'] = temp_df['FullName'].astype(\"str\")\n",
    "    mep_df['Birthday'] = temp_df['MepId'].apply(extract_birthday, df=memberships_df).astype(\"datetime64[ns]\")\n",
    "    mep_df['Gender'] = temp_df['MepId'].apply(extract_gender, df=memberships_df).astype(\"str\")\n",
    "    mep_df['Country'] = temp_df['MepId'].apply(get_country, df=memberships_df).astype(\"str\")\n",
    "    return mep_df\n"
   ],
   "id": "7677922c08f68cd",
   "outputs": [],
   "execution_count": 74
  },
  {
   "metadata": {
    "ExecuteTime": {
     "end_time": "2024-11-05T16:52:10.987794Z",
     "start_time": "2024-11-05T16:52:10.985792Z"
    }
   },
   "cell_type": "code",
   "source": "",
   "id": "2b503fdfc591fdbe",
   "outputs": [],
   "execution_count": null
  },
  {
   "metadata": {
    "ExecuteTime": {
     "end_time": "2024-11-05T16:53:29.514190Z",
     "start_time": "2024-11-05T16:53:25.266399Z"
    }
   },
   "cell_type": "code",
   "source": "mep_info_db = get_mep_database2(mep_info, memebershipsEP8)\n",
   "id": "5392630d44ca458b",
   "outputs": [],
   "execution_count": 75
  },
  {
   "metadata": {
    "ExecuteTime": {
     "end_time": "2024-11-05T16:55:10.002111Z",
     "start_time": "2024-11-05T16:55:09.999114Z"
    }
   },
   "cell_type": "code",
   "source": "mep_info_db['EPG2'].replace(\"PPE\", \"EPP\", inplace=True)",
   "id": "ce59b06fdea41443",
   "outputs": [
    {
     "name": "stderr",
     "output_type": "stream",
     "text": [
      "C:\\Users\\User\\AppData\\Local\\Temp\\ipykernel_40764\\1951727060.py:1: FutureWarning: A value is trying to be set on a copy of a DataFrame or Series through chained assignment using an inplace method.\n",
      "The behavior will change in pandas 3.0. This inplace method will never work because the intermediate object on which we are setting values always behaves as a copy.\n",
      "\n",
      "For example, when doing 'df[col].method(value, inplace=True)', try using 'df.method({col: value}, inplace=True)' or df[col] = df[col].method(value) instead, to perform the operation inplace on the original object.\n",
      "\n",
      "\n",
      "  mep_info_db['EPG2'].replace(\"PPE\", \"EPP\", inplace=True)\n"
     ]
    }
   ],
   "execution_count": 77
  },
  {
   "metadata": {
    "ExecuteTime": {
     "end_time": "2024-11-05T16:56:55.509906Z",
     "start_time": "2024-11-05T16:56:55.506906Z"
    }
   },
   "cell_type": "code",
   "source": "mep_info_db['EPG2'].replace(\"GUE-NGL\",\"GUE–NGL\",inplace=True)",
   "id": "998a59f099e7eebf",
   "outputs": [
    {
     "name": "stderr",
     "output_type": "stream",
     "text": [
      "C:\\Users\\User\\AppData\\Local\\Temp\\ipykernel_40764\\2399694616.py:1: FutureWarning: A value is trying to be set on a copy of a DataFrame or Series through chained assignment using an inplace method.\n",
      "The behavior will change in pandas 3.0. This inplace method will never work because the intermediate object on which we are setting values always behaves as a copy.\n",
      "\n",
      "For example, when doing 'df[col].method(value, inplace=True)', try using 'df.method({col: value}, inplace=True)' or df[col] = df[col].method(value) instead, to perform the operation inplace on the original object.\n",
      "\n",
      "\n",
      "  mep_info_db['EPG2'].replace(\"GUE-NGL\",\"GUE–NGL\",inplace=True)\n"
     ]
    }
   ],
   "execution_count": 83
  },
  {
   "metadata": {
    "ExecuteTime": {
     "end_time": "2024-11-05T16:56:56.584854Z",
     "start_time": "2024-11-05T16:56:56.576838Z"
    }
   },
   "cell_type": "code",
   "source": "mep_info_db[mep_info_db['EPG'] != mep_info_db['EPG2']]",
   "id": "815d5a92b0355d88",
   "outputs": [
    {
     "data": {
      "text/plain": [
       "      MepId        Fname       Lname              FullName Activ  Country  \\\n",
       "0    124990         Lars  Adaktusson       Lars ADAKTUSSON    no   Sweden   \n",
       "2    124797        Marco    Affronte        Marco AFFRONTE   yes    Italy   \n",
       "9     96736  Jan Philipp    Albrecht  Jan Philipp ALBRECHT    no  Germany   \n",
       "11    30190        Louis       Aliot           Louis ALIOT    no   France   \n",
       "15   124994          Max   Andersson         Max ANDERSSON   yes   Sweden   \n",
       "..      ...          ...         ...                   ...   ...      ...   \n",
       "853  196042     Aleksejs   Loskutovs    Aleksejs LOSKUTOVS   yes   Latvia   \n",
       "854  195454        Ralph      Packet          Ralph PACKET   yes  Belgium   \n",
       "855  111033       Kārlis   Šadurskis      Kārlis ŠADURSKIS   yes   Latvia   \n",
       "856   28299     Bogusław       Sonik        Bogusław SONIK   yes   Poland   \n",
       "857  195912      Babette      Winter        Babette WINTER   yes  Germany   \n",
       "\n",
       "                     Party         EPG      Start        End       EPG2  \\\n",
       "0        Kristdemokraterna         NaN 2014-07-01 2018-09-23        EPP   \n",
       "2              Independent  Greens–EFA 2014-07-01 2019-12-31       EFDD   \n",
       "9    Bündnis 90/Die Grünen         NaN 2014-07-01 2018-07-02  Verts/ALE   \n",
       "11          Front national         NaN 2014-07-01 2017-07-20         NI   \n",
       "15   Miljöpartiet de gröna  Greens–EFA 2014-07-01 2019-12-31  Verts/ALE   \n",
       "..                     ...         ...        ...        ...        ...   \n",
       "853                    NaN         NaN 2019-01-24 2019-12-31        EPP   \n",
       "854                    NaN         NaN 2018-11-22 2019-12-31        ECR   \n",
       "855                    NaN         NaN 2018-11-28 2019-12-31        EPP   \n",
       "856                    NaN         NaN 2018-11-20 2019-12-31        EPP   \n",
       "857                    NaN         NaN 2019-01-10 2019-12-31        S&D   \n",
       "\n",
       "      Birthday  Gender  \n",
       "0   1955-08-06    MALE  \n",
       "2   1965-05-06    MALE  \n",
       "9   1982-12-20    MALE  \n",
       "11  1969-09-04    MALE  \n",
       "15  1973-10-26    MALE  \n",
       "..         ...     ...  \n",
       "853 1962-08-22    MALE  \n",
       "854 1990-07-17    MALE  \n",
       "855 1959-10-11    MALE  \n",
       "856 1953-12-03    MALE  \n",
       "857 1964-06-06  FEMALE  \n",
       "\n",
       "[224 rows x 13 columns]"
      ],
      "text/html": [
       "<div>\n",
       "<style scoped>\n",
       "    .dataframe tbody tr th:only-of-type {\n",
       "        vertical-align: middle;\n",
       "    }\n",
       "\n",
       "    .dataframe tbody tr th {\n",
       "        vertical-align: top;\n",
       "    }\n",
       "\n",
       "    .dataframe thead th {\n",
       "        text-align: right;\n",
       "    }\n",
       "</style>\n",
       "<table border=\"1\" class=\"dataframe\">\n",
       "  <thead>\n",
       "    <tr style=\"text-align: right;\">\n",
       "      <th></th>\n",
       "      <th>MepId</th>\n",
       "      <th>Fname</th>\n",
       "      <th>Lname</th>\n",
       "      <th>FullName</th>\n",
       "      <th>Activ</th>\n",
       "      <th>Country</th>\n",
       "      <th>Party</th>\n",
       "      <th>EPG</th>\n",
       "      <th>Start</th>\n",
       "      <th>End</th>\n",
       "      <th>EPG2</th>\n",
       "      <th>Birthday</th>\n",
       "      <th>Gender</th>\n",
       "    </tr>\n",
       "  </thead>\n",
       "  <tbody>\n",
       "    <tr>\n",
       "      <th>0</th>\n",
       "      <td>124990</td>\n",
       "      <td>Lars</td>\n",
       "      <td>Adaktusson</td>\n",
       "      <td>Lars ADAKTUSSON</td>\n",
       "      <td>no</td>\n",
       "      <td>Sweden</td>\n",
       "      <td>Kristdemokraterna</td>\n",
       "      <td>NaN</td>\n",
       "      <td>2014-07-01</td>\n",
       "      <td>2018-09-23</td>\n",
       "      <td>EPP</td>\n",
       "      <td>1955-08-06</td>\n",
       "      <td>MALE</td>\n",
       "    </tr>\n",
       "    <tr>\n",
       "      <th>2</th>\n",
       "      <td>124797</td>\n",
       "      <td>Marco</td>\n",
       "      <td>Affronte</td>\n",
       "      <td>Marco AFFRONTE</td>\n",
       "      <td>yes</td>\n",
       "      <td>Italy</td>\n",
       "      <td>Independent</td>\n",
       "      <td>Greens–EFA</td>\n",
       "      <td>2014-07-01</td>\n",
       "      <td>2019-12-31</td>\n",
       "      <td>EFDD</td>\n",
       "      <td>1965-05-06</td>\n",
       "      <td>MALE</td>\n",
       "    </tr>\n",
       "    <tr>\n",
       "      <th>9</th>\n",
       "      <td>96736</td>\n",
       "      <td>Jan Philipp</td>\n",
       "      <td>Albrecht</td>\n",
       "      <td>Jan Philipp ALBRECHT</td>\n",
       "      <td>no</td>\n",
       "      <td>Germany</td>\n",
       "      <td>Bündnis 90/Die Grünen</td>\n",
       "      <td>NaN</td>\n",
       "      <td>2014-07-01</td>\n",
       "      <td>2018-07-02</td>\n",
       "      <td>Verts/ALE</td>\n",
       "      <td>1982-12-20</td>\n",
       "      <td>MALE</td>\n",
       "    </tr>\n",
       "    <tr>\n",
       "      <th>11</th>\n",
       "      <td>30190</td>\n",
       "      <td>Louis</td>\n",
       "      <td>Aliot</td>\n",
       "      <td>Louis ALIOT</td>\n",
       "      <td>no</td>\n",
       "      <td>France</td>\n",
       "      <td>Front national</td>\n",
       "      <td>NaN</td>\n",
       "      <td>2014-07-01</td>\n",
       "      <td>2017-07-20</td>\n",
       "      <td>NI</td>\n",
       "      <td>1969-09-04</td>\n",
       "      <td>MALE</td>\n",
       "    </tr>\n",
       "    <tr>\n",
       "      <th>15</th>\n",
       "      <td>124994</td>\n",
       "      <td>Max</td>\n",
       "      <td>Andersson</td>\n",
       "      <td>Max ANDERSSON</td>\n",
       "      <td>yes</td>\n",
       "      <td>Sweden</td>\n",
       "      <td>Miljöpartiet de gröna</td>\n",
       "      <td>Greens–EFA</td>\n",
       "      <td>2014-07-01</td>\n",
       "      <td>2019-12-31</td>\n",
       "      <td>Verts/ALE</td>\n",
       "      <td>1973-10-26</td>\n",
       "      <td>MALE</td>\n",
       "    </tr>\n",
       "    <tr>\n",
       "      <th>...</th>\n",
       "      <td>...</td>\n",
       "      <td>...</td>\n",
       "      <td>...</td>\n",
       "      <td>...</td>\n",
       "      <td>...</td>\n",
       "      <td>...</td>\n",
       "      <td>...</td>\n",
       "      <td>...</td>\n",
       "      <td>...</td>\n",
       "      <td>...</td>\n",
       "      <td>...</td>\n",
       "      <td>...</td>\n",
       "      <td>...</td>\n",
       "    </tr>\n",
       "    <tr>\n",
       "      <th>853</th>\n",
       "      <td>196042</td>\n",
       "      <td>Aleksejs</td>\n",
       "      <td>Loskutovs</td>\n",
       "      <td>Aleksejs LOSKUTOVS</td>\n",
       "      <td>yes</td>\n",
       "      <td>Latvia</td>\n",
       "      <td>NaN</td>\n",
       "      <td>NaN</td>\n",
       "      <td>2019-01-24</td>\n",
       "      <td>2019-12-31</td>\n",
       "      <td>EPP</td>\n",
       "      <td>1962-08-22</td>\n",
       "      <td>MALE</td>\n",
       "    </tr>\n",
       "    <tr>\n",
       "      <th>854</th>\n",
       "      <td>195454</td>\n",
       "      <td>Ralph</td>\n",
       "      <td>Packet</td>\n",
       "      <td>Ralph PACKET</td>\n",
       "      <td>yes</td>\n",
       "      <td>Belgium</td>\n",
       "      <td>NaN</td>\n",
       "      <td>NaN</td>\n",
       "      <td>2018-11-22</td>\n",
       "      <td>2019-12-31</td>\n",
       "      <td>ECR</td>\n",
       "      <td>1990-07-17</td>\n",
       "      <td>MALE</td>\n",
       "    </tr>\n",
       "    <tr>\n",
       "      <th>855</th>\n",
       "      <td>111033</td>\n",
       "      <td>Kārlis</td>\n",
       "      <td>Šadurskis</td>\n",
       "      <td>Kārlis ŠADURSKIS</td>\n",
       "      <td>yes</td>\n",
       "      <td>Latvia</td>\n",
       "      <td>NaN</td>\n",
       "      <td>NaN</td>\n",
       "      <td>2018-11-28</td>\n",
       "      <td>2019-12-31</td>\n",
       "      <td>EPP</td>\n",
       "      <td>1959-10-11</td>\n",
       "      <td>MALE</td>\n",
       "    </tr>\n",
       "    <tr>\n",
       "      <th>856</th>\n",
       "      <td>28299</td>\n",
       "      <td>Bogusław</td>\n",
       "      <td>Sonik</td>\n",
       "      <td>Bogusław SONIK</td>\n",
       "      <td>yes</td>\n",
       "      <td>Poland</td>\n",
       "      <td>NaN</td>\n",
       "      <td>NaN</td>\n",
       "      <td>2018-11-20</td>\n",
       "      <td>2019-12-31</td>\n",
       "      <td>EPP</td>\n",
       "      <td>1953-12-03</td>\n",
       "      <td>MALE</td>\n",
       "    </tr>\n",
       "    <tr>\n",
       "      <th>857</th>\n",
       "      <td>195912</td>\n",
       "      <td>Babette</td>\n",
       "      <td>Winter</td>\n",
       "      <td>Babette WINTER</td>\n",
       "      <td>yes</td>\n",
       "      <td>Germany</td>\n",
       "      <td>NaN</td>\n",
       "      <td>NaN</td>\n",
       "      <td>2019-01-10</td>\n",
       "      <td>2019-12-31</td>\n",
       "      <td>S&amp;D</td>\n",
       "      <td>1964-06-06</td>\n",
       "      <td>FEMALE</td>\n",
       "    </tr>\n",
       "  </tbody>\n",
       "</table>\n",
       "<p>224 rows × 13 columns</p>\n",
       "</div>"
      ]
     },
     "execution_count": 84,
     "metadata": {},
     "output_type": "execute_result"
    }
   ],
   "execution_count": 84
  },
  {
   "metadata": {},
   "cell_type": "code",
   "source": [
    "votings_filtered_list = [\n",
    "    \"VoteId\" \n",
    "    ,\"Date\" \n",
    "    ,\"Title\"\n",
    "    ,\"TypeOfVote\"\n",
    "    ,\"Rapporteur\"\n",
    "    ,\"Link\"\n",
    "    ,\"CommitteeResponsabile\"\n",
    "    ,'Subject'\n",
    "    ,'FinalVote' \n",
    "    ,'AmNo'\n",
    "    ,'Author'\n",
    "    ,'Vote'   \n",
    "    ,'Yes'\n",
    "    ,'No' \n",
    "    ,'Abs']"
   ],
   "id": "d13f520319068a2e",
   "outputs": [],
   "execution_count": null
  },
  {
   "metadata": {},
   "cell_type": "code",
   "source": "votings = EP_8_votations[votings_filtered_list]\n",
   "id": "1a65df5ea5a52ad1",
   "outputs": [],
   "execution_count": null
  },
  {
   "metadata": {},
   "cell_type": "code",
   "source": "melted_votes.VoteId = melted_votes.VoteId.astype('Int64')\n",
   "id": "dc8ecfeac9b4caab",
   "outputs": [],
   "execution_count": null
  },
  {
   "metadata": {},
   "cell_type": "markdown",
   "source": "Saving files to .csv\n",
   "id": "6550597da974817e"
  },
  {
   "metadata": {},
   "cell_type": "code",
   "source": [
    "base_directory = os.path.join(\"Cleaned_data\",\"EP8_clean_data\")\n",
    "os.makedirs(base_directory, exist_ok=True)"
   ],
   "id": "69f1d72e9f8a9850",
   "outputs": [],
   "execution_count": null
  },
  {
   "metadata": {},
   "cell_type": "code",
   "source": [
    "matrix_ep_votes.to_csv(os.path.join(base_directory,\"matrix_ep8_votes.csv\"),index=False)\n",
    "mep_info_for_wnominate.to_csv(os.path.join(base_directory,\"mep_info_for_wnominate.csv\"),index=False)"
   ],
   "id": "9e42ce3eff8b7b6d",
   "outputs": [],
   "execution_count": null
  },
  {
   "metadata": {},
   "cell_type": "code",
   "source": [
    "mep_info_db.to_csv(os.path.join(base_directory,\"mep_info_EP_8.csv\"),index=False)\n",
    "melted_votes.to_csv(os.path.join(base_directory,\"votes_EP_8.csv\"),index=False)\n",
    "votings.to_csv(os.path.join(base_directory,\"votings_EP_8.csv\"),index=False)\n",
    "memberships_df.to_csv(os.path.join(base_directory,\"memberships_EP_8.csv\"),index=False)"
   ],
   "id": "89810ddec13787dd",
   "outputs": [],
   "execution_count": null
  },
  {
   "metadata": {},
   "cell_type": "code",
   "source": "",
   "id": "3ed9de6b2aeba466",
   "outputs": [],
   "execution_count": null
  }
 ],
 "metadata": {
  "kernelspec": {
   "display_name": "Python 3",
   "language": "python",
   "name": "python3"
  },
  "language_info": {
   "codemirror_mode": {
    "name": "ipython",
    "version": 2
   },
   "file_extension": ".py",
   "mimetype": "text/x-python",
   "name": "python",
   "nbconvert_exporter": "python",
   "pygments_lexer": "ipython2",
   "version": "2.7.6"
  }
 },
 "nbformat": 4,
 "nbformat_minor": 5
}
