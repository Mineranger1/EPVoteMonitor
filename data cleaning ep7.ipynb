{
 "cells": [
  {
   "cell_type": "code",
   "metadata": {
    "collapsed": true,
    "ExecuteTime": {
     "end_time": "2024-09-02T12:24:58.392957Z",
     "start_time": "2024-09-02T12:24:58.390063Z"
    }
   },
   "source": [
    "import pandas as pd\n",
    "import numpy as np\n",
    "import requests\n",
    "import glob\n",
    "import openpyxl\n",
    "import os\n",
    "from fuzzywuzzy import fuzz\n",
    "from fuzzywuzzy import process\n",
    "import helperfunctions as hf\n",
    "from concurrent.futures import ThreadPoolExecutor, as_completed\n"
   ],
   "outputs": [],
   "execution_count": 3
  },
  {
   "metadata": {},
   "cell_type": "markdown",
   "source": "Creating relative paths"
  },
  {
   "metadata": {
    "ExecuteTime": {
     "end_time": "2024-09-02T12:24:58.431785Z",
     "start_time": "2024-09-02T12:24:58.428897Z"
    }
   },
   "cell_type": "code",
   "source": [
    "votes = os.path.join(\"VoteWatch-EP-voting-data_2004-2022\", \"EP7_RCVs_2014_06_19.xlsx\")\n",
    "votations = os.path.join(\"VoteWatch-EP-voting-data_2004-2022\",\"EP7_Voted docs.xlsx\")"
   ],
   "outputs": [],
   "execution_count": 4
  },
  {
   "cell_type": "code",
   "source": [
    "EP7_votes = pd.read_excel(votes)\n",
    "EP7_votations = pd.read_excel(votations)\n"
   ],
   "metadata": {
    "collapsed": false,
    "ExecuteTime": {
     "end_time": "2024-09-02T12:25:37.269790Z",
     "start_time": "2024-09-02T12:24:58.486527Z"
    }
   },
   "outputs": [],
   "execution_count": 5
  },
  {
   "metadata": {},
   "cell_type": "markdown",
   "source": "Importing data from EU API (for correct names)"
  },
  {
   "cell_type": "code",
   "source": [
    "url = 'https://data.europarl.europa.eu/api/v2/meps?parliamentary-term=7&format=application%2Fld%2Bjson&offset=0'\n",
    "response = requests.get(url)\n",
    "meps_data_7 = response.json()"
   ],
   "metadata": {
    "collapsed": false,
    "ExecuteTime": {
     "end_time": "2024-09-02T12:25:39.444061Z",
     "start_time": "2024-09-02T12:25:37.272794Z"
    }
   },
   "outputs": [],
   "execution_count": 6
  },
  {
   "cell_type": "code",
   "source": [
    "\n",
    "\n",
    "meps_df_7 = pd.json_normalize(meps_data_7['data'])\n"
   ],
   "metadata": {
    "collapsed": false,
    "ExecuteTime": {
     "end_time": "2024-09-02T12:25:39.460057Z",
     "start_time": "2024-09-02T12:25:39.454869Z"
    }
   },
   "outputs": [],
   "execution_count": 7
  },
  {
   "metadata": {},
   "cell_type": "markdown",
   "source": "MepID is incorrect in the original database, so I match MEP's by name from the API data"
  },
  {
   "cell_type": "code",
   "source": [
    "def fuzzy_merge(df_1, df_2, key1, key2, threshold=90, limit=2):\n",
    "    \"\"\"\n",
    "    :param df_1: the left table to join\n",
    "    :param df_2: the right table to join\n",
    "    :param key1: key column of the left table\n",
    "    :param key2: key column of the right table\n",
    "    :param threshold: how close the matches should be to return a match, based on Levenshtein distance\n",
    "    :param limit: the amount of matches that will get returned, these are sorted high to low\n",
    "    :return: dataframe with boths keys and matches\n",
    "    \"\"\"\n",
    "    s = df_2[key2].tolist()\n",
    "\n",
    "    m = df_1[key1].apply(lambda x: process.extract(x, s, limit=limit))\n",
    "    df_1['matches'] = m\n",
    "\n",
    "    m2 = df_1['matches'].apply(lambda x: ', '.join([i[0] for i in x if i[1] >= threshold]))\n",
    "    df_1['matches'] = m2\n",
    "\n",
    "    return df_1"
   ],
   "metadata": {
    "collapsed": false,
    "ExecuteTime": {
     "end_time": "2024-09-02T12:25:39.473712Z",
     "start_time": "2024-09-02T12:25:39.470690Z"
    }
   },
   "outputs": [],
   "execution_count": 8
  },
  {
   "cell_type": "code",
   "source": "fuzzy_merged =fuzzy_merge(EP7_votes, meps_df_7, 'FullName', 'label', threshold=70, limit=1)",
   "metadata": {
    "collapsed": false,
    "ExecuteTime": {
     "end_time": "2024-09-02T12:26:49.108550Z",
     "start_time": "2024-09-02T12:25:39.483906Z"
    }
   },
   "outputs": [],
   "execution_count": 9
  },
  {
   "cell_type": "code",
   "source": "fuzzy_merged = fuzzy_merged.rename(columns={'matches': 'label'})",
   "metadata": {
    "collapsed": false,
    "ExecuteTime": {
     "end_time": "2024-09-02T12:26:49.133480Z",
     "start_time": "2024-09-02T12:26:49.122776Z"
    }
   },
   "outputs": [],
   "execution_count": 10
  },
  {
   "cell_type": "code",
   "source": [
    "\n",
    "\n",
    "megamerge1 = fuzzy_merged.merge(meps_df_7,on='label')\n",
    "\n"
   ],
   "metadata": {
    "collapsed": false,
    "ExecuteTime": {
     "end_time": "2024-09-02T12:26:49.155972Z",
     "start_time": "2024-09-02T12:26:49.147021Z"
    }
   },
   "outputs": [],
   "execution_count": 11
  },
  {
   "metadata": {},
   "cell_type": "markdown",
   "source": ""
  },
  {
   "metadata": {
    "ExecuteTime": {
     "end_time": "2024-09-02T12:26:49.175426Z",
     "start_time": "2024-09-02T12:26:49.172109Z"
    }
   },
   "cell_type": "code",
   "source": "boolmask = megamerge1.Lname.str.lower() == megamerge1.familyName.str.lower()",
   "outputs": [],
   "execution_count": 12
  },
  {
   "metadata": {
    "ExecuteTime": {
     "end_time": "2024-09-02T12:26:49.198688Z",
     "start_time": "2024-09-02T12:26:49.190970Z"
    }
   },
   "cell_type": "code",
   "source": "megamerge1[['Fname','Lname','FullName','Party','Country','MEP ID','identifier']]",
   "outputs": [
    {
     "data": {
      "text/plain": [
       "           Fname                        Lname  \\\n",
       "0         Damien                         ABAD   \n",
       "1          János                         ÁDER   \n",
       "2    John Stuart                        AGNEW   \n",
       "3       Gabriele                    ALBERTINI   \n",
       "4    Jan Philipp                     ALBRECHT   \n",
       "..           ...                          ...   \n",
       "848   Rina Ronja                         KARI   \n",
       "849     Giovanni                   BARBAGALLO   \n",
       "850      Annette                      KOEWIUS   \n",
       "851       Katrin                         SAKS   \n",
       "852    Christine  REVAULT D'ALLONNES BONNEFOY   \n",
       "\n",
       "                                   FullName  \\\n",
       "0                              ABAD, Damien   \n",
       "1                               ÁDER, János   \n",
       "2                        AGNEW, John Stuart   \n",
       "3                       ALBERTINI, Gabriele   \n",
       "4                     ALBRECHT, Jan Philipp   \n",
       "..                                      ...   \n",
       "848                        KARI, Rina Ronja   \n",
       "849                    BARBAGALLO, Giovanni   \n",
       "850                        KOEWIUS, Annette   \n",
       "851                            SAKS, Katrin   \n",
       "852  REVAULT D'ALLONNES BONNEFOY, Christine   \n",
       "\n",
       "                                                 Party         Country  \\\n",
       "0                                       Nouveau Centre          France   \n",
       "1    Fidesz-Magyar Polgári Szövetség-Keresztény Dem...         Hungary   \n",
       "2                    United Kingdom Independence Party  United Kingdom   \n",
       "3                              Il Popolo della Libertà           Italy   \n",
       "4                                Bündnis 90/Die Grünen         Germany   \n",
       "..                                                 ...             ...   \n",
       "848                             Folkebevægelsen mod EU         Denmark   \n",
       "849                                Partito Democratico           Italy   \n",
       "850        Christlich Demokratische Union Deutschlands         Germany   \n",
       "851                       Sotsiaaldemokraatlik Erakond         Estonia   \n",
       "852                                   Parti socialiste          France   \n",
       "\n",
       "     MEP ID identifier  \n",
       "0         1      96850  \n",
       "1         2      96659  \n",
       "2         3      96897  \n",
       "3         4      28367  \n",
       "4         5      96736  \n",
       "..      ...        ...  \n",
       "848     849     122885  \n",
       "849     850     123792  \n",
       "850     851     123816  \n",
       "851     852      37200  \n",
       "852     853     124287  \n",
       "\n",
       "[853 rows x 7 columns]"
      ],
      "text/html": [
       "<div>\n",
       "<style scoped>\n",
       "    .dataframe tbody tr th:only-of-type {\n",
       "        vertical-align: middle;\n",
       "    }\n",
       "\n",
       "    .dataframe tbody tr th {\n",
       "        vertical-align: top;\n",
       "    }\n",
       "\n",
       "    .dataframe thead th {\n",
       "        text-align: right;\n",
       "    }\n",
       "</style>\n",
       "<table border=\"1\" class=\"dataframe\">\n",
       "  <thead>\n",
       "    <tr style=\"text-align: right;\">\n",
       "      <th></th>\n",
       "      <th>Fname</th>\n",
       "      <th>Lname</th>\n",
       "      <th>FullName</th>\n",
       "      <th>Party</th>\n",
       "      <th>Country</th>\n",
       "      <th>MEP ID</th>\n",
       "      <th>identifier</th>\n",
       "    </tr>\n",
       "  </thead>\n",
       "  <tbody>\n",
       "    <tr>\n",
       "      <th>0</th>\n",
       "      <td>Damien</td>\n",
       "      <td>ABAD</td>\n",
       "      <td>ABAD, Damien</td>\n",
       "      <td>Nouveau Centre</td>\n",
       "      <td>France</td>\n",
       "      <td>1</td>\n",
       "      <td>96850</td>\n",
       "    </tr>\n",
       "    <tr>\n",
       "      <th>1</th>\n",
       "      <td>János</td>\n",
       "      <td>ÁDER</td>\n",
       "      <td>ÁDER, János</td>\n",
       "      <td>Fidesz-Magyar Polgári Szövetség-Keresztény Dem...</td>\n",
       "      <td>Hungary</td>\n",
       "      <td>2</td>\n",
       "      <td>96659</td>\n",
       "    </tr>\n",
       "    <tr>\n",
       "      <th>2</th>\n",
       "      <td>John Stuart</td>\n",
       "      <td>AGNEW</td>\n",
       "      <td>AGNEW, John Stuart</td>\n",
       "      <td>United Kingdom Independence Party</td>\n",
       "      <td>United Kingdom</td>\n",
       "      <td>3</td>\n",
       "      <td>96897</td>\n",
       "    </tr>\n",
       "    <tr>\n",
       "      <th>3</th>\n",
       "      <td>Gabriele</td>\n",
       "      <td>ALBERTINI</td>\n",
       "      <td>ALBERTINI, Gabriele</td>\n",
       "      <td>Il Popolo della Libertà</td>\n",
       "      <td>Italy</td>\n",
       "      <td>4</td>\n",
       "      <td>28367</td>\n",
       "    </tr>\n",
       "    <tr>\n",
       "      <th>4</th>\n",
       "      <td>Jan Philipp</td>\n",
       "      <td>ALBRECHT</td>\n",
       "      <td>ALBRECHT, Jan Philipp</td>\n",
       "      <td>Bündnis 90/Die Grünen</td>\n",
       "      <td>Germany</td>\n",
       "      <td>5</td>\n",
       "      <td>96736</td>\n",
       "    </tr>\n",
       "    <tr>\n",
       "      <th>...</th>\n",
       "      <td>...</td>\n",
       "      <td>...</td>\n",
       "      <td>...</td>\n",
       "      <td>...</td>\n",
       "      <td>...</td>\n",
       "      <td>...</td>\n",
       "      <td>...</td>\n",
       "    </tr>\n",
       "    <tr>\n",
       "      <th>848</th>\n",
       "      <td>Rina Ronja</td>\n",
       "      <td>KARI</td>\n",
       "      <td>KARI, Rina Ronja</td>\n",
       "      <td>Folkebevægelsen mod EU</td>\n",
       "      <td>Denmark</td>\n",
       "      <td>849</td>\n",
       "      <td>122885</td>\n",
       "    </tr>\n",
       "    <tr>\n",
       "      <th>849</th>\n",
       "      <td>Giovanni</td>\n",
       "      <td>BARBAGALLO</td>\n",
       "      <td>BARBAGALLO, Giovanni</td>\n",
       "      <td>Partito Democratico</td>\n",
       "      <td>Italy</td>\n",
       "      <td>850</td>\n",
       "      <td>123792</td>\n",
       "    </tr>\n",
       "    <tr>\n",
       "      <th>850</th>\n",
       "      <td>Annette</td>\n",
       "      <td>KOEWIUS</td>\n",
       "      <td>KOEWIUS, Annette</td>\n",
       "      <td>Christlich Demokratische Union Deutschlands</td>\n",
       "      <td>Germany</td>\n",
       "      <td>851</td>\n",
       "      <td>123816</td>\n",
       "    </tr>\n",
       "    <tr>\n",
       "      <th>851</th>\n",
       "      <td>Katrin</td>\n",
       "      <td>SAKS</td>\n",
       "      <td>SAKS, Katrin</td>\n",
       "      <td>Sotsiaaldemokraatlik Erakond</td>\n",
       "      <td>Estonia</td>\n",
       "      <td>852</td>\n",
       "      <td>37200</td>\n",
       "    </tr>\n",
       "    <tr>\n",
       "      <th>852</th>\n",
       "      <td>Christine</td>\n",
       "      <td>REVAULT D'ALLONNES BONNEFOY</td>\n",
       "      <td>REVAULT D'ALLONNES BONNEFOY, Christine</td>\n",
       "      <td>Parti socialiste</td>\n",
       "      <td>France</td>\n",
       "      <td>853</td>\n",
       "      <td>124287</td>\n",
       "    </tr>\n",
       "  </tbody>\n",
       "</table>\n",
       "<p>853 rows × 7 columns</p>\n",
       "</div>"
      ]
     },
     "execution_count": 13,
     "metadata": {},
     "output_type": "execute_result"
    }
   ],
   "execution_count": 13
  },
  {
   "metadata": {},
   "cell_type": "markdown",
   "source": "And then manually fix edge cases (the fuzzy_merge function prefers first name for some reason, "
  },
  {
   "cell_type": "code",
   "source": [
    "name_to_new_id = {\n",
    "    'ITURGAIZ ANGULO': '28398',\n",
    "    'JONG': '96748',\n",
    "    'MATO ADROVER': '96936',\n",
    "    'IOTOVA': '38605'\n",
    "}\n",
    "\n",
    "for name, new_id in name_to_new_id.items():\n",
    "    megamerge1.loc[megamerge1['Lname'] == name, 'identifier'] = new_id"
   ],
   "metadata": {
    "collapsed": false,
    "ExecuteTime": {
     "end_time": "2024-09-02T12:26:49.232024Z",
     "start_time": "2024-09-02T12:26:49.228349Z"
    }
   },
   "outputs": [],
   "execution_count": 14
  },
  {
   "metadata": {},
   "cell_type": "markdown",
   "source": "Then merge again to get the correct familyName etc for the 3 meps (the following part is messy, I should've dropped most of the columns from meps_df_7 before proceeding, but it works so i decided to leave it in)"
  },
  {
   "metadata": {
    "ExecuteTime": {
     "end_time": "2024-09-02T12:26:49.293179Z",
     "start_time": "2024-09-02T12:26:49.268473Z"
    }
   },
   "cell_type": "code",
   "source": "megamerge2 = megamerge1.merge(meps_df_7,on='identifier')\n",
   "outputs": [],
   "execution_count": 15
  },
  {
   "metadata": {
    "ExecuteTime": {
     "end_time": "2024-09-02T12:26:49.366416Z",
     "start_time": "2024-09-02T12:26:49.360688Z"
    }
   },
   "cell_type": "code",
   "source": "megamerge2[['Fname','Lname','FullName','Party','Country','MEP ID','identifier','familyName_x','familyName_y']]",
   "outputs": [
    {
     "data": {
      "text/plain": [
       "           Fname                        Lname  \\\n",
       "0         Damien                         ABAD   \n",
       "1          János                         ÁDER   \n",
       "2    John Stuart                        AGNEW   \n",
       "3       Gabriele                    ALBERTINI   \n",
       "4    Jan Philipp                     ALBRECHT   \n",
       "..           ...                          ...   \n",
       "848   Rina Ronja                         KARI   \n",
       "849     Giovanni                   BARBAGALLO   \n",
       "850      Annette                      KOEWIUS   \n",
       "851       Katrin                         SAKS   \n",
       "852    Christine  REVAULT D'ALLONNES BONNEFOY   \n",
       "\n",
       "                                   FullName  \\\n",
       "0                              ABAD, Damien   \n",
       "1                               ÁDER, János   \n",
       "2                        AGNEW, John Stuart   \n",
       "3                       ALBERTINI, Gabriele   \n",
       "4                     ALBRECHT, Jan Philipp   \n",
       "..                                      ...   \n",
       "848                        KARI, Rina Ronja   \n",
       "849                    BARBAGALLO, Giovanni   \n",
       "850                        KOEWIUS, Annette   \n",
       "851                            SAKS, Katrin   \n",
       "852  REVAULT D'ALLONNES BONNEFOY, Christine   \n",
       "\n",
       "                                                 Party         Country  \\\n",
       "0                                       Nouveau Centre          France   \n",
       "1    Fidesz-Magyar Polgári Szövetség-Keresztény Dem...         Hungary   \n",
       "2                    United Kingdom Independence Party  United Kingdom   \n",
       "3                              Il Popolo della Libertà           Italy   \n",
       "4                                Bündnis 90/Die Grünen         Germany   \n",
       "..                                                 ...             ...   \n",
       "848                             Folkebevægelsen mod EU         Denmark   \n",
       "849                                Partito Democratico           Italy   \n",
       "850        Christlich Demokratische Union Deutschlands         Germany   \n",
       "851                       Sotsiaaldemokraatlik Erakond         Estonia   \n",
       "852                                   Parti socialiste          France   \n",
       "\n",
       "     MEP ID identifier                 familyName_x  \\\n",
       "0         1      96850                         Abad   \n",
       "1         2      96659                         Áder   \n",
       "2         3      96897                        Agnew   \n",
       "3         4      28367                    Albertini   \n",
       "4         5      96736                     Albrecht   \n",
       "..      ...        ...                          ...   \n",
       "848     849     122885                         Kari   \n",
       "849     850     123792                   Barbagallo   \n",
       "850     851     123816                      Koewius   \n",
       "851     852      37200                         Saks   \n",
       "852     853     124287  Revault d'Allonnes Bonnefoy   \n",
       "\n",
       "                    familyName_y  \n",
       "0                           Abad  \n",
       "1                           Áder  \n",
       "2                          Agnew  \n",
       "3                      Albertini  \n",
       "4                       Albrecht  \n",
       "..                           ...  \n",
       "848                         Kari  \n",
       "849                   Barbagallo  \n",
       "850                      Koewius  \n",
       "851                         Saks  \n",
       "852  Revault d'Allonnes Bonnefoy  \n",
       "\n",
       "[853 rows x 9 columns]"
      ],
      "text/html": [
       "<div>\n",
       "<style scoped>\n",
       "    .dataframe tbody tr th:only-of-type {\n",
       "        vertical-align: middle;\n",
       "    }\n",
       "\n",
       "    .dataframe tbody tr th {\n",
       "        vertical-align: top;\n",
       "    }\n",
       "\n",
       "    .dataframe thead th {\n",
       "        text-align: right;\n",
       "    }\n",
       "</style>\n",
       "<table border=\"1\" class=\"dataframe\">\n",
       "  <thead>\n",
       "    <tr style=\"text-align: right;\">\n",
       "      <th></th>\n",
       "      <th>Fname</th>\n",
       "      <th>Lname</th>\n",
       "      <th>FullName</th>\n",
       "      <th>Party</th>\n",
       "      <th>Country</th>\n",
       "      <th>MEP ID</th>\n",
       "      <th>identifier</th>\n",
       "      <th>familyName_x</th>\n",
       "      <th>familyName_y</th>\n",
       "    </tr>\n",
       "  </thead>\n",
       "  <tbody>\n",
       "    <tr>\n",
       "      <th>0</th>\n",
       "      <td>Damien</td>\n",
       "      <td>ABAD</td>\n",
       "      <td>ABAD, Damien</td>\n",
       "      <td>Nouveau Centre</td>\n",
       "      <td>France</td>\n",
       "      <td>1</td>\n",
       "      <td>96850</td>\n",
       "      <td>Abad</td>\n",
       "      <td>Abad</td>\n",
       "    </tr>\n",
       "    <tr>\n",
       "      <th>1</th>\n",
       "      <td>János</td>\n",
       "      <td>ÁDER</td>\n",
       "      <td>ÁDER, János</td>\n",
       "      <td>Fidesz-Magyar Polgári Szövetség-Keresztény Dem...</td>\n",
       "      <td>Hungary</td>\n",
       "      <td>2</td>\n",
       "      <td>96659</td>\n",
       "      <td>Áder</td>\n",
       "      <td>Áder</td>\n",
       "    </tr>\n",
       "    <tr>\n",
       "      <th>2</th>\n",
       "      <td>John Stuart</td>\n",
       "      <td>AGNEW</td>\n",
       "      <td>AGNEW, John Stuart</td>\n",
       "      <td>United Kingdom Independence Party</td>\n",
       "      <td>United Kingdom</td>\n",
       "      <td>3</td>\n",
       "      <td>96897</td>\n",
       "      <td>Agnew</td>\n",
       "      <td>Agnew</td>\n",
       "    </tr>\n",
       "    <tr>\n",
       "      <th>3</th>\n",
       "      <td>Gabriele</td>\n",
       "      <td>ALBERTINI</td>\n",
       "      <td>ALBERTINI, Gabriele</td>\n",
       "      <td>Il Popolo della Libertà</td>\n",
       "      <td>Italy</td>\n",
       "      <td>4</td>\n",
       "      <td>28367</td>\n",
       "      <td>Albertini</td>\n",
       "      <td>Albertini</td>\n",
       "    </tr>\n",
       "    <tr>\n",
       "      <th>4</th>\n",
       "      <td>Jan Philipp</td>\n",
       "      <td>ALBRECHT</td>\n",
       "      <td>ALBRECHT, Jan Philipp</td>\n",
       "      <td>Bündnis 90/Die Grünen</td>\n",
       "      <td>Germany</td>\n",
       "      <td>5</td>\n",
       "      <td>96736</td>\n",
       "      <td>Albrecht</td>\n",
       "      <td>Albrecht</td>\n",
       "    </tr>\n",
       "    <tr>\n",
       "      <th>...</th>\n",
       "      <td>...</td>\n",
       "      <td>...</td>\n",
       "      <td>...</td>\n",
       "      <td>...</td>\n",
       "      <td>...</td>\n",
       "      <td>...</td>\n",
       "      <td>...</td>\n",
       "      <td>...</td>\n",
       "      <td>...</td>\n",
       "    </tr>\n",
       "    <tr>\n",
       "      <th>848</th>\n",
       "      <td>Rina Ronja</td>\n",
       "      <td>KARI</td>\n",
       "      <td>KARI, Rina Ronja</td>\n",
       "      <td>Folkebevægelsen mod EU</td>\n",
       "      <td>Denmark</td>\n",
       "      <td>849</td>\n",
       "      <td>122885</td>\n",
       "      <td>Kari</td>\n",
       "      <td>Kari</td>\n",
       "    </tr>\n",
       "    <tr>\n",
       "      <th>849</th>\n",
       "      <td>Giovanni</td>\n",
       "      <td>BARBAGALLO</td>\n",
       "      <td>BARBAGALLO, Giovanni</td>\n",
       "      <td>Partito Democratico</td>\n",
       "      <td>Italy</td>\n",
       "      <td>850</td>\n",
       "      <td>123792</td>\n",
       "      <td>Barbagallo</td>\n",
       "      <td>Barbagallo</td>\n",
       "    </tr>\n",
       "    <tr>\n",
       "      <th>850</th>\n",
       "      <td>Annette</td>\n",
       "      <td>KOEWIUS</td>\n",
       "      <td>KOEWIUS, Annette</td>\n",
       "      <td>Christlich Demokratische Union Deutschlands</td>\n",
       "      <td>Germany</td>\n",
       "      <td>851</td>\n",
       "      <td>123816</td>\n",
       "      <td>Koewius</td>\n",
       "      <td>Koewius</td>\n",
       "    </tr>\n",
       "    <tr>\n",
       "      <th>851</th>\n",
       "      <td>Katrin</td>\n",
       "      <td>SAKS</td>\n",
       "      <td>SAKS, Katrin</td>\n",
       "      <td>Sotsiaaldemokraatlik Erakond</td>\n",
       "      <td>Estonia</td>\n",
       "      <td>852</td>\n",
       "      <td>37200</td>\n",
       "      <td>Saks</td>\n",
       "      <td>Saks</td>\n",
       "    </tr>\n",
       "    <tr>\n",
       "      <th>852</th>\n",
       "      <td>Christine</td>\n",
       "      <td>REVAULT D'ALLONNES BONNEFOY</td>\n",
       "      <td>REVAULT D'ALLONNES BONNEFOY, Christine</td>\n",
       "      <td>Parti socialiste</td>\n",
       "      <td>France</td>\n",
       "      <td>853</td>\n",
       "      <td>124287</td>\n",
       "      <td>Revault d'Allonnes Bonnefoy</td>\n",
       "      <td>Revault d'Allonnes Bonnefoy</td>\n",
       "    </tr>\n",
       "  </tbody>\n",
       "</table>\n",
       "<p>853 rows × 9 columns</p>\n",
       "</div>"
      ]
     },
     "execution_count": 16,
     "metadata": {},
     "output_type": "execute_result"
    }
   ],
   "execution_count": 16
  },
  {
   "cell_type": "code",
   "source": [
    "list_columns = megamerge2.columns.tolist()\n",
    "\n",
    "filtered_list = [item for item in list_columns if isinstance(item, str)]\n",
    "filtered_list"
   ],
   "metadata": {
    "collapsed": false,
    "ExecuteTime": {
     "end_time": "2024-09-02T12:26:49.429922Z",
     "start_time": "2024-09-02T12:26:49.426258Z"
    }
   },
   "outputs": [
    {
     "data": {
      "text/plain": [
       "['MEP ID',\n",
       " 'Fname',\n",
       " 'Lname',\n",
       " 'FullName',\n",
       " 'Country',\n",
       " 'Party',\n",
       " 'EPG',\n",
       " 'Start',\n",
       " 'End',\n",
       " 'label_x',\n",
       " 'id_x',\n",
       " 'type_x',\n",
       " 'identifier',\n",
       " 'familyName_x',\n",
       " 'givenName_x',\n",
       " 'sortLabel_x',\n",
       " 'officialFamilyName_x',\n",
       " 'officialGivenName_x',\n",
       " 'id_y',\n",
       " 'type_y',\n",
       " 'label_y',\n",
       " 'familyName_y',\n",
       " 'givenName_y',\n",
       " 'sortLabel_y',\n",
       " 'officialFamilyName_y',\n",
       " 'officialGivenName_y']"
      ]
     },
     "execution_count": 17,
     "metadata": {},
     "output_type": "execute_result"
    }
   ],
   "execution_count": 17
  },
  {
   "metadata": {},
   "cell_type": "markdown",
   "source": "deleting redundant columns"
  },
  {
   "metadata": {
    "ExecuteTime": {
     "end_time": "2024-09-02T12:26:49.499077Z",
     "start_time": "2024-09-02T12:26:49.489645Z"
    }
   },
   "cell_type": "code",
   "source": [
    "Clean_columns = megamerge2.drop(columns=['MEP ID',\n",
    " 'Fname',\n",
    " 'Lname',\n",
    " 'FullName',\n",
    " 'id_x',\n",
    " 'type_x',\n",
    " 'officialFamilyName_x',\n",
    " 'officialGivenName_x',\n",
    " 'id_y',\n",
    " 'type_y',\n",
    " 'label_x',\n",
    " 'familyName_x',\n",
    " 'givenName_x',\n",
    " 'sortLabel_x',\n",
    "'sortLabel_y',\n",
    " 'officialFamilyName_y',\n",
    " 'officialGivenName_y',\n",
    "                                         ])\n"
   ],
   "outputs": [],
   "execution_count": 18
  },
  {
   "metadata": {
    "ExecuteTime": {
     "end_time": "2024-09-02T12:26:49.622621Z",
     "start_time": "2024-09-02T12:26:49.619097Z"
    }
   },
   "cell_type": "code",
   "source": "Clean_columns.columns",
   "outputs": [
    {
     "data": {
      "text/plain": [
       "Index([     'Country',        'Party',          'EPG',        'Start',\n",
       "                'End',              1,              2,              3,\n",
       "                    4,              5,\n",
       "       ...\n",
       "                 6958,           6959,           6960,           6961,\n",
       "                 6962,           6963,   'identifier',      'label_y',\n",
       "       'familyName_y',  'givenName_y'],\n",
       "      dtype='object', length=6970)"
      ]
     },
     "execution_count": 19,
     "metadata": {},
     "output_type": "execute_result"
    }
   ],
   "execution_count": 19
  },
  {
   "metadata": {},
   "cell_type": "markdown",
   "source": "Adding the missing Activ column"
  },
  {
   "metadata": {
    "ExecuteTime": {
     "end_time": "2024-09-02T12:26:49.709619Z",
     "start_time": "2024-09-02T12:26:49.706523Z"
    }
   },
   "cell_type": "code",
   "source": "Clean_columns['Activ'] = ((Clean_columns['Start'] == '14/07/2009') & (Clean_columns['End'] == '31/12/2014')).map({True: 'yes', False: 'no'})",
   "outputs": [],
   "execution_count": 20
  },
  {
   "cell_type": "code",
   "source": "Clean_columns.Activ.value_counts()",
   "metadata": {
    "collapsed": false,
    "ExecuteTime": {
     "end_time": "2024-09-02T12:26:49.765510Z",
     "start_time": "2024-09-02T12:26:49.761511Z"
    }
   },
   "outputs": [
    {
     "data": {
      "text/plain": [
       "Activ\n",
       "yes    650\n",
       "no     203\n",
       "Name: count, dtype: int64"
      ]
     },
     "execution_count": 21,
     "metadata": {},
     "output_type": "execute_result"
    }
   ],
   "execution_count": 21
  },
  {
   "cell_type": "code",
   "source": "Clean_columns.columns\n",
   "metadata": {
    "collapsed": false,
    "ExecuteTime": {
     "end_time": "2024-09-02T12:26:49.786074Z",
     "start_time": "2024-09-02T12:26:49.783053Z"
    }
   },
   "outputs": [
    {
     "data": {
      "text/plain": [
       "Index([     'Country',        'Party',          'EPG',        'Start',\n",
       "                'End',              1,              2,              3,\n",
       "                    4,              5,\n",
       "       ...\n",
       "                 6959,           6960,           6961,           6962,\n",
       "                 6963,   'identifier',      'label_y', 'familyName_y',\n",
       "        'givenName_y',        'Activ'],\n",
       "      dtype='object', length=6971)"
      ]
     },
     "execution_count": 22,
     "metadata": {},
     "output_type": "execute_result"
    }
   ],
   "execution_count": 22
  },
  {
   "metadata": {},
   "cell_type": "markdown",
   "source": "Reordering the columns"
  },
  {
   "cell_type": "code",
   "source": [
    "desired_order = [\n",
    "    'identifier', 'givenName_y', 'familyName_y', 'label_y', 'Activ',\n",
    "    'Country', 'Party', 'EPG', 'Start', 'End'\n",
    "]\n",
    "\n",
    "remaining_columns = [col for col in Clean_columns.columns if col not in desired_order]\n",
    "\n",
    "final_column_order = desired_order + remaining_columns\n",
    "\n",
    "Clean_columns_good_order = Clean_columns[final_column_order]\n",
    "\n"
   ],
   "metadata": {
    "collapsed": false,
    "ExecuteTime": {
     "end_time": "2024-09-02T12:26:49.860765Z",
     "start_time": "2024-09-02T12:26:49.848758Z"
    }
   },
   "outputs": [],
   "execution_count": 23
  },
  {
   "cell_type": "code",
   "source": "Clean_columns_good_order.columns",
   "metadata": {
    "collapsed": false,
    "ExecuteTime": {
     "end_time": "2024-09-02T12:26:49.945412Z",
     "start_time": "2024-09-02T12:26:49.942550Z"
    }
   },
   "outputs": [
    {
     "data": {
      "text/plain": [
       "Index([  'identifier',  'givenName_y', 'familyName_y',      'label_y',\n",
       "              'Activ',      'Country',        'Party',          'EPG',\n",
       "              'Start',          'End',\n",
       "       ...\n",
       "                 6954,           6955,           6956,           6957,\n",
       "                 6958,           6959,           6960,           6961,\n",
       "                 6962,           6963],\n",
       "      dtype='object', length=6971)"
      ]
     },
     "execution_count": 24,
     "metadata": {},
     "output_type": "execute_result"
    }
   ],
   "execution_count": 24
  },
  {
   "metadata": {},
   "cell_type": "markdown",
   "source": "Renaming the columns"
  },
  {
   "cell_type": "code",
   "source": [
    "rename_dict = {\n",
    "    'identifier': 'MepId',\n",
    "    'givenName_y': 'Fname',\n",
    "    'familyName_y': 'Lname',\n",
    "    'label_y': 'FullName'\n",
    "}\n",
    "Final_df = Clean_columns_good_order.rename(columns=rename_dict)"
   ],
   "metadata": {
    "collapsed": false,
    "ExecuteTime": {
     "end_time": "2024-09-02T12:26:50.016332Z",
     "start_time": "2024-09-02T12:26:50.007600Z"
    }
   },
   "outputs": [],
   "execution_count": 25
  },
  {
   "metadata": {
    "ExecuteTime": {
     "end_time": "2024-09-02T12:26:50.047846Z",
     "start_time": "2024-09-02T12:26:50.044409Z"
    }
   },
   "cell_type": "code",
   "source": "Final_df.columns",
   "outputs": [
    {
     "data": {
      "text/plain": [
       "Index([   'MepId',    'Fname',    'Lname', 'FullName',    'Activ',  'Country',\n",
       "          'Party',      'EPG',    'Start',      'End',\n",
       "       ...\n",
       "             6954,       6955,       6956,       6957,       6958,       6959,\n",
       "             6960,       6961,       6962,       6963],\n",
       "      dtype='object', length=6971)"
      ]
     },
     "execution_count": 26,
     "metadata": {},
     "output_type": "execute_result"
    }
   ],
   "execution_count": 26
  },
  {
   "metadata": {},
   "cell_type": "markdown",
   "source": [
    "\n",
    "Inspecting votations"
   ]
  },
  {
   "metadata": {
    "ExecuteTime": {
     "end_time": "2024-09-02T12:26:50.078094Z",
     "start_time": "2024-09-02T12:26:50.074817Z"
    }
   },
   "cell_type": "code",
   "source": "EP7_votations.shape",
   "outputs": [
    {
     "data": {
      "text/plain": [
       "(6961, 28)"
      ]
     },
     "execution_count": 27,
     "metadata": {},
     "output_type": "execute_result"
    }
   ],
   "execution_count": 27
  },
  {
   "metadata": {
    "ExecuteTime": {
     "end_time": "2024-09-02T12:26:50.114483Z",
     "start_time": "2024-09-02T12:26:50.111748Z"
    }
   },
   "cell_type": "code",
   "source": "EP7_votations.columns",
   "outputs": [
    {
     "data": {
      "text/plain": [
       "Index(['Vote ID', 'File', 'Order of vote', 'Date', 'O'clock', 'Title',\n",
       "       'Procedure', 'Leg/Non-Leg/Bud', 'Type of Vote', 'Voting Rule',\n",
       "       'Rapporteur', 'Code', 'interinstitutional file number', 'Link',\n",
       "       'Committee responsabile', 'De', 'Subject', 'Final vote?', 'Am No.',\n",
       "       'Author', 'RCV', 'Vote', 'Yeas', 'No', 'Abs', 'Unnamed: 25',\n",
       "       'Unnamed: 26', 'Unnamed: 27'],\n",
       "      dtype='object')"
      ]
     },
     "execution_count": 28,
     "metadata": {},
     "output_type": "execute_result"
    }
   ],
   "execution_count": 28
  },
  {
   "metadata": {
    "ExecuteTime": {
     "end_time": "2024-09-02T12:26:50.157289Z",
     "start_time": "2024-09-02T12:26:50.153392Z"
    }
   },
   "cell_type": "code",
   "source": "Final_df.MepId.value_counts()",
   "outputs": [
    {
     "data": {
      "text/plain": [
       "MepId\n",
       "124287    1\n",
       "96850     1\n",
       "96659     1\n",
       "96897     1\n",
       "28367     1\n",
       "         ..\n",
       "23938     1\n",
       "33775     1\n",
       "28161     1\n",
       "28292     1\n",
       "28114     1\n",
       "Name: count, Length: 853, dtype: int64"
      ]
     },
     "execution_count": 29,
     "metadata": {},
     "output_type": "execute_result"
    }
   ],
   "execution_count": 29
  },
  {
   "metadata": {},
   "cell_type": "markdown",
   "source": [
    "\n",
    "Dropping irrelevant columns"
   ]
  },
  {
   "metadata": {
    "ExecuteTime": {
     "end_time": "2024-09-02T12:26:50.210667Z",
     "start_time": "2024-09-02T12:26:50.201733Z"
    }
   },
   "cell_type": "code",
   "source": [
    "EP7_votations_columnsdropped = EP7_votations.drop(columns=['File', 'Order of vote', \"O'clock\",\n",
    "        'Code', 'interinstitutional file number',\n",
    "    \n",
    "       'RCV',  'Unnamed: 25',\n",
    "       'Unnamed: 26', 'Unnamed: 27'])\n",
    "EP7_votations_columnsdropped"
   ],
   "outputs": [
    {
     "data": {
      "text/plain": [
       "      Vote ID        Date                                              Title  \\\n",
       "0           1  14.09.2009  Election of the President of the European Comm...   \n",
       "1           2  15.09.2009  Agreement EC/Mongolia on certain aspects of ai...   \n",
       "2           3  15.09.2009  EC-China agreement: maritime transport operati...   \n",
       "3           4  15.09.2009  Mobilisation of the European Globalisation Adj...   \n",
       "4           5  15.09.2009  Mobilisation of the European Union Solidarity ...   \n",
       "...       ...         ...                                                ...   \n",
       "6956     6959  17.04.2014  Commission follow-up to the 'TOP TEN' Consulta...   \n",
       "6957     6960  17.04.2014  Commission follow-up to the 'TOP TEN' Consulta...   \n",
       "6958     6961  17.04.2014  Commission follow-up to the 'TOP TEN' Consulta...   \n",
       "6959     6962  17.04.2014  Commission follow-up to the 'TOP TEN' Consulta...   \n",
       "6960     6963  17.04.2014  Situation in North Korea - joint motion for a ...   \n",
       "\n",
       "     Procedure Leg/Non-Leg/Bud              Type of Vote Voting Rule  \\\n",
       "0          NaN             Non            Agenda setting           s   \n",
       "1            *             Leg    Legislative resolution           s   \n",
       "2            *             Leg    Legislative resolution           s   \n",
       "3          NaN             Bud  Motions for a resolution           q   \n",
       "4          NaN             Bud  Motions for a resolution           q   \n",
       "...        ...             ...                       ...         ...   \n",
       "6956       NaN             Non     Motion for resolution           s   \n",
       "6957       NaN             Non     Motion for resolution           s   \n",
       "6958       NaN             Non     Motion for resolution           s   \n",
       "6959       NaN             Non     Motion for resolution           s   \n",
       "6960       NaN             Non     Motion for resolution           s   \n",
       "\n",
       "         Rapporteur                                               Link  \\\n",
       "0                 0  http://www.europarl.europa.eu/activities/plena...   \n",
       "1     Brian SIMPSON  http://www.europarl.europa.eu/sides/getDoc.do?...   \n",
       "2     Brian SIMPSON  http://www.europarl.europa.eu/sides/getDoc.do?...   \n",
       "3       Reimer BÖGE  http://www.europarl.europa.eu/sides/getDoc.do?...   \n",
       "4       Reimer BÖGE  http://www.europarl.europa.eu/sides/getDoc.do?...   \n",
       "...             ...                                                ...   \n",
       "6956              0  http://www.europarl.europa.eu/sides/getDoc.do?...   \n",
       "6957              0  http://www.europarl.europa.eu/sides/getDoc.do?...   \n",
       "6958              0  http://www.europarl.europa.eu/sides/getDoc.do?...   \n",
       "6959              0  http://www.europarl.europa.eu/sides/getDoc.do?...   \n",
       "6960              0  http://www.europarl.europa.eu/sides/getDoc.do?...   \n",
       "\n",
       "                  Committee responsabile                              De  \\\n",
       "0                                    NaN  Internal regulations of the EP   \n",
       "1     Committee on Transport and Tourism             Transport & tourism   \n",
       "2     Committee on Transport and Tourism             Transport & tourism   \n",
       "3                   Committee on Budgets                          Budget   \n",
       "4                   Committee on Budgets                          Budget   \n",
       "...                                  ...                             ...   \n",
       "6956                                   0     Industry, research & energy   \n",
       "6957                                   0     Industry, research & energy   \n",
       "6958                                   0     Industry, research & energy   \n",
       "6959                                   0     Industry, research & energy   \n",
       "6960                                   0       Foreign & security policy   \n",
       "\n",
       "                            Subject  Final vote? Am No.      Author Vote  \\\n",
       "0                                 0          1.0    NaN           0    -   \n",
       "1                       Single vote          1.0    NaN           0    +   \n",
       "2                       Single vote          1.0    NaN           0    +   \n",
       "3                       Single vote          1.0    NaN           0    +   \n",
       "4                       Single vote          1.0    NaN           0    +   \n",
       "...                             ...          ...    ...         ...  ...   \n",
       "6956                After recital F          0.0     11  Greens/EFA    +   \n",
       "6957                      Recital I          0.0     12  Greens/EFA    -   \n",
       "6958                      Recital J          0.0     13  Greens/EFA    -   \n",
       "6959  vote: resolution (as a whole)          1.0    NaN           0    +   \n",
       "6960  vote: resolution (as a whole)          1.0    NaN           0    +   \n",
       "\n",
       "      Yeas   No  Abs  \n",
       "0      135  248   14  \n",
       "1      456   21    2  \n",
       "2      558   19   11  \n",
       "3      581   23    6  \n",
       "4      578   26   12  \n",
       "...    ...  ...  ...  \n",
       "6956   503   11    1  \n",
       "6957   206  301   14  \n",
       "6958   198  301   21  \n",
       "6959   311  184   15  \n",
       "6960    41    0    0  \n",
       "\n",
       "[6961 rows x 19 columns]"
      ],
      "text/html": [
       "<div>\n",
       "<style scoped>\n",
       "    .dataframe tbody tr th:only-of-type {\n",
       "        vertical-align: middle;\n",
       "    }\n",
       "\n",
       "    .dataframe tbody tr th {\n",
       "        vertical-align: top;\n",
       "    }\n",
       "\n",
       "    .dataframe thead th {\n",
       "        text-align: right;\n",
       "    }\n",
       "</style>\n",
       "<table border=\"1\" class=\"dataframe\">\n",
       "  <thead>\n",
       "    <tr style=\"text-align: right;\">\n",
       "      <th></th>\n",
       "      <th>Vote ID</th>\n",
       "      <th>Date</th>\n",
       "      <th>Title</th>\n",
       "      <th>Procedure</th>\n",
       "      <th>Leg/Non-Leg/Bud</th>\n",
       "      <th>Type of Vote</th>\n",
       "      <th>Voting Rule</th>\n",
       "      <th>Rapporteur</th>\n",
       "      <th>Link</th>\n",
       "      <th>Committee responsabile</th>\n",
       "      <th>De</th>\n",
       "      <th>Subject</th>\n",
       "      <th>Final vote?</th>\n",
       "      <th>Am No.</th>\n",
       "      <th>Author</th>\n",
       "      <th>Vote</th>\n",
       "      <th>Yeas</th>\n",
       "      <th>No</th>\n",
       "      <th>Abs</th>\n",
       "    </tr>\n",
       "  </thead>\n",
       "  <tbody>\n",
       "    <tr>\n",
       "      <th>0</th>\n",
       "      <td>1</td>\n",
       "      <td>14.09.2009</td>\n",
       "      <td>Election of the President of the European Comm...</td>\n",
       "      <td>NaN</td>\n",
       "      <td>Non</td>\n",
       "      <td>Agenda setting</td>\n",
       "      <td>s</td>\n",
       "      <td>0</td>\n",
       "      <td>http://www.europarl.europa.eu/activities/plena...</td>\n",
       "      <td>NaN</td>\n",
       "      <td>Internal regulations of the EP</td>\n",
       "      <td>0</td>\n",
       "      <td>1.0</td>\n",
       "      <td>NaN</td>\n",
       "      <td>0</td>\n",
       "      <td>-</td>\n",
       "      <td>135</td>\n",
       "      <td>248</td>\n",
       "      <td>14</td>\n",
       "    </tr>\n",
       "    <tr>\n",
       "      <th>1</th>\n",
       "      <td>2</td>\n",
       "      <td>15.09.2009</td>\n",
       "      <td>Agreement EC/Mongolia on certain aspects of ai...</td>\n",
       "      <td>*</td>\n",
       "      <td>Leg</td>\n",
       "      <td>Legislative resolution</td>\n",
       "      <td>s</td>\n",
       "      <td>Brian SIMPSON</td>\n",
       "      <td>http://www.europarl.europa.eu/sides/getDoc.do?...</td>\n",
       "      <td>Committee on Transport and Tourism</td>\n",
       "      <td>Transport &amp; tourism</td>\n",
       "      <td>Single vote</td>\n",
       "      <td>1.0</td>\n",
       "      <td>NaN</td>\n",
       "      <td>0</td>\n",
       "      <td>+</td>\n",
       "      <td>456</td>\n",
       "      <td>21</td>\n",
       "      <td>2</td>\n",
       "    </tr>\n",
       "    <tr>\n",
       "      <th>2</th>\n",
       "      <td>3</td>\n",
       "      <td>15.09.2009</td>\n",
       "      <td>EC-China agreement: maritime transport operati...</td>\n",
       "      <td>*</td>\n",
       "      <td>Leg</td>\n",
       "      <td>Legislative resolution</td>\n",
       "      <td>s</td>\n",
       "      <td>Brian SIMPSON</td>\n",
       "      <td>http://www.europarl.europa.eu/sides/getDoc.do?...</td>\n",
       "      <td>Committee on Transport and Tourism</td>\n",
       "      <td>Transport &amp; tourism</td>\n",
       "      <td>Single vote</td>\n",
       "      <td>1.0</td>\n",
       "      <td>NaN</td>\n",
       "      <td>0</td>\n",
       "      <td>+</td>\n",
       "      <td>558</td>\n",
       "      <td>19</td>\n",
       "      <td>11</td>\n",
       "    </tr>\n",
       "    <tr>\n",
       "      <th>3</th>\n",
       "      <td>4</td>\n",
       "      <td>15.09.2009</td>\n",
       "      <td>Mobilisation of the European Globalisation Adj...</td>\n",
       "      <td>NaN</td>\n",
       "      <td>Bud</td>\n",
       "      <td>Motions for a resolution</td>\n",
       "      <td>q</td>\n",
       "      <td>Reimer BÖGE</td>\n",
       "      <td>http://www.europarl.europa.eu/sides/getDoc.do?...</td>\n",
       "      <td>Committee on Budgets</td>\n",
       "      <td>Budget</td>\n",
       "      <td>Single vote</td>\n",
       "      <td>1.0</td>\n",
       "      <td>NaN</td>\n",
       "      <td>0</td>\n",
       "      <td>+</td>\n",
       "      <td>581</td>\n",
       "      <td>23</td>\n",
       "      <td>6</td>\n",
       "    </tr>\n",
       "    <tr>\n",
       "      <th>4</th>\n",
       "      <td>5</td>\n",
       "      <td>15.09.2009</td>\n",
       "      <td>Mobilisation of the European Union Solidarity ...</td>\n",
       "      <td>NaN</td>\n",
       "      <td>Bud</td>\n",
       "      <td>Motions for a resolution</td>\n",
       "      <td>q</td>\n",
       "      <td>Reimer BÖGE</td>\n",
       "      <td>http://www.europarl.europa.eu/sides/getDoc.do?...</td>\n",
       "      <td>Committee on Budgets</td>\n",
       "      <td>Budget</td>\n",
       "      <td>Single vote</td>\n",
       "      <td>1.0</td>\n",
       "      <td>NaN</td>\n",
       "      <td>0</td>\n",
       "      <td>+</td>\n",
       "      <td>578</td>\n",
       "      <td>26</td>\n",
       "      <td>12</td>\n",
       "    </tr>\n",
       "    <tr>\n",
       "      <th>...</th>\n",
       "      <td>...</td>\n",
       "      <td>...</td>\n",
       "      <td>...</td>\n",
       "      <td>...</td>\n",
       "      <td>...</td>\n",
       "      <td>...</td>\n",
       "      <td>...</td>\n",
       "      <td>...</td>\n",
       "      <td>...</td>\n",
       "      <td>...</td>\n",
       "      <td>...</td>\n",
       "      <td>...</td>\n",
       "      <td>...</td>\n",
       "      <td>...</td>\n",
       "      <td>...</td>\n",
       "      <td>...</td>\n",
       "      <td>...</td>\n",
       "      <td>...</td>\n",
       "      <td>...</td>\n",
       "    </tr>\n",
       "    <tr>\n",
       "      <th>6956</th>\n",
       "      <td>6959</td>\n",
       "      <td>17.04.2014</td>\n",
       "      <td>Commission follow-up to the 'TOP TEN' Consulta...</td>\n",
       "      <td>NaN</td>\n",
       "      <td>Non</td>\n",
       "      <td>Motion for resolution</td>\n",
       "      <td>s</td>\n",
       "      <td>0</td>\n",
       "      <td>http://www.europarl.europa.eu/sides/getDoc.do?...</td>\n",
       "      <td>0</td>\n",
       "      <td>Industry, research &amp; energy</td>\n",
       "      <td>After recital F</td>\n",
       "      <td>0.0</td>\n",
       "      <td>11</td>\n",
       "      <td>Greens/EFA</td>\n",
       "      <td>+</td>\n",
       "      <td>503</td>\n",
       "      <td>11</td>\n",
       "      <td>1</td>\n",
       "    </tr>\n",
       "    <tr>\n",
       "      <th>6957</th>\n",
       "      <td>6960</td>\n",
       "      <td>17.04.2014</td>\n",
       "      <td>Commission follow-up to the 'TOP TEN' Consulta...</td>\n",
       "      <td>NaN</td>\n",
       "      <td>Non</td>\n",
       "      <td>Motion for resolution</td>\n",
       "      <td>s</td>\n",
       "      <td>0</td>\n",
       "      <td>http://www.europarl.europa.eu/sides/getDoc.do?...</td>\n",
       "      <td>0</td>\n",
       "      <td>Industry, research &amp; energy</td>\n",
       "      <td>Recital I</td>\n",
       "      <td>0.0</td>\n",
       "      <td>12</td>\n",
       "      <td>Greens/EFA</td>\n",
       "      <td>-</td>\n",
       "      <td>206</td>\n",
       "      <td>301</td>\n",
       "      <td>14</td>\n",
       "    </tr>\n",
       "    <tr>\n",
       "      <th>6958</th>\n",
       "      <td>6961</td>\n",
       "      <td>17.04.2014</td>\n",
       "      <td>Commission follow-up to the 'TOP TEN' Consulta...</td>\n",
       "      <td>NaN</td>\n",
       "      <td>Non</td>\n",
       "      <td>Motion for resolution</td>\n",
       "      <td>s</td>\n",
       "      <td>0</td>\n",
       "      <td>http://www.europarl.europa.eu/sides/getDoc.do?...</td>\n",
       "      <td>0</td>\n",
       "      <td>Industry, research &amp; energy</td>\n",
       "      <td>Recital J</td>\n",
       "      <td>0.0</td>\n",
       "      <td>13</td>\n",
       "      <td>Greens/EFA</td>\n",
       "      <td>-</td>\n",
       "      <td>198</td>\n",
       "      <td>301</td>\n",
       "      <td>21</td>\n",
       "    </tr>\n",
       "    <tr>\n",
       "      <th>6959</th>\n",
       "      <td>6962</td>\n",
       "      <td>17.04.2014</td>\n",
       "      <td>Commission follow-up to the 'TOP TEN' Consulta...</td>\n",
       "      <td>NaN</td>\n",
       "      <td>Non</td>\n",
       "      <td>Motion for resolution</td>\n",
       "      <td>s</td>\n",
       "      <td>0</td>\n",
       "      <td>http://www.europarl.europa.eu/sides/getDoc.do?...</td>\n",
       "      <td>0</td>\n",
       "      <td>Industry, research &amp; energy</td>\n",
       "      <td>vote: resolution (as a whole)</td>\n",
       "      <td>1.0</td>\n",
       "      <td>NaN</td>\n",
       "      <td>0</td>\n",
       "      <td>+</td>\n",
       "      <td>311</td>\n",
       "      <td>184</td>\n",
       "      <td>15</td>\n",
       "    </tr>\n",
       "    <tr>\n",
       "      <th>6960</th>\n",
       "      <td>6963</td>\n",
       "      <td>17.04.2014</td>\n",
       "      <td>Situation in North Korea - joint motion for a ...</td>\n",
       "      <td>NaN</td>\n",
       "      <td>Non</td>\n",
       "      <td>Motion for resolution</td>\n",
       "      <td>s</td>\n",
       "      <td>0</td>\n",
       "      <td>http://www.europarl.europa.eu/sides/getDoc.do?...</td>\n",
       "      <td>0</td>\n",
       "      <td>Foreign &amp; security policy</td>\n",
       "      <td>vote: resolution (as a whole)</td>\n",
       "      <td>1.0</td>\n",
       "      <td>NaN</td>\n",
       "      <td>0</td>\n",
       "      <td>+</td>\n",
       "      <td>41</td>\n",
       "      <td>0</td>\n",
       "      <td>0</td>\n",
       "    </tr>\n",
       "  </tbody>\n",
       "</table>\n",
       "<p>6961 rows × 19 columns</p>\n",
       "</div>"
      ]
     },
     "execution_count": 30,
     "metadata": {},
     "output_type": "execute_result"
    }
   ],
   "execution_count": 30
  },
  {
   "metadata": {},
   "cell_type": "markdown",
   "source": [
    "\n",
    "Checking and fixing the datatypes"
   ]
  },
  {
   "metadata": {
    "ExecuteTime": {
     "end_time": "2024-09-02T12:26:50.258095Z",
     "start_time": "2024-09-02T12:26:50.254332Z"
    }
   },
   "cell_type": "code",
   "source": [
    "\n",
    "EP7_votations_columnsdropped['Date'] = pd.to_datetime(EP7_votations_columnsdropped['Date'], format='%d.%m.%Y')"
   ],
   "outputs": [],
   "execution_count": 31
  },
  {
   "metadata": {},
   "cell_type": "markdown",
   "source": "Recoding columns in line with convention for the app"
  },
  {
   "metadata": {
    "ExecuteTime": {
     "end_time": "2024-09-02T12:26:50.391495Z",
     "start_time": "2024-09-02T12:26:50.388325Z"
    }
   },
   "cell_type": "code",
   "source": [
    "original_columns = EP7_votations_columnsdropped.columns.tolist()\n",
    "\n",
    "new_columns = [\n",
    "    \"VoteId\",\n",
    "    \"Date\",\n",
    "    \"Title\",\n",
    "    \"Procedure\",\n",
    "    \"Leg/Non-Leg/Bud\",\n",
    "    \"TypeOfVote\",\n",
    "    \"VotingRule\",\n",
    "    \"Rapporteur\",\n",
    "    \"Link\",\n",
    "    \"CommitteeResponsabile\",\n",
    "    \"PolicyArea\",\n",
    "    \"Subject\",\n",
    "    \"FinalVote\",\n",
    "    \"Author\",\n",
    "    \"AmNo\",\n",
    "    \"Vote\",\n",
    "    \"Yes\",\n",
    "    \"No\",\n",
    "    \"Abs\"\n",
    "]\n",
    "\n",
    "rename_dict = dict(zip(original_columns, new_columns))\n",
    "\n",
    "\n",
    "EP7_votations_columnsdropped.rename(columns=rename_dict, inplace=True)\n"
   ],
   "outputs": [],
   "execution_count": 32
  },
  {
   "metadata": {
    "ExecuteTime": {
     "end_time": "2024-09-02T12:26:50.460998Z",
     "start_time": "2024-09-02T12:26:50.457109Z"
    }
   },
   "cell_type": "code",
   "source": "EP7_votations_columnsdropped.Vote.value_counts()",
   "outputs": [
    {
     "data": {
      "text/plain": [
       "Vote\n",
       "+    4763\n",
       "-    2198\n",
       "Name: count, dtype: int64"
      ]
     },
     "execution_count": 33,
     "metadata": {},
     "output_type": "execute_result"
    }
   ],
   "execution_count": 33
  },
  {
   "metadata": {},
   "cell_type": "markdown",
   "source": [
    "\n",
    "Recoding missing data"
   ]
  },
  {
   "metadata": {
    "ExecuteTime": {
     "end_time": "2024-09-02T12:46:41.414664Z",
     "start_time": "2024-09-02T12:46:41.411509Z"
    }
   },
   "cell_type": "code",
   "source": [
    "def recode_votations(df):\n",
    "    df['TypeOfVote'] = df['TypeOfVote'].replace(0,np.nan)\n",
    "    df['VotingRule'] = df['VotingRule'].replace(0,np.nan)\n",
    "    df['Rapporteur'] = df['Rapporteur'].replace(0,np.nan)\n",
    "    df['CommitteeResponsabile'] = df['CommitteeResponsabile'].replace(0,np.nan)\n",
    "    df['Author'] = df['Author'].replace(0,np.nan)\n",
    "    df['Subject'] = df['Subject'].replace(0,np.nan)\n",
    "    df['AmNo'] = df['AmNo'].replace(0,np.nan)\n",
    "    df['Vote'] = df['Vote'].replace({'+': 1, '-': 0})\n"
   ],
   "outputs": [],
   "execution_count": 37
  },
  {
   "metadata": {
    "ExecuteTime": {
     "end_time": "2024-09-02T12:46:41.874282Z",
     "start_time": "2024-09-02T12:46:41.867573Z"
    }
   },
   "cell_type": "code",
   "source": "recode_votations(EP7_votations_columnsdropped)",
   "outputs": [
    {
     "name": "stderr",
     "output_type": "stream",
     "text": [
      "C:\\Users\\User\\AppData\\Local\\Temp\\ipykernel_48200\\3464447306.py:9: FutureWarning: Downcasting behavior in `replace` is deprecated and will be removed in a future version. To retain the old behavior, explicitly call `result.infer_objects(copy=False)`. To opt-in to the future behavior, set `pd.set_option('future.no_silent_downcasting', True)`\n",
      "  df['Vote'] = df['Vote'].replace({'+': 1, '-': 0})\n"
     ]
    }
   ],
   "execution_count": 38
  },
  {
   "metadata": {},
   "cell_type": "markdown",
   "source": "Checking and fixing the datatypes"
  },
  {
   "metadata": {
    "ExecuteTime": {
     "end_time": "2024-09-02T12:46:45.712337Z",
     "start_time": "2024-09-02T12:46:45.709051Z"
    }
   },
   "cell_type": "code",
   "source": [
    "\n",
    "EP7_votations_columnsdropped.dtypes"
   ],
   "outputs": [
    {
     "data": {
      "text/plain": [
       "VoteId                            int64\n",
       "Date                     datetime64[ns]\n",
       "Title                            object\n",
       "Procedure                        object\n",
       "Leg/Non-Leg/Bud                  object\n",
       "TypeOfVote                       object\n",
       "VotingRule                       object\n",
       "Rapporteur                       object\n",
       "Link                             object\n",
       "CommitteeResponsabile            object\n",
       "PolicyArea                       object\n",
       "Subject                          object\n",
       "FinalVote                       float64\n",
       "Author                           object\n",
       "AmNo                             object\n",
       "Vote                              int64\n",
       "Yes                               int64\n",
       "No                                int64\n",
       "Abs                               int64\n",
       "dtype: object"
      ]
     },
     "execution_count": 39,
     "metadata": {},
     "output_type": "execute_result"
    }
   ],
   "execution_count": 39
  },
  {
   "metadata": {
    "ExecuteTime": {
     "end_time": "2024-09-02T12:46:46.356519Z",
     "start_time": "2024-09-02T12:46:46.352317Z"
    }
   },
   "cell_type": "code",
   "source": "EP7_votations_columnsdropped.FinalVote = EP7_votations_columnsdropped['FinalVote'].astype('Int64')",
   "outputs": [],
   "execution_count": 40
  },
  {
   "metadata": {},
   "cell_type": "markdown",
   "source": "Renaming EPG groups to fit the API convention\n"
  },
  {
   "metadata": {
    "ExecuteTime": {
     "end_time": "2024-09-02T12:46:47.403585Z",
     "start_time": "2024-09-02T12:46:47.400472Z"
    }
   },
   "cell_type": "code",
   "source": [
    "EPG_rename_dict = {\n",
    "    \"Group of the European People's Party (Christian Democrats)\":\"EPP\",\n",
    "    \"Group of the Progressive Alliance of Socialists and Democrats in the European Parliament\":\"S&D\",\n",
    "    \"Group of the Alliance of Liberals and Democrats for Europe\":\"ALDE\",\n",
    "    \"European Conservatives and Reformists Group\":\"ECR\",\n",
    "    \"Confederal Group of the European United Left - Nordic Green Left\":\"GUE–NGL\",\n",
    "    \"Group of the Greens/European Free Alliance\":\"Greens–EFA\",\n",
    "    \"Non-attached Members\":\"NI\",  \n",
    "    \"Europe of freedom and democracy Group\":\"EFD\"\n",
    "}"
   ],
   "outputs": [],
   "execution_count": 41
  },
  {
   "metadata": {
    "ExecuteTime": {
     "end_time": "2024-09-02T12:46:48.380245Z",
     "start_time": "2024-09-02T12:46:48.376874Z"
    }
   },
   "cell_type": "code",
   "source": [
    "\n",
    "Final_df.EPG = Final_df.EPG.replace(EPG_rename_dict, regex=False)"
   ],
   "outputs": [],
   "execution_count": 42
  },
  {
   "metadata": {
    "ExecuteTime": {
     "end_time": "2024-09-02T12:46:48.903496Z",
     "start_time": "2024-09-02T12:46:48.900844Z"
    }
   },
   "cell_type": "code",
   "source": [
    "\n",
    "\n",
    "Final_df.columns\n"
   ],
   "outputs": [
    {
     "data": {
      "text/plain": [
       "Index([   'MepId',    'Fname',    'Lname', 'FullName',    'Activ',  'Country',\n",
       "          'Party',      'EPG',    'Start',      'End',\n",
       "       ...\n",
       "             6954,       6955,       6956,       6957,       6958,       6959,\n",
       "             6960,       6961,       6962,       6963],\n",
       "      dtype='object', length=6971)"
      ]
     },
     "execution_count": 43,
     "metadata": {},
     "output_type": "execute_result"
    }
   ],
   "execution_count": 43
  },
  {
   "metadata": {},
   "cell_type": "markdown",
   "source": "Creating a list to filter the non,observation columns from Votes\n"
  },
  {
   "metadata": {
    "ExecuteTime": {
     "end_time": "2024-09-02T12:46:49.971617Z",
     "start_time": "2024-09-02T12:46:49.968978Z"
    }
   },
   "cell_type": "code",
   "source": [
    "filtered_list = ['MepId',\n",
    " 'Fname',\n",
    " 'Lname',\n",
    " 'FullName',\n",
    " 'Activ',\n",
    " 'Country',\n",
    " 'Party',\n",
    " 'EPG',\n",
    " 'Start',\n",
    " 'End']"
   ],
   "outputs": [],
   "execution_count": 44
  },
  {
   "metadata": {
    "ExecuteTime": {
     "end_time": "2024-09-02T12:46:50.546172Z",
     "start_time": "2024-09-02T12:46:50.540209Z"
    }
   },
   "cell_type": "code",
   "source": "Final_df[filtered_list]",
   "outputs": [
    {
     "data": {
      "text/plain": [
       "      MepId        Fname                        Lname  \\\n",
       "0     96850       Damien                         Abad   \n",
       "1     96659        János                         Áder   \n",
       "2     96897  John Stuart                        Agnew   \n",
       "3     28367     Gabriele                    Albertini   \n",
       "4     96736  Jan Philipp                     Albrecht   \n",
       "..      ...          ...                          ...   \n",
       "848  122885   Rina Ronja                         Kari   \n",
       "849  123792     Giovanni                   Barbagallo   \n",
       "850  123816      Annette                      Koewius   \n",
       "851   37200       Katrin                         Saks   \n",
       "852  124287    Christine  Revault d'Allonnes Bonnefoy   \n",
       "\n",
       "                                  FullName Activ         Country  \\\n",
       "0                              Damien ABAD    no          France   \n",
       "1                               János ÁDER    no         Hungary   \n",
       "2                        John Stuart AGNEW   yes  United Kingdom   \n",
       "3                       Gabriele ALBERTINI    no           Italy   \n",
       "4                     Jan Philipp ALBRECHT   yes         Germany   \n",
       "..                                     ...   ...             ...   \n",
       "848                        Rina Ronja KARI    no         Denmark   \n",
       "849                    Giovanni BARBAGALLO    no           Italy   \n",
       "850                        Annette KOEWIUS    no         Germany   \n",
       "851                            Katrin SAKS    no         Estonia   \n",
       "852  Christine REVAULT D'ALLONNES BONNEFOY    no          France   \n",
       "\n",
       "                                                 Party         EPG      Start  \\\n",
       "0                                       Nouveau Centre         EPP 2009-07-14   \n",
       "1    Fidesz-Magyar Polgári Szövetség-Keresztény Dem...         EPP 2009-07-14   \n",
       "2                    United Kingdom Independence Party         EFD 2009-07-14   \n",
       "3                              Il Popolo della Libertà         EPP 2009-07-14   \n",
       "4                                Bündnis 90/Die Grünen  Greens–EFA 2009-07-14   \n",
       "..                                                 ...         ...        ...   \n",
       "848                             Folkebevægelsen mod EU     GUE–NGL 2014-02-05   \n",
       "849                                Partito Democratico         S&D 2014-03-11   \n",
       "850        Christlich Demokratische Union Deutschlands         EPP 2014-03-12   \n",
       "851                       Sotsiaaldemokraatlik Erakond         S&D 2014-04-07   \n",
       "852                                   Parti socialiste         S&D 2014-04-09   \n",
       "\n",
       "           End  \n",
       "0   2012-06-16  \n",
       "1   2012-05-09  \n",
       "2   2014-12-31  \n",
       "3   2013-03-14  \n",
       "4   2014-12-31  \n",
       "..         ...  \n",
       "848 2014-12-31  \n",
       "849 2014-12-31  \n",
       "850 2014-12-31  \n",
       "851 2014-12-31  \n",
       "852 2014-12-31  \n",
       "\n",
       "[853 rows x 10 columns]"
      ],
      "text/html": [
       "<div>\n",
       "<style scoped>\n",
       "    .dataframe tbody tr th:only-of-type {\n",
       "        vertical-align: middle;\n",
       "    }\n",
       "\n",
       "    .dataframe tbody tr th {\n",
       "        vertical-align: top;\n",
       "    }\n",
       "\n",
       "    .dataframe thead th {\n",
       "        text-align: right;\n",
       "    }\n",
       "</style>\n",
       "<table border=\"1\" class=\"dataframe\">\n",
       "  <thead>\n",
       "    <tr style=\"text-align: right;\">\n",
       "      <th></th>\n",
       "      <th>MepId</th>\n",
       "      <th>Fname</th>\n",
       "      <th>Lname</th>\n",
       "      <th>FullName</th>\n",
       "      <th>Activ</th>\n",
       "      <th>Country</th>\n",
       "      <th>Party</th>\n",
       "      <th>EPG</th>\n",
       "      <th>Start</th>\n",
       "      <th>End</th>\n",
       "    </tr>\n",
       "  </thead>\n",
       "  <tbody>\n",
       "    <tr>\n",
       "      <th>0</th>\n",
       "      <td>96850</td>\n",
       "      <td>Damien</td>\n",
       "      <td>Abad</td>\n",
       "      <td>Damien ABAD</td>\n",
       "      <td>no</td>\n",
       "      <td>France</td>\n",
       "      <td>Nouveau Centre</td>\n",
       "      <td>EPP</td>\n",
       "      <td>2009-07-14</td>\n",
       "      <td>2012-06-16</td>\n",
       "    </tr>\n",
       "    <tr>\n",
       "      <th>1</th>\n",
       "      <td>96659</td>\n",
       "      <td>János</td>\n",
       "      <td>Áder</td>\n",
       "      <td>János ÁDER</td>\n",
       "      <td>no</td>\n",
       "      <td>Hungary</td>\n",
       "      <td>Fidesz-Magyar Polgári Szövetség-Keresztény Dem...</td>\n",
       "      <td>EPP</td>\n",
       "      <td>2009-07-14</td>\n",
       "      <td>2012-05-09</td>\n",
       "    </tr>\n",
       "    <tr>\n",
       "      <th>2</th>\n",
       "      <td>96897</td>\n",
       "      <td>John Stuart</td>\n",
       "      <td>Agnew</td>\n",
       "      <td>John Stuart AGNEW</td>\n",
       "      <td>yes</td>\n",
       "      <td>United Kingdom</td>\n",
       "      <td>United Kingdom Independence Party</td>\n",
       "      <td>EFD</td>\n",
       "      <td>2009-07-14</td>\n",
       "      <td>2014-12-31</td>\n",
       "    </tr>\n",
       "    <tr>\n",
       "      <th>3</th>\n",
       "      <td>28367</td>\n",
       "      <td>Gabriele</td>\n",
       "      <td>Albertini</td>\n",
       "      <td>Gabriele ALBERTINI</td>\n",
       "      <td>no</td>\n",
       "      <td>Italy</td>\n",
       "      <td>Il Popolo della Libertà</td>\n",
       "      <td>EPP</td>\n",
       "      <td>2009-07-14</td>\n",
       "      <td>2013-03-14</td>\n",
       "    </tr>\n",
       "    <tr>\n",
       "      <th>4</th>\n",
       "      <td>96736</td>\n",
       "      <td>Jan Philipp</td>\n",
       "      <td>Albrecht</td>\n",
       "      <td>Jan Philipp ALBRECHT</td>\n",
       "      <td>yes</td>\n",
       "      <td>Germany</td>\n",
       "      <td>Bündnis 90/Die Grünen</td>\n",
       "      <td>Greens–EFA</td>\n",
       "      <td>2009-07-14</td>\n",
       "      <td>2014-12-31</td>\n",
       "    </tr>\n",
       "    <tr>\n",
       "      <th>...</th>\n",
       "      <td>...</td>\n",
       "      <td>...</td>\n",
       "      <td>...</td>\n",
       "      <td>...</td>\n",
       "      <td>...</td>\n",
       "      <td>...</td>\n",
       "      <td>...</td>\n",
       "      <td>...</td>\n",
       "      <td>...</td>\n",
       "      <td>...</td>\n",
       "    </tr>\n",
       "    <tr>\n",
       "      <th>848</th>\n",
       "      <td>122885</td>\n",
       "      <td>Rina Ronja</td>\n",
       "      <td>Kari</td>\n",
       "      <td>Rina Ronja KARI</td>\n",
       "      <td>no</td>\n",
       "      <td>Denmark</td>\n",
       "      <td>Folkebevægelsen mod EU</td>\n",
       "      <td>GUE–NGL</td>\n",
       "      <td>2014-02-05</td>\n",
       "      <td>2014-12-31</td>\n",
       "    </tr>\n",
       "    <tr>\n",
       "      <th>849</th>\n",
       "      <td>123792</td>\n",
       "      <td>Giovanni</td>\n",
       "      <td>Barbagallo</td>\n",
       "      <td>Giovanni BARBAGALLO</td>\n",
       "      <td>no</td>\n",
       "      <td>Italy</td>\n",
       "      <td>Partito Democratico</td>\n",
       "      <td>S&amp;D</td>\n",
       "      <td>2014-03-11</td>\n",
       "      <td>2014-12-31</td>\n",
       "    </tr>\n",
       "    <tr>\n",
       "      <th>850</th>\n",
       "      <td>123816</td>\n",
       "      <td>Annette</td>\n",
       "      <td>Koewius</td>\n",
       "      <td>Annette KOEWIUS</td>\n",
       "      <td>no</td>\n",
       "      <td>Germany</td>\n",
       "      <td>Christlich Demokratische Union Deutschlands</td>\n",
       "      <td>EPP</td>\n",
       "      <td>2014-03-12</td>\n",
       "      <td>2014-12-31</td>\n",
       "    </tr>\n",
       "    <tr>\n",
       "      <th>851</th>\n",
       "      <td>37200</td>\n",
       "      <td>Katrin</td>\n",
       "      <td>Saks</td>\n",
       "      <td>Katrin SAKS</td>\n",
       "      <td>no</td>\n",
       "      <td>Estonia</td>\n",
       "      <td>Sotsiaaldemokraatlik Erakond</td>\n",
       "      <td>S&amp;D</td>\n",
       "      <td>2014-04-07</td>\n",
       "      <td>2014-12-31</td>\n",
       "    </tr>\n",
       "    <tr>\n",
       "      <th>852</th>\n",
       "      <td>124287</td>\n",
       "      <td>Christine</td>\n",
       "      <td>Revault d'Allonnes Bonnefoy</td>\n",
       "      <td>Christine REVAULT D'ALLONNES BONNEFOY</td>\n",
       "      <td>no</td>\n",
       "      <td>France</td>\n",
       "      <td>Parti socialiste</td>\n",
       "      <td>S&amp;D</td>\n",
       "      <td>2014-04-09</td>\n",
       "      <td>2014-12-31</td>\n",
       "    </tr>\n",
       "  </tbody>\n",
       "</table>\n",
       "<p>853 rows × 10 columns</p>\n",
       "</div>"
      ]
     },
     "execution_count": 45,
     "metadata": {},
     "output_type": "execute_result"
    }
   ],
   "execution_count": 45
  },
  {
   "metadata": {},
   "cell_type": "markdown",
   "source": "Melting votes into long format\n"
  },
  {
   "metadata": {
    "ExecuteTime": {
     "end_time": "2024-09-02T12:46:51.896119Z",
     "start_time": "2024-09-02T12:46:51.616136Z"
    }
   },
   "cell_type": "code",
   "source": [
    "\n",
    "mep_info = Final_df[filtered_list]\n",
    "vote_columns = [col for col in Final_df.columns if col not in filtered_list]\n",
    "melted_votes = pd.melt(Final_df, id_vars='MepId', value_vars=vote_columns, var_name='VoteId', value_name='Vote')\n"
   ],
   "outputs": [],
   "execution_count": 46
  },
  {
   "metadata": {
    "ExecuteTime": {
     "end_time": "2024-09-02T12:46:52.108652Z",
     "start_time": "2024-09-02T12:46:52.097965Z"
    }
   },
   "cell_type": "code",
   "source": [
    "mep_info_for_wnominate = mep_info[['FullName','EPG']]\n",
    "matrix_ep7_votes = Final_df[vote_columns]\n"
   ],
   "outputs": [],
   "execution_count": 47
  },
  {
   "metadata": {
    "ExecuteTime": {
     "end_time": "2024-09-02T12:46:57.554348Z",
     "start_time": "2024-09-02T12:46:52.686463Z"
    }
   },
   "cell_type": "code",
   "source": [
    "epg_df = hf.get_epgs()\n",
    "party_df = hf.get_parties()\n",
    "ep_df = hf.generate_ep_df(9)\n",
    "org_df = pd.concat([epg_df, party_df, ep_df], ignore_index=True)"
   ],
   "outputs": [],
   "execution_count": 48
  },
  {
   "metadata": {
    "ExecuteTime": {
     "end_time": "2024-09-02T12:46:57.560183Z",
     "start_time": "2024-09-02T12:46:57.557234Z"
    }
   },
   "cell_type": "code",
   "source": [
    "def get_memberships_df(mep_df, org_df):\n",
    "    with ThreadPoolExecutor() as executor:\n",
    "        futures = [executor.submit(hf.get_membership, identifier) for identifier in mep_df['MepId']]\n",
    "        results = [future.result() for future in as_completed(futures)]\n",
    "\n",
    "    memberships_df = pd.concat(results, ignore_index=True)\n",
    "    memberships_df.rename(columns={'organization': 'org_id'}, inplace=True)\n",
    "    memberships_df = pd.merge(memberships_df, org_df, on='org_id', how='left')\n",
    "    return memberships_df"
   ],
   "outputs": [],
   "execution_count": 49
  },
  {
   "metadata": {
    "ExecuteTime": {
     "end_time": "2024-09-02T12:48:04.989716Z",
     "start_time": "2024-09-02T12:46:57.593487Z"
    }
   },
   "cell_type": "code",
   "source": "memberships_df = get_memberships_df(mep_info,org_df)\n",
   "outputs": [],
   "execution_count": 50
  },
  {
   "metadata": {
    "ExecuteTime": {
     "end_time": "2024-09-02T12:48:05.034149Z",
     "start_time": "2024-09-02T12:48:05.030219Z"
    }
   },
   "cell_type": "code",
   "source": [
    "def get_mep_database(mep_df, memberships_df):\n",
    "    temp_df = mep_df.copy()\n",
    "    mep_df = mep_df.copy()\n",
    "    mep_df['MepId'] = temp_df['MepId'].astype(\"Int64\")\n",
    "    mep_df['Fname'] = temp_df['Fname'].astype(\"str\")\n",
    "    mep_df['Lname'] = temp_df['Lname'].astype(\"str\")\n",
    "    mep_df['FullName'] = temp_df['FullName'].astype(\"str\")\n",
    "    mep_df['Birthday'] = temp_df['MepId'].apply(hf.extract_birthday, df=memberships_df).astype(\"datetime64[ns]\")\n",
    "    mep_df['Gender'] = temp_df['MepId'].apply(hf.extract_gender, df=memberships_df).astype(\"str\")\n",
    "    mep_df['Country'] = temp_df['MepId'].apply(hf.get_country, df=memberships_df).astype(\"str\")\n",
    "    return mep_df"
   ],
   "outputs": [],
   "execution_count": 51
  },
  {
   "metadata": {
    "ExecuteTime": {
     "end_time": "2024-09-02T12:48:06.016209Z",
     "start_time": "2024-09-02T12:48:05.079069Z"
    }
   },
   "cell_type": "code",
   "source": "mep_info_db = get_mep_database(mep_info,memberships_df)\n",
   "outputs": [],
   "execution_count": 52
  },
  {
   "metadata": {
    "ExecuteTime": {
     "end_time": "2024-09-02T12:48:06.057374Z",
     "start_time": "2024-09-02T12:48:06.053987Z"
    }
   },
   "cell_type": "code",
   "source": [
    "\n",
    "votings_filtered_list = [\n",
    "\n",
    "    \"VoteId\" \n",
    "    ,\"Date\" \n",
    "    ,\"Title\"\n",
    "    ,\"TypeOfVote\"\n",
    "    ,\"Rapporteur\"\n",
    "    ,\"Link\"\n",
    "    ,\"CommitteeResponsabile\"\n",
    "    ,'Subject'\n",
    "    ,'FinalVote' \n",
    "    ,'AmNo'\n",
    "    ,'Author'\n",
    "    ,'Vote'   \n",
    "    ,'Yes'\n",
    "    ,'No' \n",
    "    ,'Abs']"
   ],
   "outputs": [],
   "execution_count": 53
  },
  {
   "metadata": {
    "ExecuteTime": {
     "end_time": "2024-09-02T12:48:06.100014Z",
     "start_time": "2024-09-02T12:48:06.095979Z"
    }
   },
   "cell_type": "code",
   "source": "votings = EP7_votations_columnsdropped[votings_filtered_list]\n",
   "outputs": [],
   "execution_count": 54
  },
  {
   "metadata": {
    "ExecuteTime": {
     "end_time": "2024-09-02T12:48:06.590009Z",
     "start_time": "2024-09-02T12:48:06.140543Z"
    }
   },
   "cell_type": "code",
   "source": "melted_votes.VoteId = melted_votes.VoteId.astype('Int64')",
   "outputs": [],
   "execution_count": 55
  },
  {
   "metadata": {},
   "cell_type": "markdown",
   "source": "Saving files to .csv"
  },
  {
   "metadata": {
    "ExecuteTime": {
     "end_time": "2024-09-02T12:48:06.635904Z",
     "start_time": "2024-09-02T12:48:06.632397Z"
    }
   },
   "cell_type": "code",
   "source": [
    "base_directory = os.path.join(\"Cleaned_data\",\"EP7_clean_data\")\n",
    "os.makedirs(base_directory, exist_ok=True)"
   ],
   "outputs": [],
   "execution_count": 56
  },
  {
   "metadata": {
    "ExecuteTime": {
     "end_time": "2024-09-02T12:48:07.454972Z",
     "start_time": "2024-09-02T12:48:06.676669Z"
    }
   },
   "cell_type": "code",
   "source": [
    "\n",
    "matrix_ep7_votes.to_csv(os.path.join(base_directory,\"matrix_ep7_votes.csv\"),index=False)\n",
    "mep_info_for_wnominate.to_csv(os.path.join(base_directory,\"mep_info_for_wnominate.csv\"),index=False)"
   ],
   "outputs": [],
   "execution_count": 57
  },
  {
   "metadata": {
    "ExecuteTime": {
     "end_time": "2024-09-02T12:48:09.757683Z",
     "start_time": "2024-09-02T12:48:07.495531Z"
    }
   },
   "cell_type": "code",
   "source": [
    "mep_info_db.to_csv(os.path.join(base_directory,\"mep_info_EP_7.csv\"),index=False)\n",
    "melted_votes.to_csv(os.path.join(base_directory,\"votes_EP_7.csv\"),index=False)\n",
    "votings.to_csv(os.path.join(base_directory,\"votations_EP_7.csv\"),index=False)\n",
    "memberships_df.to_csv(os.path.join(base_directory,\"memberships_EP_7.csv\"),index=False)"
   ],
   "outputs": [],
   "execution_count": 58
  },
  {
   "metadata": {
    "ExecuteTime": {
     "end_time": "2024-09-02T12:48:09.804534Z",
     "start_time": "2024-09-02T12:48:09.800056Z"
    }
   },
   "cell_type": "code",
   "source": "mep_info_db.MepId.value_counts()",
   "outputs": [
    {
     "data": {
      "text/plain": [
       "MepId\n",
       "124287    1\n",
       "96850     1\n",
       "96659     1\n",
       "96897     1\n",
       "28367     1\n",
       "         ..\n",
       "23938     1\n",
       "33775     1\n",
       "28161     1\n",
       "28292     1\n",
       "28114     1\n",
       "Name: count, Length: 853, dtype: Int64"
      ]
     },
     "execution_count": 59,
     "metadata": {},
     "output_type": "execute_result"
    }
   ],
   "execution_count": 59
  },
  {
   "metadata": {
    "ExecuteTime": {
     "end_time": "2024-09-02T12:26:50.746317500Z",
     "start_time": "2024-07-27T08:21:43.501001Z"
    }
   },
   "cell_type": "code",
   "source": "",
   "outputs": [],
   "execution_count": 54
  }
 ],
 "metadata": {
  "kernelspec": {
   "display_name": "Python 3",
   "language": "python",
   "name": "python3"
  },
  "language_info": {
   "codemirror_mode": {
    "name": "ipython",
    "version": 2
   },
   "file_extension": ".py",
   "mimetype": "text/x-python",
   "name": "python",
   "nbconvert_exporter": "python",
   "pygments_lexer": "ipython2",
   "version": "2.7.6"
  }
 },
 "nbformat": 4,
 "nbformat_minor": 0
}
