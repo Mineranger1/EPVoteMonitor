{
 "cells": [
  {
   "metadata": {},
   "cell_type": "code",
   "source": [
    "import pandas as pd \n",
    "import numpy as np\n",
    "import matplotlib.pyplot as plt\n",
    "import seaborn as sns\n",
    "import os"
   ],
   "id": "65dced4d505ad676",
   "outputs": [],
   "execution_count": null
  },
  {
   "metadata": {},
   "cell_type": "code",
   "source": "bd = 'Cleaned_data'",
   "id": "fc3d76785404b29c",
   "outputs": [],
   "execution_count": null
  },
  {
   "metadata": {},
   "cell_type": "code",
   "source": [
    "mep_info6 = pd.read_csv(os.path.join(bd,'EP6_clean_data','mep_info_EP_6.csv'))\n",
    "vote6 = pd.read_csv(os.path.join(bd,'EP6_clean_data','votes_EP_6.csv'))\n",
    "\n",
    "mep_info7 = pd.read_csv(os.path.join(bd,'EP7_clean_data','mep_info_EP_7.csv'))\n",
    "vote7 = pd.read_csv(os.path.join(bd,'EP7_clean_data','votes_EP_7.csv'))\n",
    "\n",
    "mep_info8 = pd.read_csv(os.path.join(bd,'EP8_clean_data','mep_info_EP_8.csv'))\n",
    "vote8 = pd.read_csv(os.path.join(bd,'EP8_clean_data','votes_EP_8.csv'))\n",
    "\n",
    "mep_info9 = pd.read_csv(os.path.join(bd,'EP9_clean_data','mep_info_EP_9.csv'))\n",
    "vote9 = pd.read_csv(os.path.join(bd,'EP9_clean_data','votes_EP_9.csv'))"
   ],
   "id": "535342e041add9d0",
   "outputs": [],
   "execution_count": null
  },
  {
   "metadata": {},
   "cell_type": "code",
   "source": [
    "\n",
    "all_unique_values = np.unique(vote9.values)"
   ],
   "id": "38ffadda08a4ac64",
   "outputs": [],
   "execution_count": null
  },
  {
   "metadata": {},
   "cell_type": "code",
   "source": [
    "\n",
    "choose_columns = ['MepId','Country','EPG','Gender']"
   ],
   "id": "583750d15ba1059a",
   "outputs": [],
   "execution_count": null
  },
  {
   "metadata": {},
   "cell_type": "code",
   "source": [
    "mep_info6 = mep_info6[choose_columns]\n",
    "vote6 = pd.merge(vote6,mep_info6,on=\"MepId\",how=\"left\")"
   ],
   "id": "f1f45e843a356bca",
   "outputs": [],
   "execution_count": null
  },
  {
   "metadata": {},
   "cell_type": "code",
   "source": [
    "mep_info7 = mep_info7[choose_columns]\n",
    "vote7 = pd.merge(vote7,mep_info7,on=\"MepId\",how=\"left\")"
   ],
   "id": "3104dcd1a336d789",
   "outputs": [],
   "execution_count": null
  },
  {
   "metadata": {},
   "cell_type": "code",
   "source": [
    "mep_info8 = mep_info8[choose_columns]\n",
    "vote8 = pd.merge(vote8,mep_info8,on=\"MepId\",how=\"left\")"
   ],
   "id": "11792c071520367e",
   "outputs": [],
   "execution_count": null
  },
  {
   "metadata": {},
   "cell_type": "code",
   "source": [
    "mep_info9 = mep_info9[choose_columns]\n",
    "vote9 = pd.merge(vote9,mep_info9,on=\"MepId\",how=\"left\")"
   ],
   "id": "4db641323ce75d71",
   "outputs": [],
   "execution_count": null
  },
  {
   "metadata": {},
   "cell_type": "code",
   "source": "vote9.Vote = vote9['Vote'].astype('Int64')",
   "id": "ab24211169738958",
   "outputs": [],
   "execution_count": null
  },
  {
   "metadata": {},
   "cell_type": "code",
   "source": [
    "def recode(vote):\n",
    "    match vote:\n",
    "        case 0:\n",
    "            return vote\n",
    "        case 1:\n",
    "            return vote\n",
    "        case 2:\n",
    "            return vote\n",
    "        case 3:\n",
    "            return vote\n",
    "        case 4:\n",
    "            return 4 \n",
    "        case 5:\n",
    "            return 4\n",
    "        case 6:\n",
    "            return 4\n",
    "    return 0"
   ],
   "id": "37846bfb99507472",
   "outputs": [],
   "execution_count": null
  },
  {
   "metadata": {},
   "cell_type": "code",
   "source": [
    "vote6.Vote = vote6['Vote'].apply(recode)\n",
    "vote7.Vote = vote7['Vote'].apply(recode)\n",
    "vote8.Vote = vote8['Vote'].apply(recode)\n",
    "vote9.Vote = vote9['Vote'].apply(recode)"
   ],
   "id": "c9888cd399702051",
   "outputs": [],
   "execution_count": null
  },
  {
   "metadata": {},
   "cell_type": "code",
   "source": "vote6['Gender'] = vote6['Gender'].apply(lambda x: 'MALE' if x == 'NAP' else x)",
   "id": "7668a63a5b9ea9c6",
   "outputs": [],
   "execution_count": null
  },
  {
   "metadata": {},
   "cell_type": "code",
   "source": [
    "vote6.to_csv(os.path.join('Results','votes_plotly_6.csv'),index=False)\n",
    "vote7.to_csv(os.path.join('Results','votes_plotly_7.csv'),index=False)\n",
    "vote8.to_csv(os.path.join('Results','votes_plotly_8.csv'),index=False)\n",
    "vote9.to_csv(os.path.join('Results','votes_plotly_9.csv'),index=False)"
   ],
   "id": "4bd44573064401a7",
   "outputs": [],
   "execution_count": null
  },
  {
   "metadata": {},
   "cell_type": "code",
   "source": [
    "vote6missing = vote6[vote6.Vote == 4]\n",
    "vote7missing = vote7[vote7.Vote == 4]\n",
    "vote8missing = vote8[vote8.Vote == 4]\n",
    "vote9missing = vote9[vote9.Vote == 4]"
   ],
   "id": "f0d138508138123f",
   "outputs": [],
   "execution_count": null
  },
  {
   "metadata": {},
   "cell_type": "code",
   "source": [
    "value_counts6 = vote6missing['EPG'].value_counts()\n",
    "value_counts7 = vote7missing['EPG'].value_counts()\n",
    "value_counts8 = vote8missing['EPG'].value_counts()\n",
    "value_counts9 = vote9missing['EPG'].value_counts()"
   ],
   "id": "3898b6012c1456a5",
   "outputs": [],
   "execution_count": null
  },
  {
   "metadata": {},
   "cell_type": "code",
   "source": [
    "def proportions_plot(df, ep_number):\n",
    "    epg_counts = df['EPG'].value_counts()\n",
    "    epg_4_votes = df[df['Vote'] == 4]['EPG'].value_counts()\n",
    "    proportions = epg_4_votes / epg_counts\n",
    "\n",
    "    # Plot\n",
    "    plt.figure(figsize=(10, 6))\n",
    "    proportions.plot(kind='bar')\n",
    "    plt.title(f\"Proportion of missing votes by EPG in EP{ep_number}\")\n",
    "    plt.xlabel('EPG')\n",
    "    plt.ylabel('Proportion of missing votes')\n",
    "    plt.savefig(os.path.join('Graphs',f'proportion_of_missing_votes_by_EPG_EP{ep_number}.png'))\n",
    "    plt.show()"
   ],
   "id": "3992f03ba504d6c4",
   "outputs": [],
   "execution_count": null
  },
  {
   "metadata": {},
   "cell_type": "code",
   "source": [
    "def genders_plot(df, ep_number):\n",
    "    epg_counts = df['Gender'].value_counts()\n",
    "    epg_4_votes = df[df['Vote'] == 4]['Gender'].value_counts()\n",
    "    proportions = epg_4_votes / epg_counts\n",
    "\n",
    "    # Plot\n",
    "    plt.figure(figsize=(10, 10)\n",
    "    proportions.plot(kind='bar')\n",
    "    plt.title(f\"Proportion of missing votes by EPG in EP{ep_number}\")\n",
    "    plt.xlabel('Gender')\n",
    "    plt.ylabel('Proportion of missing votes')\n",
    "    plt.savefig(os.path.join('Graphs',f'proportion_of_missing_votes_by_gender_EP{ep_number}.png'))\n",
    "    plt.show()"
   ],
   "id": "17be5973a8f3cb1d",
   "outputs": [],
   "execution_count": null
  },
  {
   "metadata": {},
   "cell_type": "code",
   "source": [
    "def countries_plot(df, ep_number):\n",
    "    epg_counts = df['Country'].value_counts()\n",
    "    epg_4_votes = df[df['Vote'] == 4]['Country'].value_counts()\n",
    "    proportions = epg_4_votes / epg_counts\n",
    "\n",
    "    # Plot\n",
    "    plt.figure(figsize=(10, 6))\n",
    "    proportions.plot(kind='bar')\n",
    "    plt.title(f\"Proportion of missing votes by country in EP{ep_number}\")\n",
    "    plt.xlabel('Country')\n",
    "    plt.ylabel('Proportion of missing votes')\n",
    "    plt.savefig(os.path.join('Graphs',f'proportion_of_missing_votes_by_country_EP{ep_number}.png'))\n",
    "    plt.show()"
   ],
   "id": "c94cfb51ba00512b",
   "outputs": [],
   "execution_count": null
  },
  {
   "metadata": {},
   "cell_type": "code",
   "source": [
    "proportions_plot(vote6,6)\n",
    "proportions_plot(vote7,7)\n",
    "proportions_plot(vote8,8)\n",
    "proportions_plot(vote9,9)\n"
   ],
   "id": "364ab8651287d453",
   "outputs": [],
   "execution_count": null
  },
  {
   "metadata": {},
   "cell_type": "code",
   "source": [
    "genders_plot(vote6,6)\n",
    "genders_plot(vote7,7)\n",
    "genders_plot(vote8,8)\n",
    "genders_plot(vote9,9)"
   ],
   "id": "4415e0c775932ecf",
   "outputs": [],
   "execution_count": null
  },
  {
   "metadata": {},
   "cell_type": "code",
   "source": [
    "countries_plot(vote6,6)\n",
    "countries_plot(vote7,7)\n",
    "countries_plot(vote8,8)\n",
    "countries_plot(vote9,9)"
   ],
   "id": "1a0192852bafb53",
   "outputs": [],
   "execution_count": null
  },
  {
   "metadata": {},
   "cell_type": "code",
   "source": [
    "def heatmap(df, ep_number):\n",
    "    \n",
    "    df['MissingVote'] = df['Vote'] == 4\n",
    "    pivot_table = pd.pivot_table(df, values='MissingVote', index='Gender', columns='EPG', aggfunc=np.mean)\n",
    "\n",
    "    # Plotting the heatmap\n",
    "    plt.figure(figsize=(12, 8))\n",
    "    sns.heatmap(pivot_table, annot=True, cmap='YlGnBu', fmt='.2f')\n",
    "    plt.title(f'Proportion of Missing Votes by Gender and EPG in EP{ep_number}')\n",
    "    plt.savefig(os.path.join('Graphs',f'heatmap_proportion_of_missing_votes_by_gender_and_epg_EP{ep_number}.png'))\n",
    "    plt.show()"
   ],
   "id": "22b96b1cba17a805",
   "outputs": [],
   "execution_count": null
  },
  {
   "metadata": {},
   "cell_type": "code",
   "source": [
    "def heatmap_country(df, ep_number):\n",
    "    \n",
    "    df['MissingVote'] = df['Vote'] == 4\n",
    "    pivot_table = pd.pivot_table(df, values='MissingVote', index='Country', columns='EPG', aggfunc=np.mean)\n",
    "\n",
    "    # Plotting the heatmap\n",
    "    plt.figure(figsize=(12, 8))\n",
    "    sns.heatmap(pivot_table, annot=True, cmap='YlGnBu', fmt='.2f')\n",
    "    plt.title(f'Proportion of Missing Votes by Country and EPG in EP{ep_number}')\n",
    "    plt.savefig(os.path.join('Graphs',f'heatmap_proportion_of_missing_votes_by_country_and_epg_EP{ep_number}.png'))\n",
    "\n",
    "    plt.show()"
   ],
   "id": "9fdbbcdfe1f40d9f",
   "outputs": [],
   "execution_count": null
  },
  {
   "metadata": {},
   "cell_type": "code",
   "source": [
    "heatmap(vote6,6)\n",
    "heatmap(vote7,7)\n",
    "heatmap(vote8,8)\n",
    "heatmap(vote9,9)"
   ],
   "id": "762c99b7793ac610",
   "outputs": [],
   "execution_count": null
  },
  {
   "metadata": {},
   "cell_type": "code",
   "source": [
    "heatmap_country(vote6,6)\n",
    "heatmap_country(vote7,7)\n",
    "heatmap_country(vote8,8)\n",
    "heatmap_country(vote9,9)"
   ],
   "id": "a20e7b663d0d540a",
   "outputs": [],
   "execution_count": null
  }
 ],
 "metadata": {
  "kernelspec": {
   "display_name": "Python 3",
   "language": "python",
   "name": "python3"
  },
  "language_info": {
   "codemirror_mode": {
    "name": "ipython",
    "version": 2
   },
   "file_extension": ".py",
   "mimetype": "text/x-python",
   "name": "python",
   "nbconvert_exporter": "python",
   "pygments_lexer": "ipython2",
   "version": "2.7.6"
  }
 },
 "nbformat": 4,
 "nbformat_minor": 5
}
